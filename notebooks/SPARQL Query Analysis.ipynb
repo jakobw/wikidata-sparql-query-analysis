{
 "cells": [
  {
   "cell_type": "code",
   "execution_count": 1,
   "metadata": {},
   "outputs": [],
   "source": [
    "const namespaces = require('./namespaces')\n",
    "const sparqljs = require('sparqljs')\n",
    "const parser = new sparqljs.Parser(namespaces)\n",
    "\n",
    "const eachFileInDir = require('./eachFileInDir')\n",
    "\n",
    "const EN_SPARQL = 'data/sparql_queries_enwiki'\n",
    "const DE_SPARQL = 'data/sparql_queries_dewiki'"
   ]
  },
  {
   "cell_type": "markdown",
   "metadata": {
    "collapsed": true
   },
   "source": [
    "## Count SELECTs (silly)"
   ]
  },
  {
   "cell_type": "code",
   "execution_count": 2,
   "metadata": {},
   "outputs": [
    {
     "data": {
      "text/plain": [
       "Promise { <pending> }"
      ]
     },
     "execution_count": 2,
     "metadata": {},
     "output_type": "execute_result"
    },
    {
     "name": "stdout",
     "output_type": "stream",
     "text": [
      "997 997\n"
     ]
    }
   ],
   "source": [
    "var occurences = 0\n",
    "var total = 0\n",
    "\n",
    "eachFileInDir(EN_SPARQL, (query, resolve) => {\n",
    "    if (query.toLowerCase().includes('select')) occurences++\n",
    "    total++\n",
    "    \n",
    "    resolve()\n",
    "}).then(() => {\n",
    "    console.log(total, occurences)\n",
    "})"
   ]
  },
  {
   "cell_type": "markdown",
   "metadata": {},
   "source": [
    "## Count FILTERs"
   ]
  },
  {
   "cell_type": "code",
   "execution_count": 3,
   "metadata": {},
   "outputs": [
    {
     "data": {
      "text/plain": [
       "Promise { <pending> }"
      ]
     },
     "execution_count": 3,
     "metadata": {},
     "output_type": "execute_result"
    },
    {
     "name": "stdout",
     "output_type": "stream",
     "text": [
      "992 144\n"
     ]
    }
   ],
   "source": [
    "var occurences = 0\n",
    "var total = 0\n",
    "\n",
    "eachFileInDir(EN_SPARQL, (query, resolve) => {\n",
    "    const parsedQuery = parser.parse(query)\n",
    "    const hasOptional = parsedQuery.where.some((clause) => {\n",
    "        return clause.type === 'optional'\n",
    "    })\n",
    "    if (hasOptional) occurences++\n",
    "    total++\n",
    "    \n",
    "    resolve()\n",
    "}).then(() => {\n",
    "    console.log(total, occurences)\n",
    "})"
   ]
  }
 ],
 "metadata": {
  "kernelspec": {
   "display_name": "Javascript (Node.js)",
   "language": "javascript",
   "name": "javascript"
  },
  "language_info": {
   "file_extension": ".js",
   "mimetype": "application/javascript",
   "name": "javascript",
   "version": "6.11.0"
  }
 },
 "nbformat": 4,
 "nbformat_minor": 2
}
