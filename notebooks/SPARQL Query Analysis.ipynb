{
 "cells": [
  {
   "cell_type": "code",
   "execution_count": 1,
   "metadata": {
    "collapsed": true
   },
   "outputs": [],
   "source": [
    "const _ = require('lodash')\n",
    "const traverse = require('traverse')\n",
    "const sparqljs = require('sparqljs')\n",
    "\n",
    "const eachFileInDir = require('./eachFileInDir')\n",
    "const countInQueries = require('./countInQueries')\n",
    "const namespaces = require('./namespaces')\n",
    "const parser = new sparqljs.Parser(namespaces)\n",
    "const Query = require('./Query')\n",
    "\n",
    "const EN_SPARQL = 'data/sparql_queries_enwiki'\n",
    "const DE_SPARQL = 'data/sparql_queries_dewiki'"
   ]
  },
  {
   "cell_type": "markdown",
   "metadata": {
    "collapsed": true
   },
   "source": [
    "## Valid Queries"
   ]
  },
  {
   "cell_type": "code",
   "execution_count": 2,
   "metadata": {},
   "outputs": [
    {
     "name": "stdout",
     "output_type": "stream",
     "text": [
      "data/sparql_queries_dewiki 669 669\n",
      "data/sparql_queries_enwiki 992 992\n"
     ]
    }
   ],
   "source": [
    "var isValidQuery = (query) => {\n",
    "    return true // will internally throw an exception when parsed\n",
    "}\n",
    "\n",
    "countInQueries(EN_SPARQL, isValidQuery)\n",
    "countInQueries(DE_SPARQL, isValidQuery)"
   ]
  },
  {
   "cell_type": "markdown",
   "metadata": {},
   "source": [
    "## OPTIONAL"
   ]
  },
  {
   "cell_type": "code",
   "execution_count": 3,
   "metadata": {},
   "outputs": [
    {
     "name": "stdout",
     "output_type": "stream",
     "text": [
      "data/sparql_queries_dewiki 669 40\n",
      "data/sparql_queries_enwiki 992 144\n"
     ]
    }
   ],
   "source": [
    "var hasOptional = (query) => {\n",
    "    return query.traverse().reduce(function(acc, node) {\n",
    "        return acc || this.notLeaf && node.type === 'optional'\n",
    "    }, false)\n",
    "}\n",
    "countInQueries(EN_SPARQL, hasOptional)\n",
    "countInQueries(DE_SPARQL, hasOptional)"
   ]
  },
  {
   "cell_type": "markdown",
   "metadata": {},
   "source": [
    "## FILTER"
   ]
  },
  {
   "cell_type": "code",
   "execution_count": 4,
   "metadata": {},
   "outputs": [
    {
     "name": "stdout",
     "output_type": "stream",
     "text": [
      "data/sparql_queries_dewiki 669 51\n",
      "data/sparql_queries_enwiki 992 375\n"
     ]
    }
   ],
   "source": [
    "var hasFilter = (query) => {\n",
    "    return query.traverse().reduce(function(acc, node) {\n",
    "        return acc || this.notLeaf && node.type === 'filter'\n",
    "    }, false)\n",
    "}\n",
    "countInQueries(EN_SPARQL, hasFilter)\n",
    "countInQueries(DE_SPARQL, hasFilter)"
   ]
  },
  {
   "cell_type": "markdown",
   "metadata": {},
   "source": [
    "## ORDER BY"
   ]
  },
  {
   "cell_type": "code",
   "execution_count": 5,
   "metadata": {},
   "outputs": [
    {
     "name": "stdout",
     "output_type": "stream",
     "text": [
      "data/sparql_queries_dewiki 669 27\n",
      "data/sparql_queries_enwiki 992 98\n"
     ]
    }
   ],
   "source": [
    "var hasOrderBy = (query) => {\n",
    "    return query.getParsed().order\n",
    "}\n",
    "countInQueries(EN_SPARQL, hasOrderBy)\n",
    "countInQueries(DE_SPARQL, hasOrderBy)"
   ]
  },
  {
   "cell_type": "markdown",
   "metadata": {},
   "source": [
    "## DISTINCT"
   ]
  },
  {
   "cell_type": "code",
   "execution_count": 6,
   "metadata": {},
   "outputs": [
    {
     "name": "stdout",
     "output_type": "stream",
     "text": [
      "data/sparql_queries_dewiki 669 33\n",
      "data/sparql_queries_enwiki 992 46\n"
     ]
    }
   ],
   "source": [
    "var hasDistinct = (query) => {\n",
    "    return query.getParsed().distinct\n",
    "}\n",
    "countInQueries(EN_SPARQL, hasDistinct)\n",
    "countInQueries(DE_SPARQL, hasDistinct)"
   ]
  },
  {
   "cell_type": "markdown",
   "metadata": {},
   "source": [
    "## GROUP BY"
   ]
  },
  {
   "cell_type": "code",
   "execution_count": 7,
   "metadata": {},
   "outputs": [
    {
     "name": "stdout",
     "output_type": "stream",
     "text": [
      "data/sparql_queries_dewiki 669 14\n",
      "data/sparql_queries_enwiki 992 76\n"
     ]
    }
   ],
   "source": [
    "var hasGroupBy = (query) => {\n",
    "    return query.getParsed().group\n",
    "}\n",
    "countInQueries(EN_SPARQL, hasGroupBy)\n",
    "countInQueries(DE_SPARQL, hasGroupBy)"
   ]
  },
  {
   "cell_type": "markdown",
   "metadata": {},
   "source": [
    "## VALUES"
   ]
  },
  {
   "cell_type": "code",
   "execution_count": 8,
   "metadata": {},
   "outputs": [
    {
     "name": "stdout",
     "output_type": "stream",
     "text": [
      "data/sparql_queries_dewiki 669 13\n",
      "data/sparql_queries_enwiki 992 57\n"
     ]
    }
   ],
   "source": [
    "var hasValues = (query) => {\n",
    "    return query.traverse().reduce(function(acc, node) {\n",
    "        return acc || this.notLeaf && node.type === 'values'\n",
    "    }, false)\n",
    "}\n",
    "countInQueries(EN_SPARQL, hasValues)\n",
    "countInQueries(DE_SPARQL, hasValues)"
   ]
  },
  {
   "cell_type": "markdown",
   "metadata": {},
   "source": [
    "## UNION"
   ]
  },
  {
   "cell_type": "code",
   "execution_count": 9,
   "metadata": {},
   "outputs": [
    {
     "name": "stdout",
     "output_type": "stream",
     "text": [
      "data/sparql_queries_dewiki 669 148\n",
      "data/sparql_queries_enwiki 992 86\n"
     ]
    }
   ],
   "source": [
    "var hasUnion = (query) => {\n",
    "    return query.traverse().reduce(function(acc, node) {\n",
    "        return acc || this.notLeaf && node.type === 'union'\n",
    "    }, false)\n",
    "}\n",
    "countInQueries(EN_SPARQL, hasUnion)\n",
    "countInQueries(DE_SPARQL, hasUnion)"
   ]
  },
  {
   "cell_type": "markdown",
   "metadata": {},
   "source": [
    "## MINUS"
   ]
  },
  {
   "cell_type": "code",
   "execution_count": 10,
   "metadata": {},
   "outputs": [
    {
     "name": "stdout",
     "output_type": "stream",
     "text": [
      "data/sparql_queries_dewiki 669 16\n",
      "data/sparql_queries_enwiki 992 32\n"
     ]
    }
   ],
   "source": [
    "var hasMinus = (query) => {\n",
    "    return query.traverse().reduce(function(acc, node) {\n",
    "        return acc || this.notLeaf && node.type === 'minus'\n",
    "    }, false)\n",
    "}\n",
    "countInQueries(EN_SPARQL, hasMinus)\n",
    "countInQueries(DE_SPARQL, hasMinus)"
   ]
  },
  {
   "cell_type": "markdown",
   "metadata": {},
   "source": [
    "## Subqueries"
   ]
  },
  {
   "cell_type": "code",
   "execution_count": 11,
   "metadata": {},
   "outputs": [
    {
     "name": "stdout",
     "output_type": "stream",
     "text": [
      "data/sparql_queries_dewiki 669 23\n",
      "data/sparql_queries_enwiki 992 16\n"
     ]
    }
   ],
   "source": [
    "var hasSubQuery = (query) => {\n",
    "    return query.traverse().reduce(function(acc, node) {\n",
    "        return acc || this.level > 0 && this.notLeaf && node.type === 'query'\n",
    "    }, false)\n",
    "}\n",
    "countInQueries(EN_SPARQL, hasSubQuery)\n",
    "countInQueries(DE_SPARQL, hasSubQuery)"
   ]
  },
  {
   "cell_type": "markdown",
   "metadata": {},
   "source": [
    "## Multiple Subject Queries"
   ]
  },
  {
   "cell_type": "code",
   "execution_count": 12,
   "metadata": {},
   "outputs": [
    {
     "name": "stdout",
     "output_type": "stream",
     "text": [
      "data/sparql_queries_dewiki 669 99\n",
      "data/sparql_queries_enwiki 992 430\n"
     ]
    }
   ],
   "source": [
    "var hasMultipleSubjects = (query) => {\n",
    "    const objects = query.getObjects()\n",
    "    \n",
    "    return query.getSubjects().some((subject) => {\n",
    "        return typeof subject === 'string' && subject.startsWith('?') && objects.includes(subject)\n",
    "    })\n",
    "}\n",
    "countInQueries(EN_SPARQL, hasMultipleSubjects)\n",
    "countInQueries(DE_SPARQL, hasMultipleSubjects)"
   ]
  },
  {
   "cell_type": "markdown",
   "metadata": {},
   "source": [
    "## Property Path"
   ]
  },
  {
   "cell_type": "code",
   "execution_count": 13,
   "metadata": {},
   "outputs": [
    {
     "name": "stdout",
     "output_type": "stream",
     "text": [
      "data/sparql_queries_dewiki 669 531\n",
      "data/sparql_queries_enwiki 992 113\n"
     ]
    }
   ],
   "source": [
    "var hasPropertyPath = (query) => {\n",
    "    return query.getPredicates().some(predicate => predicate.type === 'path')\n",
    "}\n",
    "countInQueries(EN_SPARQL, hasPropertyPath)\n",
    "countInQueries(DE_SPARQL, hasPropertyPath)"
   ]
  },
  {
   "cell_type": "markdown",
   "metadata": {},
   "source": [
    "## Object Variable Referencing (TODO: how is this really called?)"
   ]
  },
  {
   "cell_type": "code",
   "execution_count": 14,
   "metadata": {},
   "outputs": [
    {
     "name": "stdout",
     "output_type": "stream",
     "text": [
      "data/sparql_queries_dewiki 669 477\n",
      "data/sparql_queries_enwiki 992 256\n"
     ]
    }
   ],
   "source": [
    "// This is about queries with object variables that are references as objects in another triple.\n",
    "// This functionality is needed for cyclic links to answer questions like \"What movies have actors starring together with their children?\n",
    "\n",
    "var hasObjectReference = (query) => {\n",
    "    const objectCounts = _.countBy(query.getObjects(), _.identity)\n",
    "    return _.size(_.pickBy(objectCounts, (count, obj) => count > 1 && _.startsWith(obj, '?'))) > 0\n",
    "}\n",
    "countInQueries(EN_SPARQL, hasObjectReference)\n",
    "countInQueries(DE_SPARQL, hasObjectReference)"
   ]
  },
  {
   "cell_type": "markdown",
   "metadata": {},
   "source": [
    "## Relevant Object Variable References"
   ]
  },
  {
   "cell_type": "code",
   "execution_count": 15,
   "metadata": {},
   "outputs": [
    {
     "name": "stdout",
     "output_type": "stream",
     "text": [
      "data/sparql_queries_dewiki 669 465\n",
      "data/sparql_queries_enwiki 992 17\n"
     ]
    }
   ],
   "source": [
    "var hasRelevantObjectReference = (query) => {\n",
    "    const objectCounts = _.countBy(query.getObjects(), _.identity)\n",
    "    const referencedObjects = _.pickBy(objectCounts, (count, obj) => count > 1 && _.startsWith(obj, '?'))\n",
    "    const predicatesWithObj = query.traverse().reduce(function(acc, node) {\n",
    "\n",
    "      if (typeof node == 'object' && node.object && referencedObjects[node.object]) acc.push(node.predicate)\n",
    "\n",
    "      return acc\n",
    "    }, [])\n",
    "    const relevantPredicatesWithObj = predicatesWithObj.filter(predicate => {\n",
    "        return traverse(predicate).reduce((acc, node) => {\n",
    "            return acc || typeof node === 'string' && node.includes('http://www.wikidata.org/prop/direct/')\n",
    "        }, false)\n",
    "    })\n",
    "    \n",
    "    \n",
    "    return _.size(relevantPredicatesWithObj) > 1\n",
    "}\n",
    "countInQueries(EN_SPARQL, hasRelevantObjectReference)\n",
    "countInQueries(DE_SPARQL, hasRelevantObjectReference)"
   ]
  },
  {
   "cell_type": "markdown",
   "metadata": {},
   "source": [
    "## wdt:P31/wdt:P279*"
   ]
  },
  {
   "cell_type": "code",
   "execution_count": 16,
   "metadata": {},
   "outputs": [
    {
     "name": "stdout",
     "output_type": "stream",
     "text": [
      "data/sparql_queries_dewiki 669 25\n",
      "data/sparql_queries_enwiki 992 22\n"
     ]
    }
   ],
   "source": [
    "var hasInstanceOfSubclassOf = (query) => {\n",
    "    return query.getPredicates().some(predicate => {\n",
    "        return ( predicate.type === 'path'\n",
    "            && predicate.pathType === '/'\n",
    "            && predicate.items[0] === 'http://www.wikidata.org/prop/direct/P31'\n",
    "            && predicate.items[1].pathType === '*'\n",
    "            && predicate.items[1].items[0] === 'http://www.wikidata.org/prop/direct/P279' )\n",
    "    })\n",
    "}\n",
    "countInQueries(EN_SPARQL, hasInstanceOfSubclassOf)\n",
    "countInQueries(DE_SPARQL, hasInstanceOfSubclassOf)"
   ]
  },
  {
   "cell_type": "markdown",
   "metadata": {},
   "source": [
    "## wdt:P279*"
   ]
  },
  {
   "cell_type": "code",
   "execution_count": 17,
   "metadata": {},
   "outputs": [
    {
     "name": "stdout",
     "output_type": "stream",
     "text": [
      "data/sparql_queries_dewiki 669 74\n",
      "data/sparql_queries_enwiki 992 68\n"
     ]
    }
   ],
   "source": [
    "var hasSubclassOf = function hasSubclassOf(predicate) {\n",
    "    if (predicate.type !== 'path') return false\n",
    "    if (predicate.pathType === '*' && predicate.items.includes('http://www.wikidata.org/prop/direct/P279')) {\n",
    "        return true\n",
    "    }\n",
    "    \n",
    "    return predicate.items.reduce((any, predicate) => { return any || hasSubclassOf(predicate) }, false)\n",
    "}\n",
    "var hasInstanceOfSubclassOf = (query) => {\n",
    "    return query.getPredicates().some(hasSubclassOf)\n",
    "}\n",
    "countInQueries(EN_SPARQL, hasInstanceOfSubclassOf)\n",
    "countInQueries(DE_SPARQL, hasInstanceOfSubclassOf)"
   ]
  },
  {
   "cell_type": "markdown",
   "metadata": {},
   "source": [
    "## Use of Qualifiers"
   ]
  },
  {
   "cell_type": "code",
   "execution_count": 18,
   "metadata": {},
   "outputs": [
    {
     "name": "stdout",
     "output_type": "stream",
     "text": [
      "data/sparql_queries_dewiki 669 22\n",
      "data/sparql_queries_enwiki 992 37\n"
     ]
    }
   ],
   "source": [
    "var hasQualifiers = (query) => {\n",
    "    return query.getRaw().includes('pq:P')\n",
    "}\n",
    "\n",
    "countInQueries(EN_SPARQL, hasQualifiers)\n",
    "countInQueries(DE_SPARQL, hasQualifiers)"
   ]
  },
  {
   "cell_type": "markdown",
   "metadata": {},
   "source": [
    "## Use of References"
   ]
  },
  {
   "cell_type": "code",
   "execution_count": 19,
   "metadata": {},
   "outputs": [
    {
     "name": "stdout",
     "output_type": "stream",
     "text": [
      "data/sparql_queries_dewiki 669 0\n",
      "data/sparql_queries_enwiki 992 4\n"
     ]
    }
   ],
   "source": [
    "var hasReferences = (query) => {\n",
    "    return query.getRaw().includes('pr:P')\n",
    "}\n",
    "\n",
    "countInQueries(EN_SPARQL, hasReferences)\n",
    "countInQueries(DE_SPARQL, hasReferences)"
   ]
  },
  {
   "cell_type": "code",
   "execution_count": 20,
   "metadata": {},
   "outputs": [
    {
     "data": {
      "text/plain": [
       "Promise { <pending> }"
      ]
     },
     "execution_count": 20,
     "metadata": {},
     "output_type": "execute_result"
    },
    {
     "name": "stdout",
     "output_type": "stream",
     "text": [
      "[ [ 'wikibase:label', 13 ],\n",
      "  [ 'wikibase:language', 13 ],\n",
      "  [ 'wikibase:rank', 9 ],\n",
      "  [ 'wikibase:DeprecatedRank', 9 ],\n",
      "  [ 'wikibase:around', 6 ] ]\n"
     ]
    }
   ],
   "source": [
    "var predicates = {}\n",
    "\n",
    "eachFileInDir(DE_SPARQL, (query, resolve) => {\n",
    "    var wikibasePredicates = query.match(/wikibase:\\w+/g)\n",
    "    if (wikibasePredicates) wikibasePredicates.forEach((predicate) => {\n",
    "        if (predicates[predicate]) predicates[predicate]++\n",
    "        else predicates[predicate] = 1\n",
    "    })\n",
    "    resolve()\n",
    "}).then(() => {\n",
    "    var tuples = []\n",
    "    for (var predicate in predicates) tuples.push([predicate, predicates[predicate]])\n",
    "    console.log(tuples.sort((a, b) => b[1] - a[1]).slice(0, 5))\n",
    "})"
   ]
  },
  {
   "cell_type": "markdown",
   "metadata": {
    "collapsed": true
   },
   "source": [
    "## Features per Query"
   ]
  },
  {
   "cell_type": "code",
   "execution_count": 21,
   "metadata": {},
   "outputs": [
    {
     "data": {
      "text/plain": [
       "Promise { <pending> }"
      ]
     },
     "execution_count": 21,
     "metadata": {},
     "output_type": "execute_result"
    },
    {
     "name": "stdout",
     "output_type": "stream",
     "text": [
      "[ 432, 101, 222, 103, 79, 40, 9, 4, 2, 0, 0, 0 ]\n"
     ]
    }
   ],
   "source": [
    "var allFeatures = [\n",
    "    hasOptional, hasFilter, hasOrderBy,\n",
    "    hasValues, hasUnion, hasMinus,\n",
    "    hasSubQuery, hasMultipleSubjects, hasPropertyPath,\n",
    "    hasSubclassOf, hasQualifiers, hasReferences,\n",
    "    hasGroupBy\n",
    "]\n",
    "var featuresPerQuery = (new Array(12)).fill(0)\n",
    "\n",
    "eachFileInDir(EN_SPARQL, (query, resolve) => {\n",
    "    let features = 0\n",
    "    allFeatures.forEach((hasFeature) => {\n",
    "        if (hasFeature(new Query(query, parser.parse(query)))) features++\n",
    "    })\n",
    "    featuresPerQuery[features]++\n",
    "    resolve()\n",
    "}).then(() => {\n",
    "    console.log(featuresPerQuery)\n",
    "})\n",
    "\n",
    "// EN: [ 432, 111, 248, 117, 71, 9, 3, 1, 0, 0, 0, 0 ]\n",
    "// DE: [ 85,  451,  74,  40,  7, 3, 0, 9, 0, 0, 0, 0 ]\n",
    "\n",
    "// Updated\n",
    "// EN: [ 432, 101, 222, 103, 79, 40, 9, 4, 2, 0, 0, 0 ]\n",
    "// DE: [ 84, 343, 170, 27, 26, 7, 3, 9, 0, 0, 0, 0 ]"
   ]
  },
  {
   "cell_type": "markdown",
   "metadata": {
    "collapsed": true
   },
   "source": [
    "## Finding a subset of features that is sufficient for most queries"
   ]
  },
  {
   "cell_type": "code",
   "execution_count": 22,
   "metadata": {},
   "outputs": [
    {
     "name": "stdout",
     "output_type": "stream",
     "text": [
      "data/sparql_queries_dewiki 669 129\n",
      "data/sparql_queries_enwiki 992 797\n"
     ]
    }
   ],
   "source": [
    "var allFeatures = [\n",
    "    hasOptional, hasFilter, hasOrderBy,\n",
    "    hasValues, hasUnion, hasMinus,\n",
    "    hasSubQuery, hasMultipleSubjects, hasPropertyPath,\n",
    "    hasSubclassOf, hasQualifiers, hasReferences,\n",
    "    hasGroupBy\n",
    "]\n",
    "var subset = [\n",
    "    hasOptional, hasFilter, hasMultipleSubjects,\n",
    "    hasQualifiers, hasValues, hasOrderBy,\n",
    "    hasUnion\n",
    "];\n",
    "var queriesProduceable = 0\n",
    "\n",
    "var isProduceableWithSubset = (query) => {\n",
    "    let featuresUsed = 0\n",
    "    let subsetFeaturesUsed = 0\n",
    "\n",
    "    allFeatures.forEach((hasFeature) => {\n",
    "        if (hasFeature(query)) featuresUsed++\n",
    "    })\n",
    "    subset.forEach((hasFeature) => {\n",
    "        if (hasFeature(query)) subsetFeaturesUsed++\n",
    "    })\n",
    "    \n",
    "    return featuresUsed === subsetFeaturesUsed\n",
    "}\n",
    "\n",
    "countInQueries(EN_SPARQL, isProduceableWithSubset)\n",
    "countInQueries(DE_SPARQL, isProduceableWithSubset)"
   ]
  },
  {
   "cell_type": "markdown",
   "metadata": {
    "collapsed": true
   },
   "source": [
    "## Queries with Wikidata-URI subjects (not variables)"
   ]
  },
  {
   "cell_type": "code",
   "execution_count": 23,
   "metadata": {},
   "outputs": [
    {
     "name": "stdout",
     "output_type": "stream",
     "text": [
      "data/sparql_queries_dewiki 669 0\n",
      "data/sparql_queries_enwiki 992 2\n"
     ]
    }
   ],
   "source": [
    "var hasURISubject = (query) => {\n",
    "    return query.getSubjects().some(subject => subject.startsWith('http://www.wikidata.org/entity/Q'))\n",
    "}\n",
    "\n",
    "countInQueries(EN_SPARQL, hasURISubject)\n",
    "countInQueries(DE_SPARQL, hasURISubject)"
   ]
  },
  {
   "cell_type": "code",
   "execution_count": null,
   "metadata": {
    "collapsed": true
   },
   "outputs": [],
   "source": []
  }
 ],
 "metadata": {
  "kernelspec": {
   "display_name": "Javascript (Node.js)",
   "language": "javascript",
   "name": "javascript"
  },
  "language_info": {
   "file_extension": ".js",
   "mimetype": "application/javascript",
   "name": "javascript",
   "version": "6.11.0"
  }
 },
 "nbformat": 4,
 "nbformat_minor": 2
}
