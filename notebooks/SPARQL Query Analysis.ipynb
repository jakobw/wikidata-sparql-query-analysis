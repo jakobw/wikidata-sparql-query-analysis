{
 "cells": [
  {
   "cell_type": "code",
   "execution_count": 1,
   "metadata": {
    "collapsed": true
   },
   "outputs": [],
   "source": [
    "const namespaces = require('./namespaces')\n",
    "const sparqljs = require('sparqljs')\n",
    "const parser = new sparqljs.Parser(namespaces)\n",
    "\n",
    "const eachFileInDir = require('./eachFileInDir')\n",
    "const countInQueries = require('./countInQueries')\n",
    "\n",
    "const EN_SPARQL = 'data/sparql_queries_enwiki'\n",
    "const DE_SPARQL = 'data/sparql_queries_dewiki'"
   ]
  },
  {
   "cell_type": "markdown",
   "metadata": {
    "collapsed": true
   },
   "source": [
    "## Valid Queries"
   ]
  },
  {
   "cell_type": "code",
   "execution_count": 2,
   "metadata": {},
   "outputs": [
    {
     "name": "stdout",
     "output_type": "stream",
     "text": [
      "data/sparql_queries_dewiki 669 669\n",
      "data/sparql_queries_enwiki 992 992\n"
     ]
    }
   ],
   "source": [
    "var isValidQuery = (query) => {\n",
    "    return true // will internally throw an exception when parsed\n",
    "}\n",
    "\n",
    "countInQueries(EN_SPARQL, isValidQuery)\n",
    "countInQueries(DE_SPARQL, isValidQuery)"
   ]
  },
  {
   "cell_type": "markdown",
   "metadata": {},
   "source": [
    "## OPTIONAL"
   ]
  },
  {
   "cell_type": "code",
   "execution_count": 3,
   "metadata": {},
   "outputs": [
    {
     "name": "stdout",
     "output_type": "stream",
     "text": [
      "data/sparql_queries_dewiki 669 40\n",
      "data/sparql_queries_enwiki 992 144\n"
     ]
    }
   ],
   "source": [
    "var hasOptional = (query) => {\n",
    "    return query.where.some((clause) => {\n",
    "        return clause.type === 'optional'\n",
    "    })\n",
    "}\n",
    "countInQueries(EN_SPARQL, hasOptional)\n",
    "countInQueries(DE_SPARQL, hasOptional)"
   ]
  },
  {
   "cell_type": "markdown",
   "metadata": {},
   "source": [
    "## FILTER"
   ]
  },
  {
   "cell_type": "code",
   "execution_count": 4,
   "metadata": {},
   "outputs": [
    {
     "name": "stdout",
     "output_type": "stream",
     "text": [
      "data/sparql_queries_dewiki 669 51\n",
      "data/sparql_queries_enwiki 992 373\n"
     ]
    }
   ],
   "source": [
    "var hasFilter = (query) => {\n",
    "    return query.where.some((clause) => {\n",
    "        return clause.type === 'filter'\n",
    "    })\n",
    "}\n",
    "countInQueries(EN_SPARQL, hasFilter)\n",
    "countInQueries(DE_SPARQL, hasFilter)"
   ]
  },
  {
   "cell_type": "markdown",
   "metadata": {},
   "source": [
    "## ORDER BY"
   ]
  },
  {
   "cell_type": "code",
   "execution_count": 5,
   "metadata": {},
   "outputs": [
    {
     "name": "stdout",
     "output_type": "stream",
     "text": [
      "data/sparql_queries_dewiki 669 27\n",
      "data/sparql_queries_enwiki 992 98\n"
     ]
    }
   ],
   "source": [
    "var hasOrderBy = (query) => {\n",
    "    return query.order\n",
    "}\n",
    "countInQueries(EN_SPARQL, hasOrderBy)\n",
    "countInQueries(DE_SPARQL, hasOrderBy)"
   ]
  },
  {
   "cell_type": "markdown",
   "metadata": {},
   "source": [
    "## DISTINCT"
   ]
  },
  {
   "cell_type": "code",
   "execution_count": 6,
   "metadata": {},
   "outputs": [
    {
     "name": "stdout",
     "output_type": "stream",
     "text": [
      "data/sparql_queries_dewiki 669 33\n",
      "data/sparql_queries_enwiki 992 46\n"
     ]
    }
   ],
   "source": [
    "var hasDistinct = (query) => {\n",
    "    return query.distinct\n",
    "}\n",
    "countInQueries(EN_SPARQL, hasDistinct)\n",
    "countInQueries(DE_SPARQL, hasDistinct)"
   ]
  },
  {
   "cell_type": "markdown",
   "metadata": {},
   "source": [
    "## GROUP BY"
   ]
  },
  {
   "cell_type": "code",
   "execution_count": 7,
   "metadata": {},
   "outputs": [
    {
     "name": "stdout",
     "output_type": "stream",
     "text": [
      "data/sparql_queries_dewiki 669 14\n",
      "data/sparql_queries_enwiki 992 76\n"
     ]
    }
   ],
   "source": [
    "var hasGroupBy = (query) => {\n",
    "    return query.group\n",
    "}\n",
    "countInQueries(EN_SPARQL, hasGroupBy)\n",
    "countInQueries(DE_SPARQL, hasGroupBy)"
   ]
  },
  {
   "cell_type": "markdown",
   "metadata": {},
   "source": [
    "## VALUES"
   ]
  },
  {
   "cell_type": "code",
   "execution_count": 8,
   "metadata": {},
   "outputs": [
    {
     "name": "stdout",
     "output_type": "stream",
     "text": [
      "data/sparql_queries_dewiki 669 10\n",
      "data/sparql_queries_enwiki 992 56\n"
     ]
    }
   ],
   "source": [
    "var hasValues = (query) => {\n",
    "    return query.where.some((clause) => {\n",
    "        return clause.type === 'values'\n",
    "    })\n",
    "}\n",
    "countInQueries(EN_SPARQL, hasValues)\n",
    "countInQueries(DE_SPARQL, hasValues)"
   ]
  },
  {
   "cell_type": "markdown",
   "metadata": {},
   "source": [
    "## UNION"
   ]
  },
  {
   "cell_type": "code",
   "execution_count": 9,
   "metadata": {},
   "outputs": [
    {
     "name": "stdout",
     "output_type": "stream",
     "text": [
      "data/sparql_queries_dewiki 669 148\n",
      "data/sparql_queries_enwiki 992 86\n"
     ]
    }
   ],
   "source": [
    "var hasUnion = (query) => {\n",
    "    return query.where.some((clause) => {\n",
    "        return clause.type === 'union'\n",
    "    })\n",
    "}\n",
    "countInQueries(EN_SPARQL, hasUnion)\n",
    "countInQueries(DE_SPARQL, hasUnion)"
   ]
  },
  {
   "cell_type": "markdown",
   "metadata": {},
   "source": [
    "## MINUS"
   ]
  },
  {
   "cell_type": "code",
   "execution_count": 10,
   "metadata": {},
   "outputs": [
    {
     "name": "stdout",
     "output_type": "stream",
     "text": [
      "data/sparql_queries_dewiki 669 15\n",
      "data/sparql_queries_enwiki 992 32\n"
     ]
    }
   ],
   "source": [
    "var hasMinus = (query) => {\n",
    "    return query.where.some((clause) => {\n",
    "        return clause.type === 'minus'\n",
    "    })\n",
    "}\n",
    "countInQueries(EN_SPARQL, hasMinus)\n",
    "countInQueries(DE_SPARQL, hasMinus)"
   ]
  },
  {
   "cell_type": "markdown",
   "metadata": {},
   "source": [
    "## Subqueries"
   ]
  },
  {
   "cell_type": "code",
   "execution_count": 11,
   "metadata": {},
   "outputs": [
    {
     "name": "stdout",
     "output_type": "stream",
     "text": [
      "data/sparql_queries_dewiki 669 23\n",
      "data/sparql_queries_enwiki 992 16\n"
     ]
    }
   ],
   "source": [
    "var hasSubQuery = (query) => {\n",
    "    return query.where.some((clause) => {\n",
    "        return clause.type === 'query'\n",
    "    })\n",
    "}\n",
    "countInQueries(EN_SPARQL, hasSubQuery)\n",
    "countInQueries(DE_SPARQL, hasSubQuery)"
   ]
  },
  {
   "cell_type": "markdown",
   "metadata": {},
   "source": [
    "## Multiple Subject Queries"
   ]
  },
  {
   "cell_type": "code",
   "execution_count": 12,
   "metadata": {},
   "outputs": [
    {
     "name": "stdout",
     "output_type": "stream",
     "text": [
      "data/sparql_queries_dewiki 669 56\n",
      "data/sparql_queries_enwiki 992 297\n"
     ]
    }
   ],
   "source": [
    "var hasMultipleSubjects = (query) => {\n",
    "    const triples = query.where.reduce(\n",
    "        (triples, clause) => clause.type === 'bgp' ? triples.concat(clause.triples) : triples,\n",
    "        []\n",
    "    )\n",
    "    const subjects = triples.map(triple => triple.subject)\n",
    "    const objects = triples.map(triple => triple.object)\n",
    "    \n",
    "    return subjects.some((subject) => {\n",
    "        return typeof subject === 'string' && subject.startsWith('?') && objects.includes(subject)\n",
    "    })\n",
    "}\n",
    "countInQueries(EN_SPARQL, hasMultipleSubjects)\n",
    "countInQueries(DE_SPARQL, hasMultipleSubjects)"
   ]
  },
  {
   "cell_type": "markdown",
   "metadata": {},
   "source": [
    "## Property Path"
   ]
  },
  {
   "cell_type": "code",
   "execution_count": 13,
   "metadata": {},
   "outputs": [
    {
     "name": "stdout",
     "output_type": "stream",
     "text": [
      "data/sparql_queries_dewiki 669 419\n",
      "data/sparql_queries_enwiki 992 93\n"
     ]
    }
   ],
   "source": [
    "var hasPropertyPath = (query) => {\n",
    "    const triples = query.where.reduce(\n",
    "        (triples, clause) => clause.type === 'bgp' ? triples.concat(clause.triples) : triples,\n",
    "        []\n",
    "    )\n",
    "    return triples.some(triple => triple.predicate.type === 'path')\n",
    "}\n",
    "countInQueries(EN_SPARQL, hasPropertyPath)\n",
    "countInQueries(DE_SPARQL, hasPropertyPath)"
   ]
  },
  {
   "cell_type": "markdown",
   "metadata": {},
   "source": [
    "## wdt:P31/wdt:P279*"
   ]
  },
  {
   "cell_type": "code",
   "execution_count": 14,
   "metadata": {},
   "outputs": [
    {
     "name": "stdout",
     "output_type": "stream",
     "text": [
      "data/sparql_queries_dewiki 669 3\n",
      "data/sparql_queries_enwiki 992 8\n"
     ]
    }
   ],
   "source": [
    "var hasInstanceOfSubclassOf = (query) => {\n",
    "    const triples = query.where.reduce(\n",
    "        (triples, clause) => clause.type === 'bgp' ? triples.concat(clause.triples) : triples,\n",
    "        []\n",
    "    )\n",
    "    return triples.some(triple => {\n",
    "        return ( triple.predicate.type === 'path'\n",
    "            && triple.predicate.pathType === '/'\n",
    "            && triple.predicate.items[0] === 'http://www.wikidata.org/prop/direct/P31'\n",
    "            && triple.predicate.items[1].pathType === '*'\n",
    "            && triple.predicate.items[1].items[0] === 'http://www.wikidata.org/prop/direct/P279' )\n",
    "    })\n",
    "}\n",
    "countInQueries(EN_SPARQL, hasInstanceOfSubclassOf)\n",
    "countInQueries(DE_SPARQL, hasInstanceOfSubclassOf)"
   ]
  },
  {
   "cell_type": "markdown",
   "metadata": {},
   "source": [
    "## wdt:P279*"
   ]
  },
  {
   "cell_type": "code",
   "execution_count": 15,
   "metadata": {},
   "outputs": [
    {
     "name": "stdout",
     "output_type": "stream",
     "text": [
      "data/sparql_queries_dewiki 669 43\n",
      "data/sparql_queries_enwiki 992 53\n"
     ]
    }
   ],
   "source": [
    "var hasSubclassOf = function hasSubclassOf(predicate) {\n",
    "    if (predicate.type !== 'path') return false\n",
    "    if (predicate.pathType === '*' && predicate.items.includes('http://www.wikidata.org/prop/direct/P279')) {\n",
    "        return true\n",
    "    }\n",
    "    \n",
    "    return predicate.items.reduce((any, predicate) => { return any || hasSubclassOf(predicate) }, false)\n",
    "}\n",
    "var hasInstanceOfSubclassOf = (query) => {\n",
    "    const triples = query.where.reduce(\n",
    "        (triples, clause) => clause.type === 'bgp' ? triples.concat(clause.triples) : triples,\n",
    "        []\n",
    "    )\n",
    "    return triples.some(triple => hasSubclassOf(triple.predicate))\n",
    "}\n",
    "countInQueries(EN_SPARQL, hasInstanceOfSubclassOf)\n",
    "countInQueries(DE_SPARQL, hasInstanceOfSubclassOf)"
   ]
  },
  {
   "cell_type": "markdown",
   "metadata": {},
   "source": [
    "## Use of Qualifiers"
   ]
  },
  {
   "cell_type": "code",
   "execution_count": 16,
   "metadata": {},
   "outputs": [
    {
     "name": "stdout",
     "output_type": "stream",
     "text": [
      "data/sparql_queries_dewiki 669 22\n",
      "data/sparql_queries_enwiki 992 37\n"
     ]
    }
   ],
   "source": [
    "var hasQualifiers = (parsedQuery, rawQuery) => {\n",
    "    return rawQuery.includes('pq:P')\n",
    "}\n",
    "\n",
    "countInQueries(EN_SPARQL, hasQualifiers)\n",
    "countInQueries(DE_SPARQL, hasQualifiers)"
   ]
  },
  {
   "cell_type": "markdown",
   "metadata": {},
   "source": [
    "## Use of References"
   ]
  },
  {
   "cell_type": "code",
   "execution_count": 17,
   "metadata": {},
   "outputs": [
    {
     "name": "stdout",
     "output_type": "stream",
     "text": [
      "data/sparql_queries_dewiki 669 0\n",
      "data/sparql_queries_enwiki 992 4\n"
     ]
    }
   ],
   "source": [
    "var hasReferences = (parsedQuery, rawQuery) => {\n",
    "    return rawQuery.includes('pr:P')\n",
    "}\n",
    "\n",
    "countInQueries(EN_SPARQL, hasReferences)\n",
    "countInQueries(DE_SPARQL, hasReferences)"
   ]
  },
  {
   "cell_type": "code",
   "execution_count": 18,
   "metadata": {},
   "outputs": [
    {
     "data": {
      "text/plain": [
       "Promise { <pending> }"
      ]
     },
     "execution_count": 18,
     "metadata": {},
     "output_type": "execute_result"
    },
    {
     "name": "stdout",
     "output_type": "stream",
     "text": [
      "[ [ 'wikibase:label', 13 ],\n",
      "  [ 'wikibase:language', 13 ],\n",
      "  [ 'wikibase:rank', 9 ],\n",
      "  [ 'wikibase:DeprecatedRank', 9 ],\n",
      "  [ 'wikibase:around', 6 ] ]\n"
     ]
    }
   ],
   "source": [
    "var predicates = {}\n",
    "\n",
    "eachFileInDir(DE_SPARQL, (query, resolve) => {\n",
    "    var wikibasePredicates = query.match(/wikibase:\\w+/g)\n",
    "    if (wikibasePredicates) wikibasePredicates.forEach((predicate) => {\n",
    "        if (predicates[predicate]) predicates[predicate]++\n",
    "        else predicates[predicate] = 1\n",
    "    })\n",
    "    resolve()\n",
    "}).then(() => {\n",
    "    var tuples = []\n",
    "    for (var predicate in predicates) tuples.push([predicate, predicates[predicate]])\n",
    "    console.log(tuples.sort((a, b) => b[1] - a[1]).slice(0, 5))\n",
    "})"
   ]
  },
  {
   "cell_type": "markdown",
   "metadata": {
    "collapsed": true
   },
   "source": [
    "## Features per Query"
   ]
  },
  {
   "cell_type": "code",
   "execution_count": 19,
   "metadata": {},
   "outputs": [
    {
     "data": {
      "text/plain": [
       "Promise { <pending> }"
      ]
     },
     "execution_count": 19,
     "metadata": {},
     "output_type": "execute_result"
    },
    {
     "name": "stdout",
     "output_type": "stream",
     "text": [
      "[ 85, 451, 74, 40, 7, 3, 0, 9, 0, 0, 0, 0 ]\n"
     ]
    }
   ],
   "source": [
    "var allFeatures = [\n",
    "    hasOptional, hasFilter, hasOrderBy,\n",
    "    hasValues, hasUnion, hasMinus,\n",
    "    hasSubQuery, hasMultipleSubjects, hasPropertyPath,\n",
    "    hasSubclassOf, hasQualifiers, hasReferences,\n",
    "    hasGroupBy\n",
    "]\n",
    "var featuresPerQuery = (new Array(12)).fill(0)\n",
    "\n",
    "eachFileInDir(DE_SPARQL, (query, resolve) => {\n",
    "    let features = 0\n",
    "    allFeatures.forEach((hasFeature) => {\n",
    "        if (hasFeature(parser.parse(query), query)) features++\n",
    "    })\n",
    "    featuresPerQuery[features]++\n",
    "    resolve()\n",
    "}).then(() => {\n",
    "    console.log(featuresPerQuery)\n",
    "})\n",
    "\n",
    "// EN: [ 432, 111, 248, 117, 71, 9, 3, 1, 0, 0, 0, 0 ]\n",
    "// DE: [ 85,  451,  74,  40,  7, 3, 0, 9, 0, 0, 0, 0 ]"
   ]
  },
  {
   "cell_type": "markdown",
   "metadata": {
    "collapsed": true
   },
   "source": [
    "## Finding a subset of features that is sufficient for most queries"
   ]
  },
  {
   "cell_type": "code",
   "execution_count": 22,
   "metadata": {},
   "outputs": [
    {
     "name": "stdout",
     "output_type": "stream",
     "text": [
      "data/sparql_queries_dewiki 669 239\n",
      "data/sparql_queries_enwiki 992 807\n"
     ]
    }
   ],
   "source": [
    "var allFeatures = [\n",
    "    hasOptional, hasFilter, hasOrderBy,\n",
    "    hasValues, hasUnion, hasMinus,\n",
    "    hasSubQuery, hasMultipleSubjects, hasPropertyPath,\n",
    "    hasSubclassOf, hasQualifiers, hasReferences,\n",
    "    hasGroupBy\n",
    "]\n",
    "var subset = [\n",
    "    hasOptional, hasFilter, hasMultipleSubjects,\n",
    "    hasQualifiers, hasValues, hasOrderBy,\n",
    "    hasUnion\n",
    "];\n",
    "var queriesProduceable = 0\n",
    "\n",
    "var isProduceableWithSubset = (parsedQuery, rawQuery) => {\n",
    "    let featuresUsed = 0\n",
    "    let subsetFeaturesUsed = 0\n",
    "\n",
    "    allFeatures.forEach((hasFeature) => {\n",
    "        if (hasFeature(parsedQuery, rawQuery)) featuresUsed++\n",
    "    })\n",
    "    subset.forEach((hasFeature) => {\n",
    "        if (hasFeature(parsedQuery, rawQuery)) subsetFeaturesUsed++\n",
    "    })\n",
    "    \n",
    "    return featuresUsed === subsetFeaturesUsed\n",
    "}\n",
    "\n",
    "countInQueries(EN_SPARQL, isProduceableWithSubset)\n",
    "countInQueries(DE_SPARQL, isProduceableWithSubset)"
   ]
  },
  {
   "cell_type": "code",
   "execution_count": null,
   "metadata": {
    "collapsed": true
   },
   "outputs": [],
   "source": []
  }
 ],
 "metadata": {
  "kernelspec": {
   "display_name": "Javascript (Node.js)",
   "language": "javascript",
   "name": "javascript"
  },
  "language_info": {
   "file_extension": ".js",
   "mimetype": "application/javascript",
   "name": "javascript",
   "version": "6.11.0"
  }
 },
 "nbformat": 4,
 "nbformat_minor": 2
}
