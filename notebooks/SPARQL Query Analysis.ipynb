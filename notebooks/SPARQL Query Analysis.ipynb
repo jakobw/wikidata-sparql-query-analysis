{
 "cells": [
  {
   "cell_type": "code",
   "execution_count": 1,
   "metadata": {},
   "outputs": [],
   "source": [
    "const namespaces = require('./namespaces')\n",
    "const sparqljs = require('sparqljs')\n",
    "const parser = new sparqljs.Parser(namespaces)\n",
    "\n",
    "const eachFileInDir = require('./eachFileInDir')\n",
    "\n",
    "const EN_SPARQL = 'data/sparql_queries_enwiki'\n",
    "const DE_SPARQL = 'data/sparql_queries_dewiki'"
   ]
  },
  {
   "cell_type": "markdown",
   "metadata": {
    "collapsed": true
   },
   "source": [
    "## SELECT (silly)"
   ]
  },
  {
   "cell_type": "code",
   "execution_count": 2,
   "metadata": {},
   "outputs": [
    {
     "data": {
      "text/plain": [
       "Promise { <pending> }"
      ]
     },
     "execution_count": 2,
     "metadata": {},
     "output_type": "execute_result"
    },
    {
     "name": "stdout",
     "output_type": "stream",
     "text": [
      "997 997\n"
     ]
    }
   ],
   "source": [
    "var occurences = 0\n",
    "var total = 0\n",
    "\n",
    "eachFileInDir(EN_SPARQL, (query, resolve) => {\n",
    "    if (query.toLowerCase().includes('select')) occurences++\n",
    "\n",
    "    total++\n",
    "    resolve()\n",
    "}).then(() => {\n",
    "    console.log(total, occurences)\n",
    "})"
   ]
  },
  {
   "cell_type": "markdown",
   "metadata": {},
   "source": [
    "## OPTIONAL"
   ]
  },
  {
   "cell_type": "code",
   "execution_count": 3,
   "metadata": {},
   "outputs": [
    {
     "data": {
      "text/plain": [
       "Promise { <pending> }"
      ]
     },
     "execution_count": 3,
     "metadata": {},
     "output_type": "execute_result"
    },
    {
     "name": "stdout",
     "output_type": "stream",
     "text": [
      "992 144\n"
     ]
    }
   ],
   "source": [
    "var occurences = 0\n",
    "var total = 0\n",
    "\n",
    "eachFileInDir(EN_SPARQL, (query, resolve) => {\n",
    "    const parsedQuery = parser.parse(query)\n",
    "    const hasOptional = parsedQuery.where.some((clause) => {\n",
    "        return clause.type === 'optional'\n",
    "    })\n",
    "    if (hasOptional) occurences++\n",
    "    total++\n",
    "    \n",
    "    resolve()\n",
    "}).then(() => {\n",
    "    console.log(total, occurences)\n",
    "})"
   ]
  },
  {
   "cell_type": "markdown",
   "metadata": {},
   "source": [
    "## FILTER"
   ]
  },
  {
   "cell_type": "code",
   "execution_count": 4,
   "metadata": {},
   "outputs": [
    {
     "data": {
      "text/plain": [
       "Promise { <pending> }"
      ]
     },
     "execution_count": 4,
     "metadata": {},
     "output_type": "execute_result"
    },
    {
     "name": "stdout",
     "output_type": "stream",
     "text": [
      "992 373\n"
     ]
    }
   ],
   "source": [
    "var occurences = 0\n",
    "var total = 0\n",
    "\n",
    "eachFileInDir(EN_SPARQL, (query, resolve) => {\n",
    "    const parsedQuery = parser.parse(query)\n",
    "    const hasFilter = parsedQuery.where.some((clause) => {\n",
    "        return clause.type === 'filter'\n",
    "    })\n",
    "    if (hasFilter) occurences++\n",
    "    total++\n",
    "    \n",
    "    resolve()\n",
    "}).then(() => {\n",
    "    console.log(total, occurences)\n",
    "})"
   ]
  },
  {
   "cell_type": "markdown",
   "metadata": {},
   "source": [
    "## ORDER BY"
   ]
  },
  {
   "cell_type": "code",
   "execution_count": 5,
   "metadata": {},
   "outputs": [
    {
     "data": {
      "text/plain": [
       "Promise { <pending> }"
      ]
     },
     "execution_count": 5,
     "metadata": {},
     "output_type": "execute_result"
    },
    {
     "name": "stdout",
     "output_type": "stream",
     "text": [
      "992 98\n"
     ]
    }
   ],
   "source": [
    "var occurences = 0\n",
    "var total = 0\n",
    "\n",
    "eachFileInDir(EN_SPARQL, (query, resolve) => {\n",
    "    const parsedQuery = parser.parse(query)\n",
    "    if (parsedQuery.order) occurences++\n",
    "    total++\n",
    "    \n",
    "    resolve()\n",
    "}).then(() => {\n",
    "    console.log(total, occurences)\n",
    "})"
   ]
  },
  {
   "cell_type": "markdown",
   "metadata": {},
   "source": [
    "## DISTINCT"
   ]
  },
  {
   "cell_type": "code",
   "execution_count": 6,
   "metadata": {},
   "outputs": [
    {
     "data": {
      "text/plain": [
       "Promise { <pending> }"
      ]
     },
     "execution_count": 6,
     "metadata": {},
     "output_type": "execute_result"
    },
    {
     "name": "stdout",
     "output_type": "stream",
     "text": [
      "992 46\n"
     ]
    }
   ],
   "source": [
    "var occurences = 0\n",
    "var total = 0\n",
    "\n",
    "eachFileInDir(EN_SPARQL, (query, resolve) => {\n",
    "    const parsedQuery = parser.parse(query)\n",
    "    if (parsedQuery.distinct) occurences++\n",
    "    total++\n",
    "    \n",
    "    resolve()\n",
    "}).then(() => {\n",
    "    console.log(total, occurences)\n",
    "})"
   ]
  },
  {
   "cell_type": "markdown",
   "metadata": {},
   "source": [
    "## VALUES"
   ]
  },
  {
   "cell_type": "code",
   "execution_count": 7,
   "metadata": {},
   "outputs": [
    {
     "data": {
      "text/plain": [
       "Promise { <pending> }"
      ]
     },
     "execution_count": 7,
     "metadata": {},
     "output_type": "execute_result"
    },
    {
     "name": "stdout",
     "output_type": "stream",
     "text": [
      "992 56\n"
     ]
    }
   ],
   "source": [
    "var occurences = 0\n",
    "var total = 0\n",
    "\n",
    "eachFileInDir(EN_SPARQL, (query, resolve) => {\n",
    "    const parsedQuery = parser.parse(query)\n",
    "    const hasValues = parsedQuery.where.some((clause) => {\n",
    "        return clause.type === 'values'\n",
    "    })\n",
    "    if (hasValues) occurences++\n",
    "    total++\n",
    "    \n",
    "    resolve()\n",
    "}).then(() => {\n",
    "    console.log(total, occurences)\n",
    "})"
   ]
  },
  {
   "cell_type": "markdown",
   "metadata": {},
   "source": [
    "## UNION"
   ]
  },
  {
   "cell_type": "code",
   "execution_count": 8,
   "metadata": {},
   "outputs": [
    {
     "data": {
      "text/plain": [
       "Promise { <pending> }"
      ]
     },
     "execution_count": 8,
     "metadata": {},
     "output_type": "execute_result"
    },
    {
     "name": "stdout",
     "output_type": "stream",
     "text": [
      "992 86\n"
     ]
    }
   ],
   "source": [
    "var occurences = 0\n",
    "var total = 0\n",
    "\n",
    "eachFileInDir(EN_SPARQL, (query, resolve) => {\n",
    "    const parsedQuery = parser.parse(query)\n",
    "    const hasUnion = parsedQuery.where.some((clause) => {\n",
    "        return clause.type === 'union'\n",
    "    })\n",
    "    if (hasUnion) occurences++\n",
    "    total++\n",
    "    \n",
    "    resolve()\n",
    "}).then(() => {\n",
    "    console.log(total, occurences)\n",
    "})"
   ]
  },
  {
   "cell_type": "markdown",
   "metadata": {},
   "source": [
    "## MINUS"
   ]
  },
  {
   "cell_type": "code",
   "execution_count": 9,
   "metadata": {},
   "outputs": [
    {
     "data": {
      "text/plain": [
       "Promise { <pending> }"
      ]
     },
     "execution_count": 9,
     "metadata": {},
     "output_type": "execute_result"
    },
    {
     "name": "stdout",
     "output_type": "stream",
     "text": [
      "992 32\n"
     ]
    }
   ],
   "source": [
    "var occurences = 0\n",
    "var total = 0\n",
    "\n",
    "eachFileInDir(EN_SPARQL, (query, resolve) => {\n",
    "    const parsedQuery = parser.parse(query)\n",
    "    const hasMinus = parsedQuery.where.some((clause) => {\n",
    "        return clause.type === 'minus'\n",
    "    })\n",
    "    if (hasMinus) occurences++\n",
    "    total++\n",
    "    \n",
    "    resolve()\n",
    "}).then(() => {\n",
    "    console.log(total, occurences)\n",
    "})"
   ]
  },
  {
   "cell_type": "markdown",
   "metadata": {},
   "source": [
    "## Subqueries"
   ]
  },
  {
   "cell_type": "code",
   "execution_count": 10,
   "metadata": {},
   "outputs": [
    {
     "data": {
      "text/plain": [
       "Promise { <pending> }"
      ]
     },
     "execution_count": 10,
     "metadata": {},
     "output_type": "execute_result"
    },
    {
     "name": "stdout",
     "output_type": "stream",
     "text": [
      "992 16\n"
     ]
    }
   ],
   "source": [
    "var occurences = 0\n",
    "var total = 0\n",
    "\n",
    "eachFileInDir(EN_SPARQL, (query, resolve) => {\n",
    "    const parsedQuery = parser.parse(query)\n",
    "    const hasSubquery = parsedQuery.where.some((clause) => {\n",
    "        return clause.type === 'query'\n",
    "    })\n",
    "    if (hasSubquery) occurences++\n",
    "    total++\n",
    "    \n",
    "    resolve()\n",
    "}).then(() => {\n",
    "    console.log(total, occurences)\n",
    "})"
   ]
  },
  {
   "cell_type": "markdown",
   "metadata": {},
   "source": [
    "## Multiple Subject Queries"
   ]
  },
  {
   "cell_type": "code",
   "execution_count": 11,
   "metadata": {},
   "outputs": [
    {
     "data": {
      "text/plain": [
       "Promise { <pending> }"
      ]
     },
     "execution_count": 11,
     "metadata": {},
     "output_type": "execute_result"
    },
    {
     "name": "stdout",
     "output_type": "stream",
     "text": [
      "992 297\n"
     ]
    }
   ],
   "source": [
    "var occurences = 0\n",
    "var total = 0\n",
    "\n",
    "eachFileInDir(EN_SPARQL, (query, resolve) => {\n",
    "    const parsedQuery = parser.parse(query)\n",
    "    const triples = parsedQuery.where.reduce(\n",
    "        (triples, clause) => clause.type === 'bgp' ? triples.concat(clause.triples) : triples,\n",
    "        []\n",
    "    )\n",
    "    const subjects = triples.map(triple => triple.subject)\n",
    "    const objects = triples.map(triple => triple.object)\n",
    "    const hasMultipleSubjects = subjects.some((subject) => {\n",
    "        return typeof subject === 'string' && subject.startsWith('?') && objects.includes(subject)\n",
    "    })\n",
    "    \n",
    "    if (hasMultipleSubjects) occurences++\n",
    "    \n",
    "    total++\n",
    "    \n",
    "    resolve()\n",
    "}).then(() => {\n",
    "    console.log(total, occurences)\n",
    "})"
   ]
  },
  {
   "cell_type": "markdown",
   "metadata": {},
   "source": [
    "## Property Path"
   ]
  },
  {
   "cell_type": "code",
   "execution_count": 12,
   "metadata": {},
   "outputs": [
    {
     "data": {
      "text/plain": [
       "Promise { <pending> }"
      ]
     },
     "execution_count": 12,
     "metadata": {},
     "output_type": "execute_result"
    },
    {
     "name": "stdout",
     "output_type": "stream",
     "text": [
      "992 93\n"
     ]
    }
   ],
   "source": [
    "var occurences = 0\n",
    "var total = 0\n",
    "\n",
    "eachFileInDir(EN_SPARQL, (query, resolve) => {\n",
    "    const parsedQuery = parser.parse(query)\n",
    "    const triples = parsedQuery.where.reduce(\n",
    "        (triples, clause) => clause.type === 'bgp' ? triples.concat(clause.triples) : triples,\n",
    "        []\n",
    "    )\n",
    "    const hasPropertyPath = triples.some(triple => triple.predicate.type === 'path')\n",
    "    if (hasPropertyPath) occurences++\n",
    "        \n",
    "    total++\n",
    "    \n",
    "    resolve()\n",
    "}).then(() => {\n",
    "    console.log(total, occurences)\n",
    "})"
   ]
  },
  {
   "cell_type": "markdown",
   "metadata": {},
   "source": [
    "## wdt:P31/wdt:P279*"
   ]
  },
  {
   "cell_type": "code",
   "execution_count": 13,
   "metadata": {},
   "outputs": [
    {
     "data": {
      "text/plain": [
       "Promise { <pending> }"
      ]
     },
     "execution_count": 13,
     "metadata": {},
     "output_type": "execute_result"
    },
    {
     "name": "stdout",
     "output_type": "stream",
     "text": [
      "992 8\n"
     ]
    }
   ],
   "source": [
    "var occurences = 0\n",
    "var total = 0\n",
    "\n",
    "eachFileInDir(EN_SPARQL, (query, resolve) => {\n",
    "    const parsedQuery = parser.parse(query)\n",
    "    const triples = parsedQuery.where.reduce(\n",
    "        (triples, clause) => clause.type === 'bgp' ? triples.concat(clause.triples) : triples,\n",
    "        []\n",
    "    )\n",
    "    const hasInstanceOfSubclassOf = triples.some(triple => {\n",
    "        return ( triple.predicate.type === 'path'\n",
    "            && triple.predicate.pathType === '/'\n",
    "            && triple.predicate.items[0] === 'http://www.wikidata.org/prop/direct/P31'\n",
    "            && triple.predicate.items[1].pathType === '*'\n",
    "            && triple.predicate.items[1].items[0] === 'http://www.wikidata.org/prop/direct/P279' )\n",
    "    })\n",
    "    if (hasInstanceOfSubclassOf) occurences++\n",
    "        \n",
    "    total++\n",
    "    \n",
    "    resolve()\n",
    "}).then(() => {\n",
    "    console.log(total, occurences)\n",
    "})"
   ]
  },
  {
   "cell_type": "markdown",
   "metadata": {},
   "source": [
    "## wdt:P279*"
   ]
  },
  {
   "cell_type": "code",
   "execution_count": 14,
   "metadata": {},
   "outputs": [
    {
     "data": {
      "text/plain": [
       "Promise { <pending> }"
      ]
     },
     "execution_count": 14,
     "metadata": {},
     "output_type": "execute_result"
    },
    {
     "name": "stdout",
     "output_type": "stream",
     "text": [
      "992 53\n"
     ]
    }
   ],
   "source": [
    "var occurences = 0\n",
    "var total = 0\n",
    "\n",
    "var hasSubclassOf = function hasSubclassOf(predicate) {\n",
    "    if (predicate.type !== 'path') return false\n",
    "    if (predicate.pathType === '*' && predicate.items.includes('http://www.wikidata.org/prop/direct/P279')) {\n",
    "        return true\n",
    "    }\n",
    "    \n",
    "    return predicate.items.reduce((any, predicate) => { return any || hasSubclassOf(predicate) }, false)\n",
    "}\n",
    "\n",
    "eachFileInDir(EN_SPARQL, (query, resolve) => {\n",
    "    const parsedQuery = parser.parse(query)\n",
    "    const triples = parsedQuery.where.reduce(\n",
    "        (triples, clause) => clause.type === 'bgp' ? triples.concat(clause.triples) : triples,\n",
    "        []\n",
    "    )\n",
    "    const hasInstanceOfSubclassOf = triples.some(triple => hasSubclassOf(triple.predicate))\n",
    "    if (hasInstanceOfSubclassOf) occurences++\n",
    "        \n",
    "    total++\n",
    "    \n",
    "    resolve()\n",
    "}).then(() => {\n",
    "    console.log(total, occurences)\n",
    "})"
   ]
  },
  {
   "cell_type": "markdown",
   "metadata": {},
   "source": [
    "## Use of Qualifiers"
   ]
  },
  {
   "cell_type": "code",
   "execution_count": 15,
   "metadata": {},
   "outputs": [
    {
     "data": {
      "text/plain": [
       "Promise { <pending> }"
      ]
     },
     "execution_count": 15,
     "metadata": {},
     "output_type": "execute_result"
    },
    {
     "name": "stdout",
     "output_type": "stream",
     "text": [
      "997 37\n"
     ]
    }
   ],
   "source": [
    "var occurences = 0\n",
    "var total = 0\n",
    "\n",
    "eachFileInDir(EN_SPARQL, (query, resolve) => {\n",
    "    if (query.includes('pq:P')) occurences++\n",
    "\n",
    "    total++\n",
    "    resolve()\n",
    "}).then(() => {\n",
    "    console.log(total, occurences)\n",
    "})"
   ]
  },
  {
   "cell_type": "markdown",
   "metadata": {},
   "source": [
    "## Use of References"
   ]
  },
  {
   "cell_type": "code",
   "execution_count": 16,
   "metadata": {},
   "outputs": [
    {
     "data": {
      "text/plain": [
       "Promise { <pending> }"
      ]
     },
     "execution_count": 16,
     "metadata": {},
     "output_type": "execute_result"
    },
    {
     "name": "stdout",
     "output_type": "stream",
     "text": [
      "997 4\n"
     ]
    }
   ],
   "source": [
    "var occurences = 0\n",
    "var total = 0\n",
    "\n",
    "eachFileInDir(EN_SPARQL, (query, resolve) => {\n",
    "    if (query.includes('pr:P')) occurences++\n",
    "\n",
    "    total++\n",
    "    resolve()\n",
    "}).then(() => {\n",
    "    console.log(total, occurences)\n",
    "})"
   ]
  },
  {
   "cell_type": "code",
   "execution_count": 17,
   "metadata": {},
   "outputs": [
    {
     "data": {
      "text/plain": [
       "Promise { <pending> }"
      ]
     },
     "execution_count": 17,
     "metadata": {},
     "output_type": "execute_result"
    },
    {
     "name": "stdout",
     "output_type": "stream",
     "text": [
      "[ [ 'wikibase:label', 103 ],\n",
      "  [ 'wikibase:language', 103 ],\n",
      "  [ 'wikibase:statements', 15 ],\n",
      "  [ 'wikibase:geoLatitude', 3 ],\n",
      "  [ 'wikibase:geoLongitude', 3 ] ]\n"
     ]
    }
   ],
   "source": [
    "var predicates = {}\n",
    "\n",
    "eachFileInDir(EN_SPARQL, (query, resolve) => {\n",
    "    var wikibasePredicates = query.match(/wikibase:\\w+/g)\n",
    "    if (wikibasePredicates) wikibasePredicates.forEach((predicate) => {\n",
    "        if (predicates[predicate]) predicates[predicate]++\n",
    "        else predicates[predicate] = 1\n",
    "    })\n",
    "    resolve()\n",
    "}).then(() => {\n",
    "    var tuples = []\n",
    "    for (var predicate in predicates) tuples.push([predicate, predicates[predicate]])\n",
    "    console.log(tuples.sort((a, b) => b[1] - a[1]).slice(0, 5))\n",
    "})"
   ]
  }
 ],
 "metadata": {
  "kernelspec": {
   "display_name": "Javascript (Node.js)",
   "language": "javascript",
   "name": "javascript"
  },
  "language_info": {
   "file_extension": ".js",
   "mimetype": "application/javascript",
   "name": "javascript",
   "version": "6.11.0"
  }
 },
 "nbformat": 4,
 "nbformat_minor": 2
}
