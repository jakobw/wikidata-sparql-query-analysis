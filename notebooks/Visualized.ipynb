{
 "cells": [
  {
   "cell_type": "markdown",
   "metadata": {},
   "source": [
    "# SPARQL data analysis"
   ]
  },
  {
   "cell_type": "code",
   "execution_count": 1,
   "metadata": {},
   "outputs": [
    {
     "data": {
      "text/html": [
       "<script>\n",
       "requirejs.config({\n",
       "    paths: {\n",
       "        plotly: 'https://cdn.plot.ly/plotly-latest.min.js?noext',\n",
       "    },\n",
       "});\n",
       "</script>"
      ]
     },
     "execution_count": 1,
     "metadata": {},
     "output_type": "execute_result"
    }
   ],
   "source": [
    "const _ = require('lodash')\n",
    "const traverse = require('traverse')\n",
    "const sparqljs = require('sparqljs')\n",
    "\n",
    "const eachFileInDir = require('./eachFileInDir')\n",
    "const countInQueries = require('./countInQueries')\n",
    "const namespaces = require('./namespaces')\n",
    "const parser = new sparqljs.Parser(namespaces)\n",
    "const Query = require('./Query')\n",
    "const makePlot = require('./makePlot')\n",
    "const analysis = require('./analysis')"
   ]
  },
  {
   "cell_type": "markdown",
   "metadata": {},
   "source": [
    "## Queries per Wiki"
   ]
  },
  {
   "cell_type": "code",
   "execution_count": 3,
   "metadata": {},
   "outputs": [
    {
     "data": {
      "text/html": [
       "\n",
       "        <div id=\"5705\"/>\n",
       "        <script>\n",
       "        requirejs( ['plotly'], function(plotly) {\n",
       "            plotly.newPlot('5705', [{\"x\":[\"cywiki\",\"dewiki\",\"enwiki\",\"euwiki\",\"wikidata\",\"all queries normalized\",\"all\"],\"y\":[17528,772,2105,2817,5731,2484,28952],\"type\":\"bar\"}])\n",
       "        } )\n",
       "        </script>\n",
       "    "
      ]
     },
     "execution_count": 2,
     "metadata": {},
     "output_type": "execute_result"
    }
   ],
   "source": [
    "Promise.all([\n",
    "    countInQueries('data/cywiki', analysis.isValidQuery),\n",
    "    countInQueries('data/dewiki', analysis.isValidQuery),\n",
    "    countInQueries('data/enwiki', analysis.isValidQuery),\n",
    "    countInQueries('data/euwiki', analysis.isValidQuery),\n",
    "    countInQueries('data/wikidatawiki', analysis.isValidQuery),\n",
    "    countInQueries('data/normalized', analysis.isValidQuery),\n",
    "    countInQueries('data/all', analysis.isValidQuery),\n",
    "]).then(([cy, de, en, eu, wd, normalized, all]) => {\n",
    "    makePlot([{\n",
    "        x: ['cywiki', 'dewiki', 'enwiki', 'euwiki', 'wikidata', 'all queries normalized', 'all'],\n",
    "        y: [cy, de, en, eu, wd, normalized, all],\n",
    "        type: 'bar'\n",
    "    }])\n",
    "})"
   ]
  },
  {
   "cell_type": "markdown",
   "metadata": {},
   "source": [
    "## Features used"
   ]
  },
  {
   "cell_type": "code",
   "execution_count": 4,
   "metadata": {},
   "outputs": [
    {
     "data": {
      "text/html": [
       "\n",
       "        <div id=\"7781\"/>\n",
       "        <script>\n",
       "        requirejs( ['plotly'], function(plotly) {\n",
       "            plotly.newPlot('7781', [{\"x\":[\"optional\",\"filter\",\"order by\",\"distinct\",\"group by\",\"values\",\"union\",\"minus\",\"bind\",\"sub query\",\"property path\"],\"y\":[27,6259,2,15,1,483,12,1,20,0,10769],\"type\":\"bar\"}])\n",
       "        } )\n",
       "        </script>\n",
       "    "
      ]
     },
     "execution_count": 3,
     "metadata": {},
     "output_type": "execute_result"
    }
   ],
   "source": [
    "var wiki = 'cywiki'\n",
    "Promise.all([\n",
    "    countInQueries('data/' + wiki, analysis.hasOptional),\n",
    "    countInQueries('data/' + wiki, analysis.hasFilter),\n",
    "    countInQueries('data/' + wiki, analysis.hasOrderBy),\n",
    "    countInQueries('data/' + wiki, analysis.hasDistinct),\n",
    "    countInQueries('data/' + wiki, analysis.hasGroupBy),\n",
    "    countInQueries('data/' + wiki, analysis.hasValues),\n",
    "    countInQueries('data/' + wiki, analysis.hasUnion),\n",
    "    countInQueries('data/' + wiki, analysis.hasMinus),\n",
    "    countInQueries('data/' + wiki, analysis.hasBind),\n",
    "    countInQueries('data/' + wiki, analysis.hasSubQuery),\n",
    "    countInQueries('data/' + wiki, analysis.hasPropertyPath),\n",
    "]).then(([optional, filter, orderBy, distinct, groupBy, values, union, minus, bind, subQuery, propertyPath]) => {\n",
    "    makePlot([{\n",
    "        x: ['optional', 'filter', 'order by', 'distinct', 'group by', 'values', 'union', 'minus', 'bind', 'sub query', 'property path'],\n",
    "        y: [optional, filter, orderBy, distinct, groupBy, values, union, minus, bind, subQuery, propertyPath],\n",
    "        type: 'bar'\n",
    "    }])\n",
    "})"
   ]
  },
  {
   "cell_type": "code",
   "execution_count": 5,
   "metadata": {},
   "outputs": [
    {
     "data": {
      "text/html": [
       "\n",
       "        <div id=\"4482\"/>\n",
       "        <script>\n",
       "        requirejs( ['plotly'], function(plotly) {\n",
       "            plotly.newPlot('4482', [{\"x\":[\"optional\",\"filter\",\"order by\",\"distinct\",\"group by\",\"values\",\"union\",\"minus\",\"bind\",\"sub query\",\"property path\"],\"y\":[76,79,66,138,29,11,292,28,20,112,457],\"type\":\"bar\"}])\n",
       "        } )\n",
       "        </script>\n",
       "    "
      ]
     },
     "execution_count": 4,
     "metadata": {},
     "output_type": "execute_result"
    }
   ],
   "source": [
    "var wiki = 'dewiki'\n",
    "Promise.all([\n",
    "    countInQueries('data/' + wiki, analysis.hasOptional),\n",
    "    countInQueries('data/' + wiki, analysis.hasFilter),\n",
    "    countInQueries('data/' + wiki, analysis.hasOrderBy),\n",
    "    countInQueries('data/' + wiki, analysis.hasDistinct),\n",
    "    countInQueries('data/' + wiki, analysis.hasGroupBy),\n",
    "    countInQueries('data/' + wiki, analysis.hasValues),\n",
    "    countInQueries('data/' + wiki, analysis.hasUnion),\n",
    "    countInQueries('data/' + wiki, analysis.hasMinus),\n",
    "    countInQueries('data/' + wiki, analysis.hasBind),\n",
    "    countInQueries('data/' + wiki, analysis.hasSubQuery),\n",
    "    countInQueries('data/' + wiki, analysis.hasPropertyPath),\n",
    "]).then(([optional, filter, orderBy, distinct, groupBy, values, union, minus, bind, subQuery, propertyPath]) => {\n",
    "    makePlot([{\n",
    "        x: ['optional', 'filter', 'order by', 'distinct', 'group by', 'values', 'union', 'minus', 'bind', 'sub query', 'property path'],\n",
    "        y: [optional, filter, orderBy, distinct, groupBy, values, union, minus, bind, subQuery, propertyPath],\n",
    "        type: 'bar'\n",
    "    }])\n",
    "})"
   ]
  },
  {
   "cell_type": "code",
   "execution_count": 6,
   "metadata": {},
   "outputs": [
    {
     "data": {
      "text/html": [
       "\n",
       "        <div id=\"4118\"/>\n",
       "        <script>\n",
       "        requirejs( ['plotly'], function(plotly) {\n",
       "            plotly.newPlot('4118', [{\"x\":[\"optional\",\"filter\",\"order by\",\"distinct\",\"group by\",\"values\",\"union\",\"minus\",\"bind\",\"sub query\",\"property path\"],\"y\":[568,733,209,169,182,290,182,83,159,9,223],\"type\":\"bar\"}])\n",
       "        } )\n",
       "        </script>\n",
       "    "
      ]
     },
     "execution_count": 5,
     "metadata": {},
     "output_type": "execute_result"
    }
   ],
   "source": [
    "var wiki = 'enwiki'\n",
    "Promise.all([\n",
    "    countInQueries('data/' + wiki, analysis.hasOptional),\n",
    "    countInQueries('data/' + wiki, analysis.hasFilter),\n",
    "    countInQueries('data/' + wiki, analysis.hasOrderBy),\n",
    "    countInQueries('data/' + wiki, analysis.hasDistinct),\n",
    "    countInQueries('data/' + wiki, analysis.hasGroupBy),\n",
    "    countInQueries('data/' + wiki, analysis.hasValues),\n",
    "    countInQueries('data/' + wiki, analysis.hasUnion),\n",
    "    countInQueries('data/' + wiki, analysis.hasMinus),\n",
    "    countInQueries('data/' + wiki, analysis.hasBind),\n",
    "    countInQueries('data/' + wiki, analysis.hasSubQuery),\n",
    "    countInQueries('data/' + wiki, analysis.hasPropertyPath),\n",
    "]).then(([optional, filter, orderBy, distinct, groupBy, values, union, minus, bind, subQuery, propertyPath]) => {\n",
    "    makePlot([{\n",
    "        x: ['optional', 'filter', 'order by', 'distinct', 'group by', 'values', 'union', 'minus', 'bind', 'sub query', 'property path'],\n",
    "        y: [optional, filter, orderBy, distinct, groupBy, values, union, minus, bind, subQuery, propertyPath],\n",
    "        type: 'bar'\n",
    "    }])\n",
    "})"
   ]
  },
  {
   "cell_type": "code",
   "execution_count": 7,
   "metadata": {},
   "outputs": [
    {
     "data": {
      "text/html": [
       "\n",
       "        <div id=\"517\"/>\n",
       "        <script>\n",
       "        requirejs( ['plotly'], function(plotly) {\n",
       "            plotly.newPlot('517', [{\"x\":[\"optional\",\"filter\",\"order by\",\"distinct\",\"group by\",\"values\",\"union\",\"minus\",\"bind\",\"sub query\",\"property path\"],\"y\":[2227,2206,2221,8,2,0,28,737,750,1,2351],\"type\":\"bar\"}])\n",
       "        } )\n",
       "        </script>\n",
       "    "
      ]
     },
     "execution_count": 6,
     "metadata": {},
     "output_type": "execute_result"
    }
   ],
   "source": [
    "var wiki = 'euwiki'\n",
    "Promise.all([\n",
    "    countInQueries('data/' + wiki, analysis.hasOptional),\n",
    "    countInQueries('data/' + wiki, analysis.hasFilter),\n",
    "    countInQueries('data/' + wiki, analysis.hasOrderBy),\n",
    "    countInQueries('data/' + wiki, analysis.hasDistinct),\n",
    "    countInQueries('data/' + wiki, analysis.hasGroupBy),\n",
    "    countInQueries('data/' + wiki, analysis.hasValues),\n",
    "    countInQueries('data/' + wiki, analysis.hasUnion),\n",
    "    countInQueries('data/' + wiki, analysis.hasMinus),\n",
    "    countInQueries('data/' + wiki, analysis.hasBind),\n",
    "    countInQueries('data/' + wiki, analysis.hasSubQuery),\n",
    "    countInQueries('data/' + wiki, analysis.hasPropertyPath),\n",
    "]).then(([optional, filter, orderBy, distinct, groupBy, values, union, minus, bind, subQuery, propertyPath]) => {\n",
    "    makePlot([{\n",
    "        x: ['optional', 'filter', 'order by', 'distinct', 'group by', 'values', 'union', 'minus', 'bind', 'sub query', 'property path'],\n",
    "        y: [optional, filter, orderBy, distinct, groupBy, values, union, minus, bind, subQuery, propertyPath],\n",
    "        type: 'bar'\n",
    "    }])\n",
    "})"
   ]
  },
  {
   "cell_type": "code",
   "execution_count": 8,
   "metadata": {},
   "outputs": [
    {
     "data": {
      "text/html": [
       "\n",
       "        <div id=\"4688\"/>\n",
       "        <script>\n",
       "        requirejs( ['plotly'], function(plotly) {\n",
       "            plotly.newPlot('4688', [{\"x\":[\"optional\",\"filter\",\"order by\",\"distinct\",\"group by\",\"values\",\"union\",\"minus\",\"bind\",\"sub query\",\"property path\"],\"y\":[1793,1254,1565,1577,501,442,824,1275,996,234,1828],\"type\":\"bar\"}])\n",
       "        } )\n",
       "        </script>\n",
       "    "
      ]
     },
     "execution_count": 7,
     "metadata": {},
     "output_type": "execute_result"
    }
   ],
   "source": [
    "var wiki = 'wikidatawiki'\n",
    "Promise.all([\n",
    "    countInQueries('data/' + wiki, analysis.hasOptional),\n",
    "    countInQueries('data/' + wiki, analysis.hasFilter),\n",
    "    countInQueries('data/' + wiki, analysis.hasOrderBy),\n",
    "    countInQueries('data/' + wiki, analysis.hasDistinct),\n",
    "    countInQueries('data/' + wiki, analysis.hasGroupBy),\n",
    "    countInQueries('data/' + wiki, analysis.hasValues),\n",
    "    countInQueries('data/' + wiki, analysis.hasUnion),\n",
    "    countInQueries('data/' + wiki, analysis.hasMinus),\n",
    "    countInQueries('data/' + wiki, analysis.hasBind),\n",
    "    countInQueries('data/' + wiki, analysis.hasSubQuery),\n",
    "    countInQueries('data/' + wiki, analysis.hasPropertyPath),\n",
    "]).then(([optional, filter, orderBy, distinct, groupBy, values, union, minus, bind, subQuery, propertyPath]) => {\n",
    "    makePlot([{\n",
    "        x: ['optional', 'filter', 'order by', 'distinct', 'group by', 'values', 'union', 'minus', 'bind', 'sub query', 'property path'],\n",
    "        y: [optional, filter, orderBy, distinct, groupBy, values, union, minus, bind, subQuery, propertyPath],\n",
    "        type: 'bar'\n",
    "    }])\n",
    "})"
   ]
  },
  {
   "cell_type": "code",
   "execution_count": 9,
   "metadata": {
    "scrolled": true
   },
   "outputs": [
    {
     "data": {
      "text/html": [
       "\n",
       "        <div id=\"1011\"/>\n",
       "        <script>\n",
       "        requirejs( ['plotly'], function(plotly) {\n",
       "            plotly.newPlot('1011', [{\"x\":[\"optional\",\"filter\",\"order by\",\"distinct\",\"group by\",\"values\",\"union\",\"minus\",\"bind\",\"sub query\",\"property path\"],\"y\":[4691,10530,4063,1907,715,1226,1338,2123,1945,356,15628],\"type\":\"bar\"}])\n",
       "        } )\n",
       "        </script>\n",
       "    "
      ]
     },
     "execution_count": 8,
     "metadata": {},
     "output_type": "execute_result"
    }
   ],
   "source": [
    "var wiki = 'all'\n",
    "Promise.all([\n",
    "    countInQueries('data/' + wiki, analysis.hasOptional),\n",
    "    countInQueries('data/' + wiki, analysis.hasFilter),\n",
    "    countInQueries('data/' + wiki, analysis.hasOrderBy),\n",
    "    countInQueries('data/' + wiki, analysis.hasDistinct),\n",
    "    countInQueries('data/' + wiki, analysis.hasGroupBy),\n",
    "    countInQueries('data/' + wiki, analysis.hasValues),\n",
    "    countInQueries('data/' + wiki, analysis.hasUnion),\n",
    "    countInQueries('data/' + wiki, analysis.hasMinus),\n",
    "    countInQueries('data/' + wiki, analysis.hasBind),\n",
    "    countInQueries('data/' + wiki, analysis.hasSubQuery),\n",
    "    countInQueries('data/' + wiki, analysis.hasPropertyPath),\n",
    "]).then(([optional, filter, orderBy, distinct, groupBy, values, union, minus, bind, subQuery, propertyPath]) => {\n",
    "    makePlot([{\n",
    "        x: ['optional', 'filter', 'order by', 'distinct', 'group by', 'values', 'union', 'minus', 'bind', 'sub query', 'property path'],\n",
    "        y: [optional, filter, orderBy, distinct, groupBy, values, union, minus, bind, subQuery, propertyPath],\n",
    "        type: 'bar'\n",
    "    }])\n",
    "})"
   ]
  },
  {
   "cell_type": "code",
   "execution_count": 10,
   "metadata": {},
   "outputs": [
    {
     "data": {
      "text/html": [
       "\n",
       "        <div id=\"9281\"/>\n",
       "        <script>\n",
       "        requirejs( ['plotly'], function(plotly) {\n",
       "            plotly.newPlot('9281', [{\"x\":[\"optional\",\"filter\",\"order by\",\"distinct\",\"group by\",\"values\",\"union\",\"minus\",\"bind\",\"sub query\",\"property path\"],\"y\":[1148,1078,904,657,368,337,475,465,618,165,849],\"type\":\"bar\"}])\n",
       "        } )\n",
       "        </script>\n",
       "    "
      ]
     },
     "execution_count": 9,
     "metadata": {},
     "output_type": "execute_result"
    }
   ],
   "source": [
    "var wiki = 'normalized'\n",
    "Promise.all([\n",
    "    countInQueries('data/' + wiki, analysis.hasOptional),\n",
    "    countInQueries('data/' + wiki, analysis.hasFilter),\n",
    "    countInQueries('data/' + wiki, analysis.hasOrderBy),\n",
    "    countInQueries('data/' + wiki, analysis.hasDistinct),\n",
    "    countInQueries('data/' + wiki, analysis.hasGroupBy),\n",
    "    countInQueries('data/' + wiki, analysis.hasValues),\n",
    "    countInQueries('data/' + wiki, analysis.hasUnion),\n",
    "    countInQueries('data/' + wiki, analysis.hasMinus),\n",
    "    countInQueries('data/' + wiki, analysis.hasBind),\n",
    "    countInQueries('data/' + wiki, analysis.hasSubQuery),\n",
    "    countInQueries('data/' + wiki, analysis.hasPropertyPath),\n",
    "]).then(([optional, filter, orderBy, distinct, groupBy, values, union, minus, bind, subQuery, propertyPath]) => {\n",
    "    makePlot([{\n",
    "        x: ['optional', 'filter', 'order by', 'distinct', 'group by', 'values', 'union', 'minus', 'bind', 'sub query', 'property path'],\n",
    "        y: [optional, filter, orderBy, distinct, groupBy, values, union, minus, bind, subQuery, propertyPath],\n",
    "        type: 'bar'\n",
    "    }])\n",
    "})"
   ]
  },
  {
   "cell_type": "markdown",
   "metadata": {},
   "source": [
    "## Query Shapes\n",
    "\n",
    "### Examples\n",
    "in pseudo-turtle.\n",
    "\n",
    "#### Star/source\n",
    "Natural language: Things that are cities, that are located in Germany.\n",
    "```\n",
    "?foo instanceOf city .\n",
    "?foo locatedIn germany .\n",
    "```\n",
    "\n",
    "#### Cycle\n",
    "Natural language: Inventors killed by their own invention\n",
    "```\n",
    "?invention inventedBy ?inventor .\n",
    "?inventor causeOfDeath ?invention .\n",
    "```\n",
    "\n",
    "#### Path\n",
    "Natural language: Female head of government\n",
    "```\n",
    "?city headOfGovernment ?person .\n",
    "?person sexOrGender female .\n",
    "```\n",
    "\n",
    "#### Sink\n",
    "Natural language: Actors appearing in both The Hobbit movie and in Avengers\n",
    "```\n",
    "hobbit castMember ?actor .\n",
    "avengers castMember ?actor .\n",
    "```"
   ]
  },
  {
   "cell_type": "code",
   "execution_count": 11,
   "metadata": {},
   "outputs": [
    {
     "data": {
      "text/html": [
       "\n",
       "        <div id=\"2370\"/>\n",
       "        <script>\n",
       "        requirejs( ['plotly'], function(plotly) {\n",
       "            plotly.newPlot('2370', [{\"x\":[\"source\",\"path\",\"sink\",\"cycle\"],\"y\":[17517,10661,3,0],\"type\":\"bar\"}])\n",
       "        } )\n",
       "        </script>\n",
       "    "
      ]
     },
     "execution_count": 10,
     "metadata": {},
     "output_type": "execute_result"
    }
   ],
   "source": [
    "var wiki = 'cywiki'\n",
    "Promise.all([\n",
    "    countInQueries('data/' + wiki, analysis.hasSource),\n",
    "    countInQueries('data/' + wiki, analysis.hasPath),\n",
    "    countInQueries('data/' + wiki, analysis.hasSink),\n",
    "    countInQueries('data/' + wiki, analysis.hasCycle),\n",
    "]).then(([source, path, sink, cycle]) => {\n",
    "    makePlot([{\n",
    "        x: ['source', 'path', 'sink', 'cycle'],\n",
    "        y: [source, path, sink, cycle],\n",
    "        type: 'bar'\n",
    "    }])\n",
    "})"
   ]
  },
  {
   "cell_type": "code",
   "execution_count": 12,
   "metadata": {},
   "outputs": [
    {
     "data": {
      "text/html": [
       "\n",
       "        <div id=\"484\"/>\n",
       "        <script>\n",
       "        requirejs( ['plotly'], function(plotly) {\n",
       "            plotly.newPlot('484', [{\"x\":[\"source\",\"path\",\"sink\",\"cycle\"],\"y\":[587,143,296,0],\"type\":\"bar\"}])\n",
       "        } )\n",
       "        </script>\n",
       "    "
      ]
     },
     "execution_count": 11,
     "metadata": {},
     "output_type": "execute_result"
    }
   ],
   "source": [
    "var wiki = 'dewiki'\n",
    "Promise.all([\n",
    "    countInQueries('data/' + wiki, analysis.hasSource),\n",
    "    countInQueries('data/' + wiki, analysis.hasPath),\n",
    "    countInQueries('data/' + wiki, analysis.hasSink),\n",
    "    countInQueries('data/' + wiki, analysis.hasCycle),\n",
    "]).then(([source, path, sink, cycle]) => {\n",
    "    makePlot([{\n",
    "        x: ['source', 'path', 'sink', 'cycle'],\n",
    "        y: [source, path, sink, cycle],\n",
    "        type: 'bar'\n",
    "    }])\n",
    "})"
   ]
  },
  {
   "cell_type": "code",
   "execution_count": 13,
   "metadata": {},
   "outputs": [
    {
     "data": {
      "text/html": [
       "\n",
       "        <div id=\"6652\"/>\n",
       "        <script>\n",
       "        requirejs( ['plotly'], function(plotly) {\n",
       "            plotly.newPlot('6652', [{\"x\":[\"source\",\"path\",\"sink\",\"cycle\"],\"y\":[1177,903,170,0],\"type\":\"bar\"}])\n",
       "        } )\n",
       "        </script>\n",
       "    "
      ]
     },
     "execution_count": 12,
     "metadata": {},
     "output_type": "execute_result"
    }
   ],
   "source": [
    "var wiki = 'enwiki'\n",
    "Promise.all([\n",
    "    countInQueries('data/' + wiki, analysis.hasSource),\n",
    "    countInQueries('data/' + wiki, analysis.hasPath),\n",
    "    countInQueries('data/' + wiki, analysis.hasSink),\n",
    "    countInQueries('data/' + wiki, analysis.hasCycle),\n",
    "]).then(([source, path, sink, cycle]) => {\n",
    "    makePlot([{\n",
    "        x: ['source', 'path', 'sink', 'cycle'],\n",
    "        y: [source, path, sink, cycle],\n",
    "        type: 'bar'\n",
    "    }])\n",
    "})"
   ]
  },
  {
   "cell_type": "code",
   "execution_count": 14,
   "metadata": {},
   "outputs": [
    {
     "data": {
      "text/html": [
       "\n",
       "        <div id=\"8838\"/>\n",
       "        <script>\n",
       "        requirejs( ['plotly'], function(plotly) {\n",
       "            plotly.newPlot('8838', [{\"x\":[\"source\",\"path\",\"sink\",\"cycle\"],\"y\":[2810,2342,7,0],\"type\":\"bar\"}])\n",
       "        } )\n",
       "        </script>\n",
       "    "
      ]
     },
     "execution_count": 13,
     "metadata": {},
     "output_type": "execute_result"
    }
   ],
   "source": [
    "var wiki = 'euwiki'\n",
    "Promise.all([\n",
    "    countInQueries('data/' + wiki, analysis.hasSource),\n",
    "    countInQueries('data/' + wiki, analysis.hasPath),\n",
    "    countInQueries('data/' + wiki, analysis.hasSink),\n",
    "    countInQueries('data/' + wiki, analysis.hasCycle),\n",
    "]).then(([source, path, sink, cycle]) => {\n",
    "    makePlot([{\n",
    "        x: ['source', 'path', 'sink', 'cycle'],\n",
    "        y: [source, path, sink, cycle],\n",
    "        type: 'bar'\n",
    "    }])\n",
    "})"
   ]
  },
  {
   "cell_type": "code",
   "execution_count": 15,
   "metadata": {},
   "outputs": [
    {
     "data": {
      "text/html": [
       "\n",
       "        <div id=\"6193\"/>\n",
       "        <script>\n",
       "        requirejs( ['plotly'], function(plotly) {\n",
       "            plotly.newPlot('6193', [{\"x\":[\"source\",\"path\",\"sink\",\"cycle\"],\"y\":[4774,2073,491,42],\"type\":\"bar\"}])\n",
       "        } )\n",
       "        </script>\n",
       "    "
      ]
     },
     "execution_count": 14,
     "metadata": {},
     "output_type": "execute_result"
    }
   ],
   "source": [
    "var wiki = 'wikidatawiki'\n",
    "Promise.all([\n",
    "    countInQueries('data/' + wiki, analysis.hasSource),\n",
    "    countInQueries('data/' + wiki, analysis.hasPath),\n",
    "    countInQueries('data/' + wiki, analysis.hasSink),\n",
    "    countInQueries('data/' + wiki, analysis.hasCycle),\n",
    "]).then(([source, path, sink, cycle]) => {\n",
    "    makePlot([{\n",
    "        x: ['source', 'path', 'sink', 'cycle'],\n",
    "        y: [source, path, sink, cycle],\n",
    "        type: 'bar'\n",
    "    }])\n",
    "})"
   ]
  },
  {
   "cell_type": "code",
   "execution_count": 16,
   "metadata": {},
   "outputs": [
    {
     "data": {
      "text/html": [
       "\n",
       "        <div id=\"5483\"/>\n",
       "        <script>\n",
       "        requirejs( ['plotly'], function(plotly) {\n",
       "            plotly.newPlot('5483', [{\"x\":[\"source\",\"path\",\"sink\",\"cycle\"],\"y\":[26864,16121,967,42],\"type\":\"bar\"}])\n",
       "        } )\n",
       "        </script>\n",
       "    "
      ]
     },
     "execution_count": 15,
     "metadata": {},
     "output_type": "execute_result"
    }
   ],
   "source": [
    "var wiki = 'all'\n",
    "Promise.all([\n",
    "    countInQueries('data/' + wiki, analysis.hasSource),\n",
    "    countInQueries('data/' + wiki, analysis.hasPath),\n",
    "    countInQueries('data/' + wiki, analysis.hasSink),\n",
    "    countInQueries('data/' + wiki, analysis.hasCycle),\n",
    "]).then(([source, path, sink, cycle]) => {\n",
    "    makePlot([{\n",
    "        x: ['source', 'path', 'sink', 'cycle'],\n",
    "        y: [source, path, sink, cycle],\n",
    "        type: 'bar'\n",
    "    }])\n",
    "})"
   ]
  },
  {
   "cell_type": "code",
   "execution_count": 17,
   "metadata": {},
   "outputs": [
    {
     "data": {
      "text/html": [
       "\n",
       "        <div id=\"1875\"/>\n",
       "        <script>\n",
       "        requirejs( ['plotly'], function(plotly) {\n",
       "            plotly.newPlot('1875', [{\"x\":[\"source\",\"path\",\"sink\",\"cycle\"],\"y\":[2256,1475,442,21],\"type\":\"bar\"}])\n",
       "        } )\n",
       "        </script>\n",
       "    "
      ]
     },
     "execution_count": 16,
     "metadata": {},
     "output_type": "execute_result"
    }
   ],
   "source": [
    "var wiki = 'normalized'\n",
    "Promise.all([\n",
    "    countInQueries('data/' + wiki, analysis.hasSource),\n",
    "    countInQueries('data/' + wiki, analysis.hasPath),\n",
    "    countInQueries('data/' + wiki, analysis.hasSink),\n",
    "    countInQueries('data/' + wiki, analysis.hasCycle),\n",
    "]).then(([source, path, sink, cycle]) => {\n",
    "    makePlot([{\n",
    "        x: ['source', 'path', 'sink', 'cycle'],\n",
    "        y: [source, path, sink, cycle],\n",
    "        type: 'bar'\n",
    "    }])\n",
    "})"
   ]
  },
  {
   "cell_type": "markdown",
   "metadata": {},
   "source": [
    "## \"Backwards\" queries"
   ]
  },
  {
   "cell_type": "code",
   "execution_count": 18,
   "metadata": {},
   "outputs": [
    {
     "data": {
      "text/html": [
       "\n",
       "        <div id=\"3115\"/>\n",
       "        <script>\n",
       "        requirejs( ['plotly'], function(plotly) {\n",
       "            plotly.newPlot('3115', [{\"x\":[\"cywiki\",\"dewiki\",\"enwiki\",\"euwiki\",\"wikidata\",\"all queries normalized\"],\"y\":[2,3,6,6,76,34],\"type\":\"bar\"}])\n",
       "        } )\n",
       "        </script>\n",
       "    "
      ]
     },
     "execution_count": 17,
     "metadata": {},
     "output_type": "execute_result"
    }
   ],
   "source": [
    "Promise.all([\n",
    "    countInQueries('data/cywiki', analysis.hasURISubject),\n",
    "    countInQueries('data/dewiki', analysis.hasURISubject),\n",
    "    countInQueries('data/enwiki', analysis.hasURISubject),\n",
    "    countInQueries('data/euwiki', analysis.hasURISubject),\n",
    "    countInQueries('data/wikidatawiki', analysis.hasURISubject),\n",
    "    countInQueries('data/normalized', analysis.hasURISubject),\n",
    "]).then(([cy, de, en, eu, wd, normalized]) => {\n",
    "    makePlot([{\n",
    "        x: ['cywiki', 'dewiki', 'enwiki', 'euwiki', 'wikidata', 'all queries normalized'],\n",
    "        y: [cy, de, en, eu, wd, normalized],\n",
    "        type: 'bar'\n",
    "    }])\n",
    "})"
   ]
  },
  {
   "cell_type": "markdown",
   "metadata": {},
   "source": [
    "## Property Paths"
   ]
  },
  {
   "cell_type": "code",
   "execution_count": 19,
   "metadata": {},
   "outputs": [
    {
     "data": {
      "text/html": [
       "\n",
       "        <div id=\"1298\"/>\n",
       "        <script>\n",
       "        requirejs( ['plotly'], function(plotly) {\n",
       "            plotly.newPlot('1298', [{\"x\":[\"P279\",\"P171\",\"P740\",\"P131\",\"P19\",\"P106\",\"P31\",\"P1001\",\"P364\",\"P407\",\"P20\",\"P937\",\"P69\"],\"y\":[1270,9383,55,118,44,10,1,1,1,1,3,3,6],\"type\":\"bar\"}])\n",
       "        } )\n",
       "        </script>\n",
       "    "
      ]
     },
     "execution_count": 18,
     "metadata": {},
     "output_type": "execute_result"
    }
   ],
   "source": [
    "analysis.getPropertyPathPredicates('data/cywiki').then((properties) => {\n",
    "    makePlot([{\n",
    "        x: Object.keys(properties).map((prop) => prop.substr(36)),\n",
    "        y: Object.values(properties),\n",
    "        type: 'bar'\n",
    "    }])\n",
    "})"
   ]
  },
  {
   "cell_type": "code",
   "execution_count": 20,
   "metadata": {},
   "outputs": [
    {
     "data": {
      "text/html": [
       "\n",
       "        <div id=\"5074\"/>\n",
       "        <script>\n",
       "        requirejs( ['plotly'], function(plotly) {\n",
       "            plotly.newPlot('5074', [{\"x\":[\"P279\",\"P31\",\"P131\",\"P150\",\"P1435\",\"P176\",\"P1001\",\"P527\",\"P361\",\"P5607\",\"P21\",\"P136\",\"P106\",\"P4552\",\"P706\",\"P159\",\"P276\",\"P27\",\"P41\",\"P411\"],\"y\":[217,117,594,487,3,2,35,5,6,2,1,2,3,1,1,1,1,1,1,2],\"type\":\"bar\"}])\n",
       "        } )\n",
       "        </script>\n",
       "    "
      ]
     },
     "execution_count": 19,
     "metadata": {},
     "output_type": "execute_result"
    }
   ],
   "source": [
    "analysis.getPropertyPathPredicates('data/dewiki').then((properties) => {\n",
    "    makePlot([{\n",
    "        x: Object.keys(properties).map((prop) => prop.substr(36)),\n",
    "        y: Object.values(properties),\n",
    "        type: 'bar'\n",
    "    }])\n",
    "})"
   ]
  },
  {
   "cell_type": "code",
   "execution_count": 21,
   "metadata": {},
   "outputs": [
    {
     "data": {
      "text/html": [
       "\n",
       "        <div id=\"8391\"/>\n",
       "        <script>\n",
       "        requirejs( ['plotly'], function(plotly) {\n",
       "            plotly.newPlot('8391', [{\"x\":[\"P360\",\"P361\",\"P541\",\"P279\",\"P31\",\"P171\",\"P131\",\"P106\",\"P527\",\"P172\",\"P150\",\"P1343\",\"P1142\",\"P1387\",\"P2632\",\"P20\",\"P136\",\"P17\",\"P166\",\"P176\",\"P669\",\"P969\",\"P19\",\"P170\",\"P21\",\"P607\",\"P241\",\"P463\",\"P921\",\"P1001\"],\"y\":[1,40,38,211,84,6,70,16,4,2,13,1,4,4,1,2,1,1,2,1,1,1,1,1,1,2,1,1,1,1],\"type\":\"bar\"}])\n",
       "        } )\n",
       "        </script>\n",
       "    "
      ]
     },
     "execution_count": 20,
     "metadata": {},
     "output_type": "execute_result"
    }
   ],
   "source": [
    "analysis.getPropertyPathPredicates('data/enwiki').then((properties) => {\n",
    "    makePlot([{\n",
    "        x: Object.keys(properties).map((prop) => prop.substr(36)),\n",
    "        y: Object.values(properties),\n",
    "        type: 'bar'\n",
    "    }])\n",
    "})"
   ]
  },
  {
   "cell_type": "code",
   "execution_count": 22,
   "metadata": {},
   "outputs": [
    {
     "data": {
      "text/html": [
       "\n",
       "        <div id=\"1527\"/>\n",
       "        <script>\n",
       "        requirejs( ['plotly'], function(plotly) {\n",
       "            plotly.newPlot('1527', [{\"x\":[\"P31\",\"P279\",\"P131\",\"P171\",\"P19\",\"P527\",\"P20\",\"P166\",\"P937\",\"P551\",\"P106\"],\"y\":[20,23,1504,116,1465,1471,1,3,1,1,1],\"type\":\"bar\"}])\n",
       "        } )\n",
       "        </script>\n",
       "    "
      ]
     },
     "execution_count": 21,
     "metadata": {},
     "output_type": "execute_result"
    }
   ],
   "source": [
    "analysis.getPropertyPathPredicates('data/euwiki').then((properties) => {\n",
    "    makePlot([{\n",
    "        x: Object.keys(properties).map((prop) => prop.substr(36)),\n",
    "        y: Object.values(properties),\n",
    "        type: 'bar'\n",
    "    }])\n",
    "})"
   ]
  },
  {
   "cell_type": "code",
   "execution_count": 23,
   "metadata": {},
   "outputs": [
    {
     "data": {
      "text/html": [
       "\n",
       "        <div id=\"573\"/>\n",
       "        <script>\n",
       "        requirejs( ['plotly'], function(plotly) {\n",
       "            plotly.newPlot('573', [{\"x\":[\"P131\",\"P31\",\"P279\",\"P361\",\"P106\",\"P2596\",\"P1181\",\"P40\",\"P17\",\"P298\",\"P462\",\"P172\",\"P108\",\"P463\",\"P1416\",\"P91\",\"P1269\",\"P1435\",\"P276\",\"P16\",\"P20\",\"P629\",\"P1344\",\"P171\",\"P275\",\"P195\",\"P50\",\"P98\",\"P179\",\"P39\",\"P355\",\"P735\",\"P1705\",\"P19\",\"P22\",\"P25\",\"P26\",\"P136\",\"P180\",\"P21\",\"P921\",\"P301\",\"P360\",\"P1151\",\"P1080\",\"P1434\",\"P1441\",\"P123\",\"P162\",\"P178\",\"P1001\",\"P395\",\"P460\",\"P971\",\"P424\",\"P5973\",\"P305\",\"P101\",\"P5137\",\"P2650\",\"P610\",\"P2044\",\"P527\",\"P119\",\"P485\",\"P159\",\"P551\",\"P69\",\"P150\",\"P3091\",\"P5972\",\"P2283\",\"P937\"],\"y\":[578,1019,1636,58,70,1,1,30,15,1,4,1,13,13,13,1,2,2,11,2,7,1,1,4,2,3,1,1,3,6,1,1,1,4,2,2,2,3,136,70,4,3,1,1,1,1,1,1,1,1,2,1,1,4,3,1,4,1,2,1,1,1,1,1,1,1,1,1,5,1,1,1,1],\"type\":\"bar\"}])\n",
       "        } )\n",
       "        </script>\n",
       "    "
      ]
     },
     "execution_count": 22,
     "metadata": {},
     "output_type": "execute_result"
    }
   ],
   "source": [
    "analysis.getPropertyPathPredicates('data/wikidatawiki').then((properties) => {\n",
    "    makePlot([{\n",
    "        x: Object.keys(properties).map((prop) => prop.substr(36)),\n",
    "        y: Object.values(properties),\n",
    "        type: 'bar'\n",
    "    }])\n",
    "})"
   ]
  },
  {
   "cell_type": "code",
   "execution_count": 24,
   "metadata": {},
   "outputs": [
    {
     "data": {
      "text/html": [
       "\n",
       "        <div id=\"4184\"/>\n",
       "        <script>\n",
       "        requirejs( ['plotly'], function(plotly) {\n",
       "            plotly.newPlot('4184', [{\"x\":[\"P279\",\"P171\",\"P740\",\"P131\",\"P19\",\"P106\",\"P31\",\"P1001\",\"P364\",\"P407\",\"P20\",\"P937\",\"P69\",\"P150\",\"P1435\",\"P176\",\"P527\",\"P361\",\"P5607\",\"P21\",\"P136\",\"P4552\",\"P706\",\"P159\",\"P276\",\"P27\",\"P41\",\"P411\",\"P360\",\"P541\",\"P172\",\"P1343\",\"P1142\",\"P1387\",\"P2632\",\"P17\",\"P166\",\"P669\",\"P969\",\"P170\",\"P607\",\"P241\",\"P463\",\"P921\",\"P551\",\"P2596\",\"P1181\",\"P40\",\"P298\",\"P462\",\"P108\",\"P1416\",\"P91\",\"P1269\",\"P16\",\"P629\",\"P1344\",\"P275\",\"P195\",\"P50\",\"P98\",\"P179\",\"P39\",\"P355\",\"P735\",\"P1705\",\"P22\",\"P25\",\"P26\",\"P180\",\"P301\",\"P1151\",\"P1080\",\"P1434\",\"P1441\",\"P123\",\"P162\",\"P178\",\"P395\",\"P460\",\"P971\",\"P424\",\"P5973\",\"P305\",\"P101\",\"P5137\",\"P2650\",\"P610\",\"P2044\",\"P119\",\"P485\",\"P3091\",\"P5972\",\"P2283\"],\"y\":[3357,9509,55,2864,1514,100,1241,39,1,1,13,5,7,505,5,3,1481,104,2,72,6,1,1,2,12,1,1,2,2,38,3,1,4,4,1,16,5,1,1,1,2,1,14,5,2,1,1,30,1,4,13,13,1,2,2,1,1,2,3,1,1,3,6,1,1,1,2,2,2,136,3,1,1,1,1,1,1,1,1,1,4,3,1,4,1,2,1,1,1,1,1,1,1,1],\"type\":\"bar\"}])\n",
       "        } )\n",
       "        </script>\n",
       "    "
      ]
     },
     "execution_count": 23,
     "metadata": {},
     "output_type": "execute_result"
    }
   ],
   "source": [
    "analysis.getPropertyPathPredicates('data/all').then((properties) => {\n",
    "    makePlot([{\n",
    "        x: Object.keys(properties).map((prop) => prop.substr(36)),\n",
    "        y: Object.values(properties),\n",
    "        type: 'bar'\n",
    "    }])\n",
    "})"
   ]
  },
  {
   "cell_type": "markdown",
   "metadata": {},
   "source": [
    "## Usage of Different Data Types"
   ]
  },
  {
   "cell_type": "markdown",
   "metadata": {},
   "source": [
    "### Most popular data types"
   ]
  },
  {
   "cell_type": "code",
   "execution_count": 25,
   "metadata": {},
   "outputs": [
    {
     "data": {
      "text/html": [
       "\n",
       "        <div id=\"4286\"/>\n",
       "        <script>\n",
       "        requirejs( ['plotly'], function(plotly) {\n",
       "            plotly.newPlot('4286', [{\"x\":[\"wikibase-item\",\"time\",\"globe-coordinate\",\"commonsMedia\",\"quantity\",\"external-id\",\"monolingualtext\",\"string\",\"geo-shape\",\"url\",\"wikibase-property\",\"wikibase-lexeme\",\"wikibase-form\",\"wikibase-sense\",\"musical-notation\",\"math\"],\"y\":[83409,9125,109,360,2407,1090,149,672,1,34,6,2,1,2,2,1],\"type\":\"bar\"}])\n",
       "        } )\n",
       "        </script>\n",
       "    "
      ]
     },
     "execution_count": 24,
     "metadata": {},
     "output_type": "execute_result"
    }
   ],
   "source": [
    "analysis.getDatatypesPerQuery('data/all').then((dt) => {\n",
    "    makePlot([{\n",
    "        x: Object.keys(dt),\n",
    "        y: Object.values(dt),\n",
    "        type: 'bar'\n",
    "    }])\n",
    "})"
   ]
  },
  {
   "cell_type": "code",
   "execution_count": 26,
   "metadata": {},
   "outputs": [
    {
     "data": {
      "text/html": [
       "\n",
       "        <div id=\"8443\"/>\n",
       "        <script>\n",
       "        requirejs( ['plotly'], function(plotly) {\n",
       "            plotly.newPlot('8443', [{\"x\":[\"wikibase-item\",\"time\",\"globe-coordinate\",\"commonsMedia\",\"quantity\",\"external-id\",\"monolingualtext\",\"string\"],\"y\":[52236,6295,3,3,1,5,2,1],\"type\":\"bar\"}])\n",
       "        } )\n",
       "        </script>\n",
       "    "
      ]
     },
     "execution_count": 25,
     "metadata": {},
     "output_type": "execute_result"
    }
   ],
   "source": [
    "analysis.getDatatypesPerQuery('data/cywiki').then((dt) => {\n",
    "    makePlot([{\n",
    "        x: Object.keys(dt),\n",
    "        y: Object.values(dt),\n",
    "        type: 'bar'\n",
    "    }])\n",
    "})"
   ]
  },
  {
   "cell_type": "code",
   "execution_count": 27,
   "metadata": {},
   "outputs": [
    {
     "data": {
      "text/html": [
       "\n",
       "        <div id=\"3820\"/>\n",
       "        <script>\n",
       "        requirejs( ['plotly'], function(plotly) {\n",
       "            plotly.newPlot('3820', [{\"x\":[\"time\",\"wikibase-item\",\"external-id\",\"monolingualtext\",\"string\",\"geo-shape\",\"quantity\",\"globe-coordinate\",\"commonsMedia\"],\"y\":[31,2797,39,5,12,1,3,5,14],\"type\":\"bar\"}])\n",
       "        } )\n",
       "        </script>\n",
       "    "
      ]
     },
     "execution_count": 26,
     "metadata": {},
     "output_type": "execute_result"
    }
   ],
   "source": [
    "analysis.getDatatypesPerQuery('data/dewiki').then((dt) => {\n",
    "    makePlot([{\n",
    "        x: Object.keys(dt),\n",
    "        y: Object.values(dt),\n",
    "        type: 'bar'\n",
    "    }])\n",
    "})"
   ]
  },
  {
   "cell_type": "code",
   "execution_count": 28,
   "metadata": {},
   "outputs": [
    {
     "data": {
      "text/html": [
       "\n",
       "        <div id=\"3126\"/>\n",
       "        <script>\n",
       "        requirejs( ['plotly'], function(plotly) {\n",
       "            plotly.newPlot('3126', [{\"x\":[\"external-id\",\"wikibase-item\",\"time\",\"commonsMedia\",\"string\",\"quantity\",\"monolingualtext\",\"url\",\"globe-coordinate\"],\"y\":[200,4958,159,78,62,35,58,4,9],\"type\":\"bar\"}])\n",
       "        } )\n",
       "        </script>\n",
       "    "
      ]
     },
     "execution_count": 27,
     "metadata": {},
     "output_type": "execute_result"
    }
   ],
   "source": [
    "analysis.getDatatypesPerQuery('data/enwiki').then((dt) => {\n",
    "    makePlot([{\n",
    "        x: Object.keys(dt),\n",
    "        y: Object.values(dt),\n",
    "        type: 'bar'\n",
    "    }])\n",
    "})"
   ]
  },
  {
   "cell_type": "code",
   "execution_count": 29,
   "metadata": {},
   "outputs": [
    {
     "data": {
      "text/html": [
       "\n",
       "        <div id=\"5413\"/>\n",
       "        <script>\n",
       "        requirejs( ['plotly'], function(plotly) {\n",
       "            plotly.newPlot('5413', [{\"x\":[\"wikibase-item\",\"time\",\"commonsMedia\",\"quantity\",\"external-id\",\"globe-coordinate\"],\"y\":[8074,767,14,2200,6,3],\"type\":\"bar\"}])\n",
       "        } )\n",
       "        </script>\n",
       "    "
      ]
     },
     "execution_count": 28,
     "metadata": {},
     "output_type": "execute_result"
    }
   ],
   "source": [
    "analysis.getDatatypesPerQuery('data/euwiki').then((dt) => {\n",
    "    makePlot([{\n",
    "        x: Object.keys(dt),\n",
    "        y: Object.values(dt),\n",
    "        type: 'bar'\n",
    "    }])\n",
    "})"
   ]
  },
  {
   "cell_type": "code",
   "execution_count": 30,
   "metadata": {},
   "outputs": [
    {
     "data": {
      "text/html": [
       "\n",
       "        <div id=\"5972\"/>\n",
       "        <script>\n",
       "        requirejs( ['plotly'], function(plotly) {\n",
       "            plotly.newPlot('5972', [{\"x\":[\"wikibase-item\",\"commonsMedia\",\"monolingualtext\",\"string\",\"external-id\",\"time\",\"quantity\",\"globe-coordinate\",\"wikibase-property\",\"url\",\"wikibase-lexeme\",\"wikibase-form\",\"wikibase-sense\",\"musical-notation\",\"math\"],\"y\":[15346,251,84,597,840,1873,168,89,6,30,2,1,2,2,1],\"type\":\"bar\"}])\n",
       "        } )\n",
       "        </script>\n",
       "    "
      ]
     },
     "execution_count": 29,
     "metadata": {},
     "output_type": "execute_result"
    }
   ],
   "source": [
    "analysis.getDatatypesPerQuery('data/wikidatawiki').then((dt) => {\n",
    "    makePlot([{\n",
    "        x: Object.keys(dt),\n",
    "        y: Object.values(dt),\n",
    "        type: 'bar'\n",
    "    }])\n",
    "})"
   ]
  },
  {
   "cell_type": "markdown",
   "metadata": {},
   "source": [
    "### % of queries that can be produced with a given set of data types"
   ]
  },
  {
   "cell_type": "code",
   "execution_count": 41,
   "metadata": {},
   "outputs": [
    {
     "data": {
      "text/html": [
       "\n",
       "        <div id=\"1836\"/>\n",
       "        <script>\n",
       "        requirejs( ['plotly'], function(plotly) {\n",
       "            plotly.newPlot('1836', [{\"x\":[\"cywiki\",\"dewiki\",\"enwiki\",\"euwiki\",\"wikidata\",\"all\"],\"y\":[64.15449566408033,90.67357512953367,83.3729216152019,20.873269435569757,70.30186703891118,63.26333241226858],\"type\":\"bar\"}])\n",
       "        } )\n",
       "        </script>\n",
       "    "
      ]
     },
     "execution_count": 41,
     "metadata": {},
     "output_type": "execute_result"
    }
   ],
   "source": [
    "Promise.all([\n",
    "    countInQueries('data/cywiki', analysis.canBeBuiltWithDatatypes(['wikibase-item'])),\n",
    "    countInQueries('data/dewiki', analysis.canBeBuiltWithDatatypes(['wikibase-item'])),\n",
    "    countInQueries('data/enwiki', analysis.canBeBuiltWithDatatypes(['wikibase-item'])),\n",
    "    countInQueries('data/euwiki', analysis.canBeBuiltWithDatatypes(['wikibase-item'])),\n",
    "    countInQueries('data/wikidatawiki', analysis.canBeBuiltWithDatatypes(['wikibase-item'])),\n",
    "    countInQueries('data/all', analysis.canBeBuiltWithDatatypes(['wikibase-item'])),\n",
    "]).then(([cy, de, en, eu, wd, all]) => {\n",
    "    makePlot([{\n",
    "        x: ['cywiki', 'dewiki', 'enwiki', 'euwiki', 'wikidata', 'all'],\n",
    "        y: [cy/17528*100, de/772*100, en/2105*100, eu/2817*100, wd/5731*100, all/28952*100], // silly hardcoded values\n",
    "        type: 'bar'\n",
    "    }])\n",
    "})"
   ]
  },
  {
   "cell_type": "code",
   "execution_count": 32,
   "metadata": {},
   "outputs": [
    {
     "data": {
      "text/html": [
       "\n",
       "        <div id=\"7273\"/>\n",
       "        <script>\n",
       "        requirejs( ['plotly'], function(plotly) {\n",
       "            plotly.newPlot('7273', [{\"x\":[\"cywiki\",\"dewiki\",\"enwiki\",\"euwiki\",\"wikidata\",\"all\"],\"y\":[99.94294842537654,93.78238341968913,86.93586698337292,21.405750798722046,77.82236956901065,86.81265542967671],\"type\":\"bar\"}])\n",
       "        } )\n",
       "        </script>\n",
       "    "
      ]
     },
     "execution_count": 31,
     "metadata": {},
     "output_type": "execute_result"
    }
   ],
   "source": [
    "Promise.all([\n",
    "    countInQueries('data/cywiki', analysis.canBeBuiltWithDatatypes(['wikibase-item', 'time'])),\n",
    "    countInQueries('data/dewiki', analysis.canBeBuiltWithDatatypes(['wikibase-item', 'time'])),\n",
    "    countInQueries('data/enwiki', analysis.canBeBuiltWithDatatypes(['wikibase-item', 'time'])),\n",
    "    countInQueries('data/euwiki', analysis.canBeBuiltWithDatatypes(['wikibase-item', 'time'])),\n",
    "    countInQueries('data/wikidatawiki', analysis.canBeBuiltWithDatatypes(['wikibase-item', 'time'])),\n",
    "    countInQueries('data/all', analysis.canBeBuiltWithDatatypes(['wikibase-item', 'time'])),\n",
    "]).then(([cy, de, en, eu, wd, all]) => {\n",
    "    makePlot([{\n",
    "        x: ['cywiki', 'dewiki', 'enwiki', 'euwiki', 'wikidata', 'all'],\n",
    "        y: [cy/17528*100, de/772*100, en/2105*100, eu/2817*100, wd/5731*100, all/28952*100],\n",
    "        type: 'bar'\n",
    "    }])\n",
    "})"
   ]
  },
  {
   "cell_type": "code",
   "execution_count": 33,
   "metadata": {},
   "outputs": [
    {
     "data": {
      "text/html": [
       "\n",
       "        <div id=\"1888\"/>\n",
       "        <script>\n",
       "        requirejs( ['plotly'], function(plotly) {\n",
       "            plotly.newPlot('1888', [{\"x\":[\"cywiki\",\"dewiki\",\"enwiki\",\"euwiki\",\"wikidata\",\"all\"],\"y\":[99.97147421268828,96.50259067357513,91.87648456057008,21.441249556265532,82.32420170999826,88.15625863498204],\"type\":\"bar\"}])\n",
       "        } )\n",
       "        </script>\n",
       "    "
      ]
     },
     "execution_count": 32,
     "metadata": {},
     "output_type": "execute_result"
    }
   ],
   "source": [
    "Promise.all([\n",
    "    countInQueries('data/cywiki', analysis.canBeBuiltWithDatatypes(['wikibase-item', 'time', 'external-id'])),\n",
    "    countInQueries('data/dewiki', analysis.canBeBuiltWithDatatypes(['wikibase-item', 'time', 'external-id'])),\n",
    "    countInQueries('data/enwiki', analysis.canBeBuiltWithDatatypes(['wikibase-item', 'time', 'external-id'])),\n",
    "    countInQueries('data/euwiki', analysis.canBeBuiltWithDatatypes(['wikibase-item', 'time', 'external-id'])),\n",
    "    countInQueries('data/wikidatawiki', analysis.canBeBuiltWithDatatypes(['wikibase-item', 'time', 'external-id'])),\n",
    "    countInQueries('data/all', analysis.canBeBuiltWithDatatypes(['wikibase-item', 'time', 'external-id'])),\n",
    "]).then(([cy, de, en, eu, wd, all]) => {\n",
    "    makePlot([{\n",
    "        x: ['cywiki', 'dewiki', 'enwiki', 'euwiki', 'wikidata', 'all'],\n",
    "        y: [cy/17528*100, de/772*100, en/2105*100, eu/2817*100, wd/5731*100, all/28952*100],\n",
    "        type: 'bar'\n",
    "    }])\n",
    "})"
   ]
  },
  {
   "cell_type": "markdown",
   "metadata": {},
   "source": [
    "## Usage by data model part"
   ]
  },
  {
   "cell_type": "code",
   "execution_count": 34,
   "metadata": {},
   "outputs": [
    {
     "data": {
      "text/html": [
       "\n",
       "        <div id=\"3479\"/>\n",
       "        <script>\n",
       "        requirejs( ['plotly'], function(plotly) {\n",
       "            plotly.newPlot('3479', [{\"x\":[\"qualifiers\",\"references\",\"sitelinks\"],\"y\":[1,2,6],\"type\":\"bar\"}])\n",
       "        } )\n",
       "        </script>\n",
       "    "
      ]
     },
     "execution_count": 33,
     "metadata": {},
     "output_type": "execute_result"
    }
   ],
   "source": [
    "var wiki = 'cywiki'\n",
    "Promise.all([\n",
    "    countInQueries('data/' + wiki, analysis.hasQualifiers),\n",
    "    countInQueries('data/' + wiki, analysis.hasReferences),\n",
    "    countInQueries('data/' + wiki, analysis.hasSitelinks),\n",
    "]).then(([qualifiers, references, sitelinks]) => {\n",
    "    makePlot([{\n",
    "        x: ['qualifiers', 'references', 'sitelinks'],\n",
    "        y: [qualifiers, references, sitelinks],\n",
    "        type: 'bar'\n",
    "    }])\n",
    "})"
   ]
  },
  {
   "cell_type": "code",
   "execution_count": 35,
   "metadata": {},
   "outputs": [
    {
     "data": {
      "text/html": [
       "\n",
       "        <div id=\"8837\"/>\n",
       "        <script>\n",
       "        requirejs( ['plotly'], function(plotly) {\n",
       "            plotly.newPlot('8837', [{\"x\":[\"qualifiers\",\"references\",\"sitelinks\"],\"y\":[37,1,44],\"type\":\"bar\"}])\n",
       "        } )\n",
       "        </script>\n",
       "    "
      ]
     },
     "execution_count": 34,
     "metadata": {},
     "output_type": "execute_result"
    }
   ],
   "source": [
    "var wiki = 'dewiki'\n",
    "Promise.all([\n",
    "    countInQueries('data/' + wiki, analysis.hasQualifiers),\n",
    "    countInQueries('data/' + wiki, analysis.hasReferences),\n",
    "    countInQueries('data/' + wiki, analysis.hasSitelinks),\n",
    "]).then(([qualifiers, references, sitelinks]) => {\n",
    "    makePlot([{\n",
    "        x: ['qualifiers', 'references', 'sitelinks'],\n",
    "        y: [qualifiers, references, sitelinks],\n",
    "        type: 'bar'\n",
    "    }])\n",
    "})"
   ]
  },
  {
   "cell_type": "code",
   "execution_count": 36,
   "metadata": {},
   "outputs": [
    {
     "data": {
      "text/html": [
       "\n",
       "        <div id=\"2804\"/>\n",
       "        <script>\n",
       "        requirejs( ['plotly'], function(plotly) {\n",
       "            plotly.newPlot('2804', [{\"x\":[\"qualifiers\",\"references\",\"sitelinks\"],\"y\":[114,2,641],\"type\":\"bar\"}])\n",
       "        } )\n",
       "        </script>\n",
       "    "
      ]
     },
     "execution_count": 35,
     "metadata": {},
     "output_type": "execute_result"
    }
   ],
   "source": [
    "var wiki = 'enwiki'\n",
    "Promise.all([\n",
    "    countInQueries('data/' + wiki, analysis.hasQualifiers),\n",
    "    countInQueries('data/' + wiki, analysis.hasReferences),\n",
    "    countInQueries('data/' + wiki, analysis.hasSitelinks),\n",
    "]).then(([qualifiers, references, sitelinks]) => {\n",
    "    makePlot([{\n",
    "        x: ['qualifiers', 'references', 'sitelinks'],\n",
    "        y: [qualifiers, references, sitelinks],\n",
    "        type: 'bar'\n",
    "    }])\n",
    "})"
   ]
  },
  {
   "cell_type": "code",
   "execution_count": 37,
   "metadata": {},
   "outputs": [
    {
     "data": {
      "text/html": [
       "\n",
       "        <div id=\"1564\"/>\n",
       "        <script>\n",
       "        requirejs( ['plotly'], function(plotly) {\n",
       "            plotly.newPlot('1564', [{\"x\":[\"qualifiers\",\"references\",\"sitelinks\"],\"y\":[8,0,5],\"type\":\"bar\"}])\n",
       "        } )\n",
       "        </script>\n",
       "    "
      ]
     },
     "execution_count": 36,
     "metadata": {},
     "output_type": "execute_result"
    }
   ],
   "source": [
    "var wiki = 'euwiki'\n",
    "Promise.all([\n",
    "    countInQueries('data/' + wiki, analysis.hasQualifiers),\n",
    "    countInQueries('data/' + wiki, analysis.hasReferences),\n",
    "    countInQueries('data/' + wiki, analysis.hasSitelinks),\n",
    "]).then(([qualifiers, references, sitelinks]) => {\n",
    "    makePlot([{\n",
    "        x: ['qualifiers', 'references', 'sitelinks'],\n",
    "        y: [qualifiers, references, sitelinks],\n",
    "        type: 'bar'\n",
    "    }])\n",
    "})"
   ]
  },
  {
   "cell_type": "code",
   "execution_count": 38,
   "metadata": {},
   "outputs": [
    {
     "data": {
      "text/html": [
       "\n",
       "        <div id=\"1655\"/>\n",
       "        <script>\n",
       "        requirejs( ['plotly'], function(plotly) {\n",
       "            plotly.newPlot('1655', [{\"x\":[\"qualifiers\",\"references\",\"sitelinks\"],\"y\":[929,30,451],\"type\":\"bar\"}])\n",
       "        } )\n",
       "        </script>\n",
       "    "
      ]
     },
     "execution_count": 37,
     "metadata": {},
     "output_type": "execute_result"
    }
   ],
   "source": [
    "var wiki = 'wikidatawiki'\n",
    "Promise.all([\n",
    "    countInQueries('data/' + wiki, analysis.hasQualifiers),\n",
    "    countInQueries('data/' + wiki, analysis.hasReferences),\n",
    "    countInQueries('data/' + wiki, analysis.hasSitelinks),\n",
    "]).then(([qualifiers, references, sitelinks]) => {\n",
    "    makePlot([{\n",
    "        x: ['qualifiers', 'references', 'sitelinks'],\n",
    "        y: [qualifiers, references, sitelinks],\n",
    "        type: 'bar'\n",
    "    }])\n",
    "})"
   ]
  },
  {
   "cell_type": "code",
   "execution_count": 39,
   "metadata": {},
   "outputs": [
    {
     "data": {
      "text/html": [
       "\n",
       "        <div id=\"3335\"/>\n",
       "        <script>\n",
       "        requirejs( ['plotly'], function(plotly) {\n",
       "            plotly.newPlot('3335', [{\"x\":[\"qualifiers\",\"references\",\"sitelinks\"],\"y\":[1089,35,1146],\"type\":\"bar\"}])\n",
       "        } )\n",
       "        </script>\n",
       "    "
      ]
     },
     "execution_count": 38,
     "metadata": {},
     "output_type": "execute_result"
    }
   ],
   "source": [
    "var wiki = 'all'\n",
    "Promise.all([\n",
    "    countInQueries('data/' + wiki, analysis.hasQualifiers),\n",
    "    countInQueries('data/' + wiki, analysis.hasReferences),\n",
    "    countInQueries('data/' + wiki, analysis.hasSitelinks),\n",
    "]).then(([qualifiers, references, sitelinks]) => {\n",
    "    makePlot([{\n",
    "        x: ['qualifiers', 'references', 'sitelinks'],\n",
    "        y: [qualifiers, references, sitelinks],\n",
    "        type: 'bar'\n",
    "    }])\n",
    "})"
   ]
  },
  {
   "cell_type": "code",
   "execution_count": 39,
   "metadata": {},
   "outputs": [
    {
     "data": {
      "text/html": [
       "\n",
       "        <div id=\"2243\"/>\n",
       "        <script>\n",
       "        requirejs( ['plotly'], function(plotly) {\n",
       "            plotly.newPlot('2243', [{\"x\":[\"qualifiers\",\"references\",\"sitelinks\"],\"y\":[497,23,518],\"type\":\"bar\"}])\n",
       "        } )\n",
       "        </script>\n",
       "    "
      ]
     },
     "execution_count": 39,
     "metadata": {},
     "output_type": "execute_result"
    }
   ],
   "source": [
    "var wiki = 'normalized'\n",
    "Promise.all([\n",
    "    countInQueries('data/' + wiki, analysis.hasQualifiers),\n",
    "    countInQueries('data/' + wiki, analysis.hasReferences),\n",
    "    countInQueries('data/' + wiki, analysis.hasSitelinks),\n",
    "]).then(([qualifiers, references, sitelinks]) => {\n",
    "    makePlot([{\n",
    "        x: ['qualifiers', 'references', 'sitelinks'],\n",
    "        y: [qualifiers, references, sitelinks],\n",
    "        type: 'bar'\n",
    "    }])\n",
    "})"
   ]
  },
  {
   "cell_type": "code",
   "execution_count": null,
   "metadata": {},
   "outputs": [],
   "source": []
  }
 ],
 "metadata": {
  "kernelspec": {
   "display_name": "Javascript (Node.js)",
   "language": "javascript",
   "name": "javascript"
  },
  "language_info": {
   "file_extension": ".js",
   "mimetype": "application/javascript",
   "name": "javascript",
   "version": "13.9.0"
  }
 },
 "nbformat": 4,
 "nbformat_minor": 4
}
