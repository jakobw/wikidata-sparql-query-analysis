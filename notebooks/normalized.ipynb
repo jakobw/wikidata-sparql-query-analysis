{
 "cells": [
  {
   "cell_type": "code",
   "execution_count": 2,
   "metadata": {},
   "outputs": [],
   "source": [
    "const _ = require('lodash')\n",
    "const traverse = require('traverse')\n",
    "const sparqljs = require('sparqljs')\n",
    "\n",
    "const eachFileInDir = require('./eachFileInDir')\n",
    "const countInQueries = require('./countInQueries')\n",
    "const namespaces = require('./namespaces')\n",
    "const parser = new sparqljs.Parser(namespaces)\n",
    "const Query = require('./Query')\n",
    "\n",
    "const WIKI = 'data/normalized'"
   ]
  },
  {
   "cell_type": "markdown",
   "metadata": {
    "collapsed": true
   },
   "source": [
    "## Valid Queries"
   ]
  },
  {
   "cell_type": "code",
   "execution_count": 3,
   "metadata": {},
   "outputs": [
    {
     "name": "stdout",
     "output_type": "stream",
     "text": [
      "data/normalized 2484 2484\n"
     ]
    }
   ],
   "source": [
    "var isValidQuery = (query) => {\n",
    "    return true // will internally throw an exception when parsed\n",
    "}\n",
    "\n",
    "countInQueries(WIKI, isValidQuery)"
   ]
  },
  {
   "cell_type": "markdown",
   "metadata": {},
   "source": [
    "## OPTIONAL"
   ]
  },
  {
   "cell_type": "code",
   "execution_count": 4,
   "metadata": {},
   "outputs": [
    {
     "name": "stdout",
     "output_type": "stream",
     "text": [
      "data/normalized 2484 1148\n"
     ]
    }
   ],
   "source": [
    "var hasOptional = (query) => {\n",
    "    return query.traverse().reduce(function(acc, node) {\n",
    "        return acc || this.notLeaf && node.type === 'optional'\n",
    "    }, false)\n",
    "}\n",
    "countInQueries(WIKI, hasOptional)"
   ]
  },
  {
   "cell_type": "markdown",
   "metadata": {},
   "source": [
    "## FILTER"
   ]
  },
  {
   "cell_type": "code",
   "execution_count": 9,
   "metadata": {},
   "outputs": [
    {
     "name": "stdout",
     "output_type": "stream",
     "text": [
      "data/normalized 2484 1078\n"
     ]
    }
   ],
   "source": [
    "var hasFilter = (query) => {\n",
    "    return query.traverse().reduce(function(acc, node) {\n",
    "        return acc || this.notLeaf && node.type === 'filter'\n",
    "    }, false)\n",
    "}\n",
    "countInQueries(WIKI, hasFilter)"
   ]
  },
  {
   "cell_type": "markdown",
   "metadata": {},
   "source": [
    "## ORDER BY"
   ]
  },
  {
   "cell_type": "code",
   "execution_count": 10,
   "metadata": {},
   "outputs": [
    {
     "name": "stdout",
     "output_type": "stream",
     "text": [
      "data/normalized 2484 904\n"
     ]
    }
   ],
   "source": [
    "var hasOrderBy = (query) => {\n",
    "    return query.getParsed().order\n",
    "}\n",
    "countInQueries(WIKI, hasOrderBy)"
   ]
  },
  {
   "cell_type": "markdown",
   "metadata": {},
   "source": [
    "## DISTINCT"
   ]
  },
  {
   "cell_type": "code",
   "execution_count": 11,
   "metadata": {},
   "outputs": [
    {
     "name": "stdout",
     "output_type": "stream",
     "text": [
      "data/normalized 2484 657\n"
     ]
    }
   ],
   "source": [
    "var hasDistinct = (query) => {\n",
    "    return query.getParsed().distinct\n",
    "}\n",
    "countInQueries(WIKI, hasDistinct)"
   ]
  },
  {
   "cell_type": "markdown",
   "metadata": {},
   "source": [
    "## GROUP BY"
   ]
  },
  {
   "cell_type": "code",
   "execution_count": 12,
   "metadata": {},
   "outputs": [
    {
     "name": "stdout",
     "output_type": "stream",
     "text": [
      "data/normalized 2484 368\n"
     ]
    }
   ],
   "source": [
    "var hasGroupBy = (query) => {\n",
    "    return query.getParsed().group\n",
    "}\n",
    "countInQueries(WIKI, hasGroupBy)"
   ]
  },
  {
   "cell_type": "markdown",
   "metadata": {},
   "source": [
    "## VALUES"
   ]
  },
  {
   "cell_type": "code",
   "execution_count": 25,
   "metadata": {},
   "outputs": [
    {
     "name": "stdout",
     "output_type": "stream",
     "text": [
      "data/normalized 2484 337\n"
     ]
    }
   ],
   "source": [
    "var hasValues = (query) => {\n",
    "    return query.traverse().reduce(function(acc, node) {\n",
    "        return acc || this.notLeaf && node.type === 'values'\n",
    "    }, false)\n",
    "}\n",
    "countInQueries(WIKI, hasValues)"
   ]
  },
  {
   "cell_type": "markdown",
   "metadata": {},
   "source": [
    "## UNION"
   ]
  },
  {
   "cell_type": "code",
   "execution_count": 26,
   "metadata": {},
   "outputs": [
    {
     "name": "stdout",
     "output_type": "stream",
     "text": [
      "data/normalized 2484 475\n"
     ]
    }
   ],
   "source": [
    "var hasUnion = (query) => {\n",
    "    return query.traverse().reduce(function(acc, node) {\n",
    "        return acc || this.notLeaf && node.type === 'union'\n",
    "    }, false)\n",
    "}\n",
    "countInQueries(WIKI, hasUnion)"
   ]
  },
  {
   "cell_type": "markdown",
   "metadata": {},
   "source": [
    "## NOT EXIST"
   ]
  },
  {
   "cell_type": "code",
   "execution_count": 11,
   "metadata": {},
   "outputs": [
    {
     "name": "stdout",
     "output_type": "stream",
     "text": [
      "data/normalized 2484 364\n"
     ]
    }
   ],
   "source": [
    "var hasNotExist = (query) => {\n",
    "    return query.traverse().reduce(function(acc, node) {\n",
    "        return acc || this.notLeaf && node.operator === 'notexists'\n",
    "    }, false)\n",
    "}\n",
    "countInQueries(WIKI, hasNotExist)"
   ]
  },
  {
   "cell_type": "markdown",
   "metadata": {},
   "source": [
    "## BIND"
   ]
  },
  {
   "cell_type": "code",
   "execution_count": 12,
   "metadata": {},
   "outputs": [
    {
     "name": "stdout",
     "output_type": "stream",
     "text": [
      "data/normalized 2484 618\n"
     ]
    }
   ],
   "source": [
    "var hasBind = (query) => {\n",
    "    return query.traverse().reduce(function(acc, node) {\n",
    "        return acc || this.notLeaf && node.type === 'bind'\n",
    "    }, false)\n",
    "}\n",
    "countInQueries(WIKI, hasBind)"
   ]
  },
  {
   "cell_type": "markdown",
   "metadata": {},
   "source": [
    "## MINUS"
   ]
  },
  {
   "cell_type": "code",
   "execution_count": 28,
   "metadata": {},
   "outputs": [
    {
     "name": "stdout",
     "output_type": "stream",
     "text": [
      "data/normalized 2484 465\n"
     ]
    }
   ],
   "source": [
    "var hasMinus = (query) => {\n",
    "    return query.traverse().reduce(function(acc, node) {\n",
    "        return acc || this.notLeaf && node.type === 'minus'\n",
    "    }, false)\n",
    "}\n",
    "countInQueries(WIKI, hasMinus)"
   ]
  },
  {
   "cell_type": "markdown",
   "metadata": {},
   "source": [
    "## Subqueries"
   ]
  },
  {
   "cell_type": "code",
   "execution_count": 29,
   "metadata": {},
   "outputs": [
    {
     "name": "stdout",
     "output_type": "stream",
     "text": [
      "data/normalized 2484 165\n"
     ]
    }
   ],
   "source": [
    "var hasSubQuery = (query) => {\n",
    "    return query.traverse().reduce(function(acc, node) {\n",
    "        return acc || this.level > 0 && this.notLeaf && node.type === 'query'\n",
    "    }, false)\n",
    "}\n",
    "countInQueries(WIKI, hasSubQuery)"
   ]
  },
  {
   "cell_type": "markdown",
   "metadata": {},
   "source": [
    "## Multiple Subject Queries"
   ]
  },
  {
   "cell_type": "code",
   "execution_count": 13,
   "metadata": {},
   "outputs": [
    {
     "name": "stdout",
     "output_type": "stream",
     "text": [
      "data/normalized 2483 1475\n"
     ]
    }
   ],
   "source": [
    "var hasMultipleSubjects = (query) => {\n",
    "    const objects = query.getObjects()\n",
    "    \n",
    "    return query.getSubjects().some((subject) => {\n",
    "        return typeof subject === 'string' && subject.startsWith('?') && objects.includes(subject)\n",
    "    })\n",
    "}\n",
    "countInQueries(WIKI, hasMultipleSubjects)"
   ]
  },
  {
   "cell_type": "markdown",
   "metadata": {},
   "source": [
    "## Property Path"
   ]
  },
  {
   "cell_type": "code",
   "execution_count": 14,
   "metadata": {},
   "outputs": [
    {
     "name": "stdout",
     "output_type": "stream",
     "text": [
      "data/normalized 2483 849\n"
     ]
    }
   ],
   "source": [
    "var hasPropertyPath = (query) => {\n",
    "    return query.getPredicates().some(predicate => predicate.type === 'path')\n",
    "}\n",
    "countInQueries(WIKI, hasPropertyPath)"
   ]
  },
  {
   "cell_type": "markdown",
   "metadata": {},
   "source": [
    "## Most Common Property Path Predicates"
   ]
  },
  {
   "cell_type": "code",
   "execution_count": 15,
   "metadata": {},
   "outputs": [
    {
     "name": "stdout",
     "output_type": "stream",
     "text": [
      "{ 'http://www.wikidata.org/prop/direct/P777': 2328 }\n"
     ]
    }
   ],
   "source": [
    "var predicates = []\n",
    "eachFileInDir(WIKI, (query, resolve) => {\n",
    "    var query = new Query(query, parser.parse(query))\n",
    "    \n",
    "    predicates = traverse(query.getPredicates().filter(predicate => predicate.type === 'path')).reduce((acc, node) => {\n",
    "        if (typeof node === 'string' && node.includes('prop/direct/P')) {\n",
    "            acc.push(node)\n",
    "        }\n",
    "        \n",
    "        return acc\n",
    "    }, predicates)\n",
    "    \n",
    "    resolve()\n",
    "}).then(() => {\n",
    "    console.log(_.countBy(predicates, _.identity))\n",
    "})"
   ]
  },
  {
   "cell_type": "markdown",
   "metadata": {},
   "source": [
    "## Object Variable Referencing (TODO: how is this really called?)"
   ]
  },
  {
   "cell_type": "code",
   "execution_count": 16,
   "metadata": {},
   "outputs": [
    {
     "name": "stdout",
     "output_type": "stream",
     "text": [
      "data/normalized 2483 442\n"
     ]
    }
   ],
   "source": [
    "// This is about queries with object variables that are references as objects in another triple.\n",
    "// This functionality is needed for cyclic links to answer questions like \"What movies have actors starring together with their children?\n",
    "\n",
    "var hasObjectReference = (query) => {\n",
    "    const objectCounts = _.countBy(query.getObjects(), _.identity)\n",
    "    return _.size(_.pickBy(objectCounts, (count, obj) => count > 1 && _.startsWith(obj, '?'))) > 0\n",
    "}\n",
    "countInQueries(WIKI, hasObjectReference)"
   ]
  },
  {
   "cell_type": "markdown",
   "metadata": {},
   "source": [
    "## Relevant Object Variable References"
   ]
  },
  {
   "cell_type": "code",
   "execution_count": 17,
   "metadata": {},
   "outputs": [
    {
     "name": "stdout",
     "output_type": "stream",
     "text": [
      "data/normalized 2483 236\n"
     ]
    }
   ],
   "source": [
    "var hasRelevantObjectReference = (query) => {\n",
    "    const objectCounts = _.countBy(query.getObjects(), _.identity)\n",
    "    const referencedObjects = _.pickBy(objectCounts, (count, obj) => count > 1 && _.startsWith(obj, '?'))\n",
    "    const predicatesWithObj = query.traverse().reduce(function(acc, node) {\n",
    "\n",
    "      if (typeof node == 'object' && node.object && referencedObjects[node.object]) acc.push(node.predicate)\n",
    "\n",
    "      return acc\n",
    "    }, [])\n",
    "    const relevantPredicatesWithObj = predicatesWithObj.filter(predicate => {\n",
    "        return traverse(predicate).reduce((acc, node) => {\n",
    "            return acc || typeof node === 'string' && node.includes('http://www.wikidata.org/prop/direct/')\n",
    "        }, false)\n",
    "    })\n",
    "    \n",
    "    \n",
    "    return _.size(relevantPredicatesWithObj) > 1\n",
    "}\n",
    "countInQueries(WIKI, hasRelevantObjectReference)"
   ]
  },
  {
   "cell_type": "markdown",
   "metadata": {},
   "source": [
    "## Cycles"
   ]
  },
  {
   "cell_type": "code",
   "execution_count": 18,
   "metadata": {},
   "outputs": [
    {
     "name": "stdout",
     "output_type": "stream",
     "text": [
      "data/normalized 2483 21\n"
     ]
    }
   ],
   "source": [
    "var transitive = (graph) => { // silly\n",
    "    do {\n",
    "        var change = false\n",
    "        \n",
    "        for (var subject in graph) {\n",
    "            var subjectReachability = graph[subject]\n",
    "            for (var i = 0; i < graph[subject].length; i++) {\n",
    "                if (graph[graph[subject][i]]) {\n",
    "                    subjectReachability = subjectReachability.concat(graph[graph[subject][i]])\n",
    "                }\n",
    "            }\n",
    "            if (_.uniq(subjectReachability).length > graph[subject].length) {\n",
    "                change = true\n",
    "                graph[subject] = _.uniq(subjectReachability)\n",
    "            }\n",
    "        }\n",
    "    } while (change)\n",
    "        \n",
    "    return graph\n",
    "}\n",
    "\n",
    "var hasCycles = (graph) => {\n",
    "    for (var subject in graph) {\n",
    "        if (graph[subject].includes(subject)) return true\n",
    "    }\n",
    "    return false\n",
    "}\n",
    "\n",
    "var hasCycle = (query) => {\n",
    "    var reachability = query.traverse().reduce((acc, node) => {\n",
    "        if (node.subject && node.object.startsWith('?')) {\n",
    "            if (!acc[node.subject]) acc[node.subject] = []\n",
    "            acc[node.subject].push(node.object)\n",
    "        }\n",
    "        \n",
    "        return acc\n",
    "    }, {})\n",
    "\n",
    "    return hasCycles(transitive(reachability))\n",
    "}\n",
    "\n",
    "countInQueries(WIKI, hasCycle)"
   ]
  },
  {
   "cell_type": "markdown",
   "metadata": {},
   "source": [
    "## Use of Qualifiers"
   ]
  },
  {
   "cell_type": "code",
   "execution_count": 20,
   "metadata": {},
   "outputs": [
    {
     "name": "stdout",
     "output_type": "stream",
     "text": [
      "data/normalized 2484 497\n"
     ]
    }
   ],
   "source": [
    "var hasQualifiers = (query) => {\n",
    "    return query.getRaw().includes('pq:P')\n",
    "}\n",
    "\n",
    "countInQueries(WIKI, hasQualifiers)"
   ]
  },
  {
   "cell_type": "markdown",
   "metadata": {},
   "source": [
    "## Use of References"
   ]
  },
  {
   "cell_type": "code",
   "execution_count": 21,
   "metadata": {},
   "outputs": [
    {
     "name": "stdout",
     "output_type": "stream",
     "text": [
      "data/normalized 2484 23\n"
     ]
    }
   ],
   "source": [
    "var hasReferences = (query) => {\n",
    "    return query.getRaw().includes('pr:P')\n",
    "}\n",
    "\n",
    "countInQueries(WIKI, hasReferences)"
   ]
  },
  {
   "cell_type": "markdown",
   "metadata": {},
   "source": [
    "## Sitelinks"
   ]
  },
  {
   "cell_type": "code",
   "execution_count": 22,
   "metadata": {},
   "outputs": [
    {
     "name": "stdout",
     "output_type": "stream",
     "text": [
      "data/normalized 2484 518\n"
     ]
    }
   ],
   "source": [
    "var hasSitelinks = (query) => {\n",
    "    return query.getRaw().includes('schema:about')\n",
    "}\n",
    "\n",
    "countInQueries(WIKI, hasSitelinks)"
   ]
  },
  {
   "cell_type": "code",
   "execution_count": 23,
   "metadata": {},
   "outputs": [
    {
     "name": "stdout",
     "output_type": "stream",
     "text": [
      "[\n",
      "  [ 'wikibase:label', 616 ],\n",
      "  [ 'wikibase:language', 616 ],\n",
      "  [ 'wikibase:sitelinks', 275 ],\n",
      "  [ 'wikibase:statements', 125 ],\n",
      "  [ 'wikibase:timePrecision', 43 ]\n",
      "]\n"
     ]
    }
   ],
   "source": [
    "var predicates = {}\n",
    "\n",
    "eachFileInDir(WIKI, (query, resolve) => {\n",
    "    var wikibasePredicates = query.match(/wikibase:\\w+/g)\n",
    "    if (wikibasePredicates) wikibasePredicates.forEach((predicate) => {\n",
    "        if (predicates[predicate]) predicates[predicate]++\n",
    "        else predicates[predicate] = 1\n",
    "    })\n",
    "    resolve()\n",
    "}).then(() => {\n",
    "    var tuples = []\n",
    "    for (var predicate in predicates) tuples.push([predicate, predicates[predicate]])\n",
    "    console.log(tuples.sort((a, b) => b[1] - a[1]).slice(0, 5))\n",
    "})"
   ]
  },
  {
   "cell_type": "markdown",
   "metadata": {
    "collapsed": true
   },
   "source": [
    "## Features per Query"
   ]
  },
  {
   "cell_type": "code",
   "execution_count": 32,
   "metadata": {},
   "outputs": [
    {
     "name": "stdout",
     "output_type": "stream",
     "text": [
      "[\n",
      "  133, 372, 491, 496, 424,\n",
      "  311, 157,  69,   8,  21,\n",
      "    1,   0\n",
      "]\n"
     ]
    }
   ],
   "source": [
    "var allFeatures = [\n",
    "    hasOptional, hasFilter, hasOrderBy,\n",
    "    hasValues, hasUnion, hasMinus,\n",
    "    hasSubQuery, hasMultipleSubjects, hasPropertyPath,\n",
    "    hasQualifiers, hasReferences,\n",
    "    hasGroupBy\n",
    "]\n",
    "var featuresPerQuery = (new Array(12)).fill(0)\n",
    "\n",
    "eachFileInDir(WIKI, (query, resolve) => {\n",
    "    let features = 0\n",
    "    allFeatures.forEach((hasFeature) => {\n",
    "        if (hasFeature(new Query(query, parser.parse(query)))) features++\n",
    "    })\n",
    "    featuresPerQuery[features]++\n",
    "    resolve()\n",
    "}).then(() => {\n",
    "    console.log(featuresPerQuery)\n",
    "})"
   ]
  },
  {
   "cell_type": "markdown",
   "metadata": {
    "collapsed": true
   },
   "source": [
    "## Finding a subset of features that is sufficient for most queries"
   ]
  },
  {
   "cell_type": "code",
   "execution_count": 33,
   "metadata": {},
   "outputs": [
    {
     "name": "stdout",
     "output_type": "stream",
     "text": [
      "data/normalized 2483 1340\n"
     ]
    }
   ],
   "source": [
    "var allFeatures = [\n",
    "    hasOptional, hasFilter, hasOrderBy,\n",
    "    hasValues, hasUnion, hasMinus,\n",
    "    hasSubQuery, \n",
    "    hasGroupBy, hasPropertyPath\n",
    "]\n",
    "var subset = [\n",
    "    hasOptional, hasFilter,\n",
    "    hasValues, hasOrderBy, hasPropertyPath\n",
    "];\n",
    "var queriesProduceable = 0\n",
    "\n",
    "var isProduceableWithSubset = (query) => {\n",
    "    let featuresUsed = 0\n",
    "    let subsetFeaturesUsed = 0\n",
    "\n",
    "    allFeatures.forEach((hasFeature) => {\n",
    "        if (hasFeature(query)) featuresUsed++\n",
    "    })\n",
    "    subset.forEach((hasFeature) => {\n",
    "        if (hasFeature(query)) subsetFeaturesUsed++\n",
    "    })\n",
    "    \n",
    "    return featuresUsed === subsetFeaturesUsed\n",
    "}\n",
    "\n",
    "countInQueries(WIKI, isProduceableWithSubset)"
   ]
  },
  {
   "cell_type": "markdown",
   "metadata": {
    "collapsed": true
   },
   "source": [
    "## Queries with Wikidata-URI subjects (not variables)"
   ]
  },
  {
   "cell_type": "code",
   "execution_count": 31,
   "metadata": {},
   "outputs": [
    {
     "name": "stdout",
     "output_type": "stream",
     "text": [
      "data/normalized 2483 34\n"
     ]
    }
   ],
   "source": [
    "var hasURISubject = (query) => {\n",
    "    return query.getSubjects().some(subject => subject.startsWith('http://www.wikidata.org/entity/Q'))\n",
    "}\n",
    "\n",
    "countInQueries(WIKI, hasURISubject)"
   ]
  },
  {
   "cell_type": "code",
   "execution_count": null,
   "metadata": {
    "collapsed": true
   },
   "outputs": [],
   "source": []
  }
 ],
 "metadata": {
  "kernelspec": {
   "display_name": "Javascript (Node.js)",
   "language": "javascript",
   "name": "javascript"
  },
  "language_info": {
   "file_extension": ".js",
   "mimetype": "application/javascript",
   "name": "javascript",
   "version": "13.9.0"
  }
 },
 "nbformat": 4,
 "nbformat_minor": 2
}
