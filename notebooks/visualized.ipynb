{
 "cells": [
  {
   "cell_type": "markdown",
   "metadata": {},
   "source": [
    "# SPARQL data analysis"
   ]
  },
  {
   "cell_type": "code",
   "execution_count": 1,
   "metadata": {},
   "outputs": [
    {
     "data": {
      "text/html": [
       "<script>\n",
       "requirejs.config({\n",
       "    paths: {\n",
       "        plotly: 'https://cdn.plot.ly/plotly-latest.min.js?noext',\n",
       "    },\n",
       "});\n",
       "</script>"
      ]
     },
     "execution_count": 1,
     "metadata": {},
     "output_type": "execute_result"
    }
   ],
   "source": [
    "const _ = require('lodash')\n",
    "const traverse = require('traverse')\n",
    "const sparqljs = require('sparqljs')\n",
    "\n",
    "const eachFileInDir = require('./eachFileInDir')\n",
    "const countInQueries = require('./countInQueries')\n",
    "const namespaces = require('./namespaces')\n",
    "const parser = new sparqljs.Parser(namespaces)\n",
    "const Query = require('./Query')\n",
    "\n",
    "function makePlot(data) {\n",
    "    var randomId = Math.round(Math.random() * 10000)\n",
    "    $$.html(`\n",
    "        <div id=\"${randomId}\"/>\n",
    "        <script>\n",
    "        requirejs( ['plotly'], function(plotly) {\n",
    "            plotly.newPlot('${randomId}', ${JSON.stringify(data)})\n",
    "        } )\n",
    "        </script>\n",
    "    `)\n",
    "}\n",
    "$$.html(`<script>\n",
    "requirejs.config({\n",
    "    paths: {\n",
    "        plotly: 'https://cdn.plot.ly/plotly-latest.min.js?noext',\n",
    "    },\n",
    "});\n",
    "</script>`)\n",
    "\n",
    "var isValidQuery = (query) => {\n",
    "    return true // will internally throw an exception when parsed\n",
    "}\n",
    "var hasOptional = (query) => {\n",
    "    return query.traverse().reduce(function(acc, node) {\n",
    "        return acc || this.notLeaf && node.type === 'optional'\n",
    "    }, false)\n",
    "}\n",
    "var hasFilter = (query) => {\n",
    "    return query.traverse().reduce(function(acc, node) {\n",
    "        return acc || this.notLeaf && node.type === 'filter'\n",
    "    }, false)\n",
    "}\n",
    "var hasOrderBy = (query) => {\n",
    "    return query.getParsed().order\n",
    "}\n",
    "var hasDistinct = (query) => {\n",
    "    return query.getParsed().distinct\n",
    "}\n",
    "var hasGroupBy = (query) => {\n",
    "    return query.getParsed().group\n",
    "}\n",
    "var hasValues = (query) => {\n",
    "    return query.traverse().reduce(function(acc, node) {\n",
    "        return acc || this.notLeaf && node.type === 'values'\n",
    "    }, false)\n",
    "}\n",
    "var hasUnion = (query) => {\n",
    "    return query.traverse().reduce(function(acc, node) {\n",
    "        return acc || this.notLeaf && node.type === 'union'\n",
    "    }, false)\n",
    "}\n",
    "var hasNotExist = (query) => {\n",
    "    return query.traverse().reduce(function(acc, node) {\n",
    "        return acc || this.notLeaf && node.operator === 'notexists'\n",
    "    }, false)\n",
    "}\n",
    "var hasBind = (query) => {\n",
    "    return query.traverse().reduce(function(acc, node) {\n",
    "        return acc || this.notLeaf && node.type === 'bind'\n",
    "    }, false)\n",
    "}\n",
    "var hasMinus = (query) => {\n",
    "    return query.traverse().reduce(function(acc, node) {\n",
    "        return acc || this.notLeaf && node.type === 'minus'\n",
    "    }, false)\n",
    "}\n",
    "var hasSubQuery = (query) => {\n",
    "    return query.traverse().reduce(function(acc, node) {\n",
    "        return acc || this.level > 0 && this.notLeaf && node.type === 'query'\n",
    "    }, false)\n",
    "}\n",
    "var hasPropertyPath = (query) => {\n",
    "    return query.getPredicates().some(predicate => predicate.type === 'path')\n",
    "}\n",
    "\n",
    "// shapes\n",
    "var hasPath = (query) => {\n",
    "    const objects = query.getObjects()\n",
    "    \n",
    "    return query.getSubjects().some((subject) => {\n",
    "        return typeof subject === 'string' && subject.startsWith('?') && objects.includes(subject)\n",
    "    })\n",
    "}\n",
    "var hasSink = (query) => {\n",
    "    const objectCounts = _.countBy(query.getObjects(), _.identity)\n",
    "    return _.size(_.pickBy(objectCounts, (count, obj) => count > 1 && _.startsWith(obj, '?'))) > 0\n",
    "}\n",
    "var hasSource = (query) => {\n",
    "    const subjectCounts = _.countBy(query.getSubjects(), _.identity)\n",
    "    return _.size(_.pickBy(subjectCounts, (count, subj) => count > 1 && _.startsWith(subj, '?'))) > 0\n",
    "}\n",
    "var transitive = (graph) => { // silly\n",
    "    do {\n",
    "        var change = false\n",
    "        \n",
    "        for (var subject in graph) {\n",
    "            var subjectReachability = graph[subject]\n",
    "            for (var i = 0; i < graph[subject].length; i++) {\n",
    "                if (graph[graph[subject][i]]) {\n",
    "                    subjectReachability = subjectReachability.concat(graph[graph[subject][i]])\n",
    "                }\n",
    "            }\n",
    "            if (_.uniq(subjectReachability).length > graph[subject].length) {\n",
    "                change = true\n",
    "                graph[subject] = _.uniq(subjectReachability)\n",
    "            }\n",
    "        }\n",
    "    } while (change)\n",
    "        \n",
    "    return graph\n",
    "}\n",
    "\n",
    "var hasCycles = (graph) => {\n",
    "    for (var subject in graph) {\n",
    "        if (graph[subject].includes(subject)) return true\n",
    "    }\n",
    "    return false\n",
    "}\n",
    "\n",
    "var hasCycle = (query) => {\n",
    "    var reachability = query.traverse().reduce((acc, node) => {\n",
    "        if (node.subject && node.object.startsWith('?')) {\n",
    "            if (!acc[node.subject]) acc[node.subject] = []\n",
    "            acc[node.subject].push(node.object)\n",
    "        }\n",
    "        \n",
    "        return acc\n",
    "    }, {})\n",
    "\n",
    "    return hasCycles(transitive(reachability))\n",
    "}\n",
    "\n",
    "// concrete Item\n",
    "var hasURISubject = (query) => {\n",
    "    return query.getSubjects().some(subject => subject.startsWith('http://www.wikidata.org/entity/Q'))\n",
    "}\n",
    "\n",
    "// Property paths\n",
    "function getPropertyPathPredicates(wiki) {\n",
    "    var predicates = []\n",
    "\n",
    "    return eachFileInDir(wiki, (query, resolve) => {\n",
    "        var query = new Query(query, parser.parse(query))\n",
    "\n",
    "        predicates = traverse(query.getPredicates().filter(predicate => predicate.type === 'path')).reduce((acc, node) => {\n",
    "            if (typeof node === 'string' && node.includes('prop/direct/P')) {\n",
    "                acc.push(node)\n",
    "            }\n",
    "\n",
    "            return acc\n",
    "        }, predicates)\n",
    "\n",
    "        resolve()\n",
    "    }).then(() => {\n",
    "        return _.countBy(predicates, _.identity)\n",
    "    })\n",
    "}\n",
    "\n",
    "// Wikidata features\n",
    "var hasQualifiers = (query) => {\n",
    "    return query.getRaw().includes('pq:P')\n",
    "}\n",
    "var hasReferences = (query) => {\n",
    "    return query.getRaw().includes('pr:P')\n",
    "}\n",
    "var hasSitelinks = (query) => {\n",
    "    return query.getRaw().includes('schema:about')\n",
    "} "
   ]
  },
  {
   "cell_type": "markdown",
   "metadata": {},
   "source": [
    "## Queries per Wiki"
   ]
  },
  {
   "cell_type": "code",
   "execution_count": 6,
   "metadata": {},
   "outputs": [
    {
     "data": {
      "text/html": [
       "\n",
       "        <div id=\"4595\"/>\n",
       "        <script>\n",
       "        requirejs( ['plotly'], function(plotly) {\n",
       "            plotly.newPlot('4595', [{\"x\":[\"cywiki\",\"dewiki\",\"enwiki\",\"euwiki\",\"wikidata\"],\"y\":[17528,772,2105,2817,5731],\"type\":\"bar\"}])\n",
       "        } )\n",
       "        </script>\n",
       "    "
      ]
     },
     "execution_count": 6,
     "metadata": {},
     "output_type": "execute_result"
    }
   ],
   "source": [
    "Promise.all([\n",
    "    countInQueries('data/cywiki', isValidQuery),\n",
    "    countInQueries('data/dewiki', isValidQuery),\n",
    "    countInQueries('data/enwiki', isValidQuery),\n",
    "    countInQueries('data/euwiki', isValidQuery),\n",
    "    countInQueries('data/wikidatawiki', isValidQuery),\n",
    "]).then(([cy, de, en, eu, wd]) => {\n",
    "    makePlot([{\n",
    "        x: ['cywiki', 'dewiki', 'enwiki', 'euwiki', 'wikidata'],\n",
    "        y: [cy, de, en, eu, wd],\n",
    "        type: 'bar'\n",
    "    }])\n",
    "})"
   ]
  },
  {
   "cell_type": "markdown",
   "metadata": {},
   "source": [
    "## Features used"
   ]
  },
  {
   "cell_type": "code",
   "execution_count": 14,
   "metadata": {},
   "outputs": [
    {
     "data": {
      "text/html": [
       "\n",
       "        <div id=\"703\"/>\n",
       "        <script>\n",
       "        requirejs( ['plotly'], function(plotly) {\n",
       "            plotly.newPlot('703', [{\"x\":[\"optional\",\"filter\",\"order by\",\"distinct\",\"group by\",\"values\",\"union\",\"minus\",\"bind\",\"sub query\",\"property path\"],\"y\":[27,6259,2,15,1,483,12,1,20,0,10769],\"type\":\"bar\"}])\n",
       "        } )\n",
       "        </script>\n",
       "    "
      ]
     },
     "execution_count": 14,
     "metadata": {},
     "output_type": "execute_result"
    }
   ],
   "source": [
    "var wiki = 'cywiki'\n",
    "Promise.all([\n",
    "    countInQueries('data/' + wiki, hasOptional),\n",
    "    countInQueries('data/' + wiki, hasFilter),\n",
    "    countInQueries('data/' + wiki, hasOrderBy),\n",
    "    countInQueries('data/' + wiki, hasDistinct),\n",
    "    countInQueries('data/' + wiki, hasGroupBy),\n",
    "    countInQueries('data/' + wiki, hasValues),\n",
    "    countInQueries('data/' + wiki, hasUnion),\n",
    "    countInQueries('data/' + wiki, hasMinus),\n",
    "    countInQueries('data/' + wiki, hasBind),\n",
    "    countInQueries('data/' + wiki, hasSubQuery),\n",
    "    countInQueries('data/' + wiki, hasPropertyPath),\n",
    "]).then(([optional, filter, orderBy, distinct, groupBy, values, union, minus, bind, subQuery, propertyPath]) => {\n",
    "    makePlot([{\n",
    "        x: ['optional', 'filter', 'order by', 'distinct', 'group by', 'values', 'union', 'minus', 'bind', 'sub query', 'property path'],\n",
    "        y: [optional, filter, orderBy, distinct, groupBy, values, union, minus, bind, subQuery, propertyPath],\n",
    "        type: 'bar'\n",
    "    }])\n",
    "})"
   ]
  },
  {
   "cell_type": "code",
   "execution_count": 15,
   "metadata": {},
   "outputs": [
    {
     "data": {
      "text/html": [
       "\n",
       "        <div id=\"1430\"/>\n",
       "        <script>\n",
       "        requirejs( ['plotly'], function(plotly) {\n",
       "            plotly.newPlot('1430', [{\"x\":[\"optional\",\"filter\",\"order by\",\"distinct\",\"group by\",\"values\",\"union\",\"minus\",\"bind\",\"sub query\",\"property path\"],\"y\":[76,79,66,138,29,11,292,28,20,112,457],\"type\":\"bar\"}])\n",
       "        } )\n",
       "        </script>\n",
       "    "
      ]
     },
     "execution_count": 15,
     "metadata": {},
     "output_type": "execute_result"
    }
   ],
   "source": [
    "var wiki = 'dewiki'\n",
    "Promise.all([\n",
    "    countInQueries('data/' + wiki, hasOptional),\n",
    "    countInQueries('data/' + wiki, hasFilter),\n",
    "    countInQueries('data/' + wiki, hasOrderBy),\n",
    "    countInQueries('data/' + wiki, hasDistinct),\n",
    "    countInQueries('data/' + wiki, hasGroupBy),\n",
    "    countInQueries('data/' + wiki, hasValues),\n",
    "    countInQueries('data/' + wiki, hasUnion),\n",
    "    countInQueries('data/' + wiki, hasMinus),\n",
    "    countInQueries('data/' + wiki, hasBind),\n",
    "    countInQueries('data/' + wiki, hasSubQuery),\n",
    "    countInQueries('data/' + wiki, hasPropertyPath),\n",
    "]).then(([optional, filter, orderBy, distinct, groupBy, values, union, minus, bind, subQuery, propertyPath]) => {\n",
    "    makePlot([{\n",
    "        x: ['optional', 'filter', 'order by', 'distinct', 'group by', 'values', 'union', 'minus', 'bind', 'sub query', 'property path'],\n",
    "        y: [optional, filter, orderBy, distinct, groupBy, values, union, minus, bind, subQuery, propertyPath],\n",
    "        type: 'bar'\n",
    "    }])\n",
    "})"
   ]
  },
  {
   "cell_type": "code",
   "execution_count": 16,
   "metadata": {},
   "outputs": [
    {
     "data": {
      "text/html": [
       "\n",
       "        <div id=\"4494\"/>\n",
       "        <script>\n",
       "        requirejs( ['plotly'], function(plotly) {\n",
       "            plotly.newPlot('4494', [{\"x\":[\"optional\",\"filter\",\"order by\",\"distinct\",\"group by\",\"values\",\"union\",\"minus\",\"bind\",\"sub query\",\"property path\"],\"y\":[568,733,209,169,182,290,182,83,159,9,223],\"type\":\"bar\"}])\n",
       "        } )\n",
       "        </script>\n",
       "    "
      ]
     },
     "execution_count": 16,
     "metadata": {},
     "output_type": "execute_result"
    }
   ],
   "source": [
    "var wiki = 'enwiki'\n",
    "Promise.all([\n",
    "    countInQueries('data/' + wiki, hasOptional),\n",
    "    countInQueries('data/' + wiki, hasFilter),\n",
    "    countInQueries('data/' + wiki, hasOrderBy),\n",
    "    countInQueries('data/' + wiki, hasDistinct),\n",
    "    countInQueries('data/' + wiki, hasGroupBy),\n",
    "    countInQueries('data/' + wiki, hasValues),\n",
    "    countInQueries('data/' + wiki, hasUnion),\n",
    "    countInQueries('data/' + wiki, hasMinus),\n",
    "    countInQueries('data/' + wiki, hasBind),\n",
    "    countInQueries('data/' + wiki, hasSubQuery),\n",
    "    countInQueries('data/' + wiki, hasPropertyPath),\n",
    "]).then(([optional, filter, orderBy, distinct, groupBy, values, union, minus, bind, subQuery, propertyPath]) => {\n",
    "    makePlot([{\n",
    "        x: ['optional', 'filter', 'order by', 'distinct', 'group by', 'values', 'union', 'minus', 'bind', 'sub query', 'property path'],\n",
    "        y: [optional, filter, orderBy, distinct, groupBy, values, union, minus, bind, subQuery, propertyPath],\n",
    "        type: 'bar'\n",
    "    }])\n",
    "})"
   ]
  },
  {
   "cell_type": "code",
   "execution_count": 18,
   "metadata": {},
   "outputs": [
    {
     "data": {
      "text/html": [
       "\n",
       "        <div id=\"2382\"/>\n",
       "        <script>\n",
       "        requirejs( ['plotly'], function(plotly) {\n",
       "            plotly.newPlot('2382', [{\"x\":[\"optional\",\"filter\",\"order by\",\"distinct\",\"group by\",\"values\",\"union\",\"minus\",\"bind\",\"sub query\",\"property path\"],\"y\":[2227,2206,2221,8,2,0,28,737,750,1,2351],\"type\":\"bar\"}])\n",
       "        } )\n",
       "        </script>\n",
       "    "
      ]
     },
     "execution_count": 17,
     "metadata": {},
     "output_type": "execute_result"
    }
   ],
   "source": [
    "var wiki = 'euwiki'\n",
    "Promise.all([\n",
    "    countInQueries('data/' + wiki, hasOptional),\n",
    "    countInQueries('data/' + wiki, hasFilter),\n",
    "    countInQueries('data/' + wiki, hasOrderBy),\n",
    "    countInQueries('data/' + wiki, hasDistinct),\n",
    "    countInQueries('data/' + wiki, hasGroupBy),\n",
    "    countInQueries('data/' + wiki, hasValues),\n",
    "    countInQueries('data/' + wiki, hasUnion),\n",
    "    countInQueries('data/' + wiki, hasMinus),\n",
    "    countInQueries('data/' + wiki, hasBind),\n",
    "    countInQueries('data/' + wiki, hasSubQuery),\n",
    "    countInQueries('data/' + wiki, hasPropertyPath),\n",
    "]).then(([optional, filter, orderBy, distinct, groupBy, values, union, minus, bind, subQuery, propertyPath]) => {\n",
    "    makePlot([{\n",
    "        x: ['optional', 'filter', 'order by', 'distinct', 'group by', 'values', 'union', 'minus', 'bind', 'sub query', 'property path'],\n",
    "        y: [optional, filter, orderBy, distinct, groupBy, values, union, minus, bind, subQuery, propertyPath],\n",
    "        type: 'bar'\n",
    "    }])\n",
    "})"
   ]
  },
  {
   "cell_type": "code",
   "execution_count": 18,
   "metadata": {},
   "outputs": [
    {
     "data": {
      "text/html": [
       "\n",
       "        <div id=\"7996\"/>\n",
       "        <script>\n",
       "        requirejs( ['plotly'], function(plotly) {\n",
       "            plotly.newPlot('7996', [{\"x\":[\"optional\",\"filter\",\"order by\",\"distinct\",\"group by\",\"values\",\"union\",\"minus\",\"bind\",\"sub query\",\"property path\"],\"y\":[1793,1254,1565,1577,501,442,824,1275,996,234,1828],\"type\":\"bar\"}])\n",
       "        } )\n",
       "        </script>\n",
       "    "
      ]
     },
     "execution_count": 18,
     "metadata": {},
     "output_type": "execute_result"
    }
   ],
   "source": [
    "var wiki = 'wikidatawiki'\n",
    "Promise.all([\n",
    "    countInQueries('data/' + wiki, hasOptional),\n",
    "    countInQueries('data/' + wiki, hasFilter),\n",
    "    countInQueries('data/' + wiki, hasOrderBy),\n",
    "    countInQueries('data/' + wiki, hasDistinct),\n",
    "    countInQueries('data/' + wiki, hasGroupBy),\n",
    "    countInQueries('data/' + wiki, hasValues),\n",
    "    countInQueries('data/' + wiki, hasUnion),\n",
    "    countInQueries('data/' + wiki, hasMinus),\n",
    "    countInQueries('data/' + wiki, hasBind),\n",
    "    countInQueries('data/' + wiki, hasSubQuery),\n",
    "    countInQueries('data/' + wiki, hasPropertyPath),\n",
    "]).then(([optional, filter, orderBy, distinct, groupBy, values, union, minus, bind, subQuery, propertyPath]) => {\n",
    "    makePlot([{\n",
    "        x: ['optional', 'filter', 'order by', 'distinct', 'group by', 'values', 'union', 'minus', 'bind', 'sub query', 'property path'],\n",
    "        y: [optional, filter, orderBy, distinct, groupBy, values, union, minus, bind, subQuery, propertyPath],\n",
    "        type: 'bar'\n",
    "    }])\n",
    "})"
   ]
  },
  {
   "cell_type": "code",
   "execution_count": 7,
   "metadata": {},
   "outputs": [
    {
     "data": {
      "text/html": [
       "\n",
       "        <div id=\"7666\"/>\n",
       "        <script>\n",
       "        requirejs( ['plotly'], function(plotly) {\n",
       "            plotly.newPlot('7666', [{\"x\":[\"optional\",\"filter\",\"order by\",\"distinct\",\"group by\",\"values\",\"union\",\"minus\",\"bind\",\"sub query\",\"property path\"],\"y\":[4691,10530,4063,1907,715,1226,1338,2123,1945,356,15628],\"type\":\"bar\"}])\n",
       "        } )\n",
       "        </script>\n",
       "    "
      ]
     },
     "execution_count": 7,
     "metadata": {},
     "output_type": "execute_result"
    }
   ],
   "source": [
    "var wiki = 'all'\n",
    "Promise.all([\n",
    "    countInQueries('data/' + wiki, hasOptional),\n",
    "    countInQueries('data/' + wiki, hasFilter),\n",
    "    countInQueries('data/' + wiki, hasOrderBy),\n",
    "    countInQueries('data/' + wiki, hasDistinct),\n",
    "    countInQueries('data/' + wiki, hasGroupBy),\n",
    "    countInQueries('data/' + wiki, hasValues),\n",
    "    countInQueries('data/' + wiki, hasUnion),\n",
    "    countInQueries('data/' + wiki, hasMinus),\n",
    "    countInQueries('data/' + wiki, hasBind),\n",
    "    countInQueries('data/' + wiki, hasSubQuery),\n",
    "    countInQueries('data/' + wiki, hasPropertyPath),\n",
    "]).then(([optional, filter, orderBy, distinct, groupBy, values, union, minus, bind, subQuery, propertyPath]) => {\n",
    "    makePlot([{\n",
    "        x: ['optional', 'filter', 'order by', 'distinct', 'group by', 'values', 'union', 'minus', 'bind', 'sub query', 'property path'],\n",
    "        y: [optional, filter, orderBy, distinct, groupBy, values, union, minus, bind, subQuery, propertyPath],\n",
    "        type: 'bar'\n",
    "    }])\n",
    "})"
   ]
  },
  {
   "cell_type": "markdown",
   "metadata": {},
   "source": [
    "## Query Shapes\n",
    "\n",
    "### Examples\n",
    "in pseudo-turtle.\n",
    "\n",
    "#### Star/source\n",
    "Natural language: Things that are cities, that are located in Germany.\n",
    "```\n",
    "?foo instanceOf city .\n",
    "?foo locatedIn germany .\n",
    "```\n",
    "\n",
    "#### Cycle\n",
    "Natural language: Inventors killed by their own invention\n",
    "```\n",
    "?invention inventedBy ?inventor .\n",
    "?inventor causeOfDeath ?invention .\n",
    "```\n",
    "\n",
    "#### Path\n",
    "Natural language: Female head of government\n",
    "```\n",
    "?city headOfGovernment ?person .\n",
    "?person sexOrGender female .\n",
    "```\n",
    "\n",
    "#### Sink\n",
    "Natural language: Actors appearing in both The Hobbit movie and in Avengers\n",
    "```\n",
    "hobbit castMember ?actor .\n",
    "avengers castMember ?actor .\n",
    "```"
   ]
  },
  {
   "cell_type": "code",
   "execution_count": 3,
   "metadata": {},
   "outputs": [
    {
     "data": {
      "text/html": [
       "\n",
       "        <div id=\"4200\"/>\n",
       "        <script>\n",
       "        requirejs( ['plotly'], function(plotly) {\n",
       "            plotly.newPlot('4200', [{\"x\":[\"source\",\"path\",\"sink\",\"cycle\"],\"y\":[17517,10661,3,0],\"type\":\"bar\"}])\n",
       "        } )\n",
       "        </script>\n",
       "    "
      ]
     },
     "execution_count": 3,
     "metadata": {},
     "output_type": "execute_result"
    }
   ],
   "source": [
    "var wiki = 'cywiki'\n",
    "Promise.all([\n",
    "    countInQueries('data/' + wiki, hasSource),\n",
    "    countInQueries('data/' + wiki, hasPath),\n",
    "    countInQueries('data/' + wiki, hasSink),\n",
    "    countInQueries('data/' + wiki, hasCycle),\n",
    "]).then(([source, path, sink, cycle]) => {\n",
    "    makePlot([{\n",
    "        x: ['source', 'path', 'sink', 'cycle'],\n",
    "        y: [source, path, sink, cycle],\n",
    "        type: 'bar'\n",
    "    }])\n",
    "})"
   ]
  },
  {
   "cell_type": "code",
   "execution_count": 2,
   "metadata": {},
   "outputs": [
    {
     "data": {
      "text/html": [
       "\n",
       "        <div id=\"7590\"/>\n",
       "        <script>\n",
       "        requirejs( ['plotly'], function(plotly) {\n",
       "            plotly.newPlot('7590', [{\"x\":[\"source\",\"path\",\"sink\",\"cycle\"],\"y\":[587,143,296,0],\"type\":\"bar\"}])\n",
       "        } )\n",
       "        </script>\n",
       "    "
      ]
     },
     "execution_count": 2,
     "metadata": {},
     "output_type": "execute_result"
    }
   ],
   "source": [
    "var wiki = 'dewiki'\n",
    "Promise.all([\n",
    "    countInQueries('data/' + wiki, hasSource),\n",
    "    countInQueries('data/' + wiki, hasPath),\n",
    "    countInQueries('data/' + wiki, hasSink),\n",
    "    countInQueries('data/' + wiki, hasCycle),\n",
    "]).then(([source, path, sink, cycle]) => {\n",
    "    makePlot([{\n",
    "        x: ['source', 'path', 'sink', 'cycle'],\n",
    "        y: [source, path, sink, cycle],\n",
    "        type: 'bar'\n",
    "    }])\n",
    "})"
   ]
  },
  {
   "cell_type": "code",
   "execution_count": 4,
   "metadata": {},
   "outputs": [
    {
     "data": {
      "text/html": [
       "\n",
       "        <div id=\"2319\"/>\n",
       "        <script>\n",
       "        requirejs( ['plotly'], function(plotly) {\n",
       "            plotly.newPlot('2319', [{\"x\":[\"source\",\"path\",\"sink\",\"cycle\"],\"y\":[1177,903,170,0],\"type\":\"bar\"}])\n",
       "        } )\n",
       "        </script>\n",
       "    "
      ]
     },
     "execution_count": 4,
     "metadata": {},
     "output_type": "execute_result"
    }
   ],
   "source": [
    "var wiki = 'enwiki'\n",
    "Promise.all([\n",
    "    countInQueries('data/' + wiki, hasSource),\n",
    "    countInQueries('data/' + wiki, hasPath),\n",
    "    countInQueries('data/' + wiki, hasSink),\n",
    "    countInQueries('data/' + wiki, hasCycle),\n",
    "]).then(([source, path, sink, cycle]) => {\n",
    "    makePlot([{\n",
    "        x: ['source', 'path', 'sink', 'cycle'],\n",
    "        y: [source, path, sink, cycle],\n",
    "        type: 'bar'\n",
    "    }])\n",
    "})"
   ]
  },
  {
   "cell_type": "code",
   "execution_count": 5,
   "metadata": {},
   "outputs": [
    {
     "data": {
      "text/html": [
       "\n",
       "        <div id=\"6410\"/>\n",
       "        <script>\n",
       "        requirejs( ['plotly'], function(plotly) {\n",
       "            plotly.newPlot('6410', [{\"x\":[\"source\",\"path\",\"sink\",\"cycle\"],\"y\":[2810,2342,7,0],\"type\":\"bar\"}])\n",
       "        } )\n",
       "        </script>\n",
       "    "
      ]
     },
     "execution_count": 5,
     "metadata": {},
     "output_type": "execute_result"
    }
   ],
   "source": [
    "var wiki = 'euwiki'\n",
    "Promise.all([\n",
    "    countInQueries('data/' + wiki, hasSource),\n",
    "    countInQueries('data/' + wiki, hasPath),\n",
    "    countInQueries('data/' + wiki, hasSink),\n",
    "    countInQueries('data/' + wiki, hasCycle),\n",
    "]).then(([source, path, sink, cycle]) => {\n",
    "    makePlot([{\n",
    "        x: ['source', 'path', 'sink', 'cycle'],\n",
    "        y: [source, path, sink, cycle],\n",
    "        type: 'bar'\n",
    "    }])\n",
    "})"
   ]
  },
  {
   "cell_type": "code",
   "execution_count": 6,
   "metadata": {},
   "outputs": [
    {
     "data": {
      "text/html": [
       "\n",
       "        <div id=\"43\"/>\n",
       "        <script>\n",
       "        requirejs( ['plotly'], function(plotly) {\n",
       "            plotly.newPlot('43', [{\"x\":[\"source\",\"path\",\"sink\",\"cycle\"],\"y\":[4774,2073,491,42],\"type\":\"bar\"}])\n",
       "        } )\n",
       "        </script>\n",
       "    "
      ]
     },
     "execution_count": 6,
     "metadata": {},
     "output_type": "execute_result"
    }
   ],
   "source": [
    "var wiki = 'wikidatawiki'\n",
    "Promise.all([\n",
    "    countInQueries('data/' + wiki, hasSource),\n",
    "    countInQueries('data/' + wiki, hasPath),\n",
    "    countInQueries('data/' + wiki, hasSink),\n",
    "    countInQueries('data/' + wiki, hasCycle),\n",
    "]).then(([source, path, sink, cycle]) => {\n",
    "    makePlot([{\n",
    "        x: ['source', 'path', 'sink', 'cycle'],\n",
    "        y: [source, path, sink, cycle],\n",
    "        type: 'bar'\n",
    "    }])\n",
    "})"
   ]
  },
  {
   "cell_type": "code",
   "execution_count": 8,
   "metadata": {},
   "outputs": [
    {
     "data": {
      "text/html": [
       "\n",
       "        <div id=\"5243\"/>\n",
       "        <script>\n",
       "        requirejs( ['plotly'], function(plotly) {\n",
       "            plotly.newPlot('5243', [{\"x\":[\"source\",\"path\",\"sink\",\"cycle\"],\"y\":[26864,16121,967,42],\"type\":\"bar\"}])\n",
       "        } )\n",
       "        </script>\n",
       "    "
      ]
     },
     "execution_count": 8,
     "metadata": {},
     "output_type": "execute_result"
    }
   ],
   "source": [
    "var wiki = 'all'\n",
    "Promise.all([\n",
    "    countInQueries('data/' + wiki, hasSource),\n",
    "    countInQueries('data/' + wiki, hasPath),\n",
    "    countInQueries('data/' + wiki, hasSink),\n",
    "    countInQueries('data/' + wiki, hasCycle),\n",
    "]).then(([source, path, sink, cycle]) => {\n",
    "    makePlot([{\n",
    "        x: ['source', 'path', 'sink', 'cycle'],\n",
    "        y: [source, path, sink, cycle],\n",
    "        type: 'bar'\n",
    "    }])\n",
    "})"
   ]
  },
  {
   "cell_type": "markdown",
   "metadata": {},
   "source": [
    "## \"Backwards\" queries"
   ]
  },
  {
   "cell_type": "code",
   "execution_count": 3,
   "metadata": {},
   "outputs": [
    {
     "data": {
      "text/html": [
       "\n",
       "        <div id=\"7744\"/>\n",
       "        <script>\n",
       "        requirejs( ['plotly'], function(plotly) {\n",
       "            plotly.newPlot('7744', [{\"x\":[\"cywiki\",\"dewiki\",\"enwiki\",\"euwiki\",\"wikidata\"],\"y\":[2,3,6,6,76],\"type\":\"bar\"}])\n",
       "        } )\n",
       "        </script>\n",
       "    "
      ]
     },
     "execution_count": 3,
     "metadata": {},
     "output_type": "execute_result"
    }
   ],
   "source": [
    "Promise.all([\n",
    "    countInQueries('data/cywiki', hasURISubject),\n",
    "    countInQueries('data/dewiki', hasURISubject),\n",
    "    countInQueries('data/enwiki', hasURISubject),\n",
    "    countInQueries('data/euwiki', hasURISubject),\n",
    "    countInQueries('data/wikidatawiki', hasURISubject),\n",
    "]).then(([cy, de, en, eu, wd]) => {\n",
    "    makePlot([{\n",
    "        x: ['cywiki', 'dewiki', 'enwiki', 'euwiki', 'wikidata'],\n",
    "        y: [cy, de, en, eu, wd],\n",
    "        type: 'bar'\n",
    "    }])\n",
    "})"
   ]
  },
  {
   "cell_type": "markdown",
   "metadata": {},
   "source": [
    "## Property Paths"
   ]
  },
  {
   "cell_type": "code",
   "execution_count": 8,
   "metadata": {},
   "outputs": [
    {
     "data": {
      "text/html": [
       "\n",
       "        <div id=\"5280\"/>\n",
       "        <script>\n",
       "        requirejs( ['plotly'], function(plotly) {\n",
       "            plotly.newPlot('5280', [{\"x\":[\"P279\",\"P171\",\"P740\",\"P131\",\"P19\",\"P106\",\"P31\",\"P1001\",\"P364\",\"P407\",\"P20\",\"P937\",\"P69\"],\"y\":[1270,9383,55,118,44,10,1,1,1,1,3,3,6],\"type\":\"bar\"}])\n",
       "        } )\n",
       "        </script>\n",
       "    "
      ]
     },
     "execution_count": 8,
     "metadata": {},
     "output_type": "execute_result"
    }
   ],
   "source": [
    "getPropertyPathPredicates('data/cywiki').then((properties) => {\n",
    "    makePlot([{\n",
    "        x: Object.keys(properties).map((prop) => prop.substr(36)),\n",
    "        y: Object.values(properties),\n",
    "        type: 'bar'\n",
    "    }])\n",
    "})"
   ]
  },
  {
   "cell_type": "code",
   "execution_count": 7,
   "metadata": {},
   "outputs": [
    {
     "data": {
      "text/html": [
       "\n",
       "        <div id=\"2588\"/>\n",
       "        <script>\n",
       "        requirejs( ['plotly'], function(plotly) {\n",
       "            plotly.newPlot('2588', [{\"x\":[\"P279\",\"P31\",\"P131\",\"P150\",\"P1435\",\"P176\",\"P1001\",\"P527\",\"P361\",\"P5607\",\"P21\",\"P136\",\"P106\",\"P4552\",\"P706\",\"P159\",\"P276\",\"P411\",\"P27\",\"P41\"],\"y\":[217,117,594,487,3,2,35,5,6,2,1,2,3,1,1,1,1,2,1,1],\"type\":\"bar\"}])\n",
       "        } )\n",
       "        </script>\n",
       "    "
      ]
     },
     "execution_count": 7,
     "metadata": {},
     "output_type": "execute_result"
    }
   ],
   "source": [
    "getPropertyPathPredicates('data/dewiki').then((properties) => {\n",
    "    makePlot([{\n",
    "        x: Object.keys(properties).map((prop) => prop.substr(36)),\n",
    "        y: Object.values(properties),\n",
    "        type: 'bar'\n",
    "    }])\n",
    "})"
   ]
  },
  {
   "cell_type": "code",
   "execution_count": 9,
   "metadata": {},
   "outputs": [
    {
     "data": {
      "text/html": [
       "\n",
       "        <div id=\"3293\"/>\n",
       "        <script>\n",
       "        requirejs( ['plotly'], function(plotly) {\n",
       "            plotly.newPlot('3293', [{\"x\":[\"P131\",\"P360\",\"P361\",\"P541\",\"P279\",\"P31\",\"P171\",\"P106\",\"P527\",\"P172\",\"P150\",\"P1343\",\"P1142\",\"P1387\",\"P2632\",\"P20\",\"P136\",\"P17\",\"P166\",\"P176\",\"P669\",\"P969\",\"P19\",\"P170\",\"P21\",\"P607\",\"P241\",\"P463\",\"P921\",\"P1001\"],\"y\":[70,1,40,38,211,84,6,16,4,2,13,1,4,4,1,2,1,1,2,1,1,1,1,1,1,2,1,1,1,1],\"type\":\"bar\"}])\n",
       "        } )\n",
       "        </script>\n",
       "    "
      ]
     },
     "execution_count": 9,
     "metadata": {},
     "output_type": "execute_result"
    }
   ],
   "source": [
    "getPropertyPathPredicates('data/enwiki').then((properties) => {\n",
    "    makePlot([{\n",
    "        x: Object.keys(properties).map((prop) => prop.substr(36)),\n",
    "        y: Object.values(properties),\n",
    "        type: 'bar'\n",
    "    }])\n",
    "})"
   ]
  },
  {
   "cell_type": "code",
   "execution_count": 10,
   "metadata": {},
   "outputs": [
    {
     "data": {
      "text/html": [
       "\n",
       "        <div id=\"8068\"/>\n",
       "        <script>\n",
       "        requirejs( ['plotly'], function(plotly) {\n",
       "            plotly.newPlot('8068', [{\"x\":[\"P31\",\"P279\",\"P131\",\"P171\",\"P19\",\"P527\",\"P20\",\"P166\",\"P937\",\"P551\",\"P106\"],\"y\":[20,23,1504,116,1465,1471,1,3,1,1,1],\"type\":\"bar\"}])\n",
       "        } )\n",
       "        </script>\n",
       "    "
      ]
     },
     "execution_count": 10,
     "metadata": {},
     "output_type": "execute_result"
    }
   ],
   "source": [
    "getPropertyPathPredicates('data/euwiki').then((properties) => {\n",
    "    makePlot([{\n",
    "        x: Object.keys(properties).map((prop) => prop.substr(36)),\n",
    "        y: Object.values(properties),\n",
    "        type: 'bar'\n",
    "    }])\n",
    "})"
   ]
  },
  {
   "cell_type": "code",
   "execution_count": 11,
   "metadata": {},
   "outputs": [
    {
     "data": {
      "text/html": [
       "\n",
       "        <div id=\"9\"/>\n",
       "        <script>\n",
       "        requirejs( ['plotly'], function(plotly) {\n",
       "            plotly.newPlot('9', [{\"x\":[\"P131\",\"P31\",\"P279\",\"P361\",\"P106\",\"P2596\",\"P1181\",\"P40\",\"P17\",\"P298\",\"P462\",\"P172\",\"P108\",\"P463\",\"P1416\",\"P91\",\"P1269\",\"P1435\",\"P276\",\"P16\",\"P20\",\"P629\",\"P1344\",\"P171\",\"P275\",\"P195\",\"P50\",\"P98\",\"P179\",\"P39\",\"P355\",\"P735\",\"P1705\",\"P19\",\"P22\",\"P25\",\"P26\",\"P136\",\"P180\",\"P21\",\"P921\",\"P301\",\"P360\",\"P1151\",\"P1080\",\"P1434\",\"P1441\",\"P123\",\"P162\",\"P178\",\"P1001\",\"P395\",\"P460\",\"P971\",\"P424\",\"P5973\",\"P305\",\"P101\",\"P5137\",\"P2650\",\"P610\",\"P2044\",\"P527\",\"P119\",\"P485\",\"P159\",\"P551\",\"P69\",\"P150\",\"P3091\",\"P5972\",\"P2283\",\"P937\"],\"y\":[578,1019,1636,58,70,1,1,30,15,1,4,1,13,13,13,1,2,2,11,2,7,1,1,4,2,3,1,1,3,6,1,1,1,4,2,2,2,3,136,70,4,3,1,1,1,1,1,1,1,1,2,1,1,4,3,1,4,1,2,1,1,1,1,1,1,1,1,1,5,1,1,1,1],\"type\":\"bar\"}])\n",
       "        } )\n",
       "        </script>\n",
       "    "
      ]
     },
     "execution_count": 11,
     "metadata": {},
     "output_type": "execute_result"
    }
   ],
   "source": [
    "getPropertyPathPredicates('data/wikidatawiki').then((properties) => {\n",
    "    makePlot([{\n",
    "        x: Object.keys(properties).map((prop) => prop.substr(36)),\n",
    "        y: Object.values(properties),\n",
    "        type: 'bar'\n",
    "    }])\n",
    "})"
   ]
  },
  {
   "cell_type": "code",
   "execution_count": 9,
   "metadata": {},
   "outputs": [
    {
     "data": {
      "text/html": [
       "\n",
       "        <div id=\"1348\"/>\n",
       "        <script>\n",
       "        requirejs( ['plotly'], function(plotly) {\n",
       "            plotly.newPlot('1348', [{\"x\":[\"P279\",\"P171\",\"P740\",\"P131\",\"P19\",\"P106\",\"P31\",\"P1001\",\"P364\",\"P407\",\"P20\",\"P937\",\"P69\",\"P150\",\"P1435\",\"P176\",\"P527\",\"P361\",\"P5607\",\"P21\",\"P136\",\"P4552\",\"P706\",\"P159\",\"P276\",\"P27\",\"P41\",\"P411\",\"P360\",\"P541\",\"P172\",\"P1343\",\"P1142\",\"P1387\",\"P2632\",\"P17\",\"P166\",\"P669\",\"P969\",\"P170\",\"P607\",\"P241\",\"P463\",\"P921\",\"P551\",\"P2596\",\"P1181\",\"P40\",\"P298\",\"P462\",\"P108\",\"P1416\",\"P91\",\"P1269\",\"P16\",\"P629\",\"P1344\",\"P275\",\"P195\",\"P50\",\"P98\",\"P179\",\"P39\",\"P355\",\"P735\",\"P1705\",\"P22\",\"P25\",\"P26\",\"P180\",\"P301\",\"P1151\",\"P1080\",\"P1434\",\"P1441\",\"P123\",\"P162\",\"P178\",\"P395\",\"P460\",\"P971\",\"P424\",\"P5973\",\"P305\",\"P101\",\"P5137\",\"P2650\",\"P610\",\"P2044\",\"P119\",\"P485\",\"P3091\",\"P5972\",\"P2283\"],\"y\":[3357,9509,55,2864,1514,100,1241,39,1,1,13,5,7,505,5,3,1481,104,2,72,6,1,1,2,12,1,1,2,2,38,3,1,4,4,1,16,5,1,1,1,2,1,14,5,2,1,1,30,1,4,13,13,1,2,2,1,1,2,3,1,1,3,6,1,1,1,2,2,2,136,3,1,1,1,1,1,1,1,1,1,4,3,1,4,1,2,1,1,1,1,1,1,1,1],\"type\":\"bar\"}])\n",
       "        } )\n",
       "        </script>\n",
       "    "
      ]
     },
     "execution_count": 9,
     "metadata": {},
     "output_type": "execute_result"
    }
   ],
   "source": [
    "getPropertyPathPredicates('data/all').then((properties) => {\n",
    "    makePlot([{\n",
    "        x: Object.keys(properties).map((prop) => prop.substr(36)),\n",
    "        y: Object.values(properties),\n",
    "        type: 'bar'\n",
    "    }])\n",
    "})"
   ]
  },
  {
   "cell_type": "markdown",
   "metadata": {},
   "source": [
    "## Usage by data model part"
   ]
  },
  {
   "cell_type": "code",
   "execution_count": 4,
   "metadata": {},
   "outputs": [
    {
     "data": {
      "text/html": [
       "\n",
       "        <div id=\"1716\"/>\n",
       "        <script>\n",
       "        requirejs( ['plotly'], function(plotly) {\n",
       "            plotly.newPlot('1716', [{\"x\":[\"qualifiers\",\"references\",\"sitelinks\"],\"y\":[1,2,6],\"type\":\"bar\"}])\n",
       "        } )\n",
       "        </script>\n",
       "    "
      ]
     },
     "execution_count": 3,
     "metadata": {},
     "output_type": "execute_result"
    }
   ],
   "source": [
    "var wiki = 'cywiki'\n",
    "Promise.all([\n",
    "    countInQueries('data/' + wiki, hasQualifiers),\n",
    "    countInQueries('data/' + wiki, hasReferences),\n",
    "    countInQueries('data/' + wiki, hasSitelinks),\n",
    "]).then(([qualifiers, references, sitelinks]) => {\n",
    "    makePlot([{\n",
    "        x: ['qualifiers', 'references', 'sitelinks'],\n",
    "        y: [qualifiers, references, sitelinks],\n",
    "        type: 'bar'\n",
    "    }])\n",
    "})"
   ]
  },
  {
   "cell_type": "code",
   "execution_count": 2,
   "metadata": {},
   "outputs": [
    {
     "data": {
      "text/html": [
       "\n",
       "        <div id=\"5722\"/>\n",
       "        <script>\n",
       "        requirejs( ['plotly'], function(plotly) {\n",
       "            plotly.newPlot('5722', [{\"x\":[\"qualifiers\",\"references\",\"sitelinks\"],\"y\":[37,1,44],\"type\":\"bar\"}])\n",
       "        } )\n",
       "        </script>\n",
       "    "
      ]
     },
     "execution_count": 2,
     "metadata": {},
     "output_type": "execute_result"
    }
   ],
   "source": [
    "var wiki = 'dewiki'\n",
    "Promise.all([\n",
    "    countInQueries('data/' + wiki, hasQualifiers),\n",
    "    countInQueries('data/' + wiki, hasReferences),\n",
    "    countInQueries('data/' + wiki, hasSitelinks),\n",
    "]).then(([qualifiers, references, sitelinks]) => {\n",
    "    makePlot([{\n",
    "        x: ['qualifiers', 'references', 'sitelinks'],\n",
    "        y: [qualifiers, references, sitelinks],\n",
    "        type: 'bar'\n",
    "    }])\n",
    "})"
   ]
  },
  {
   "cell_type": "code",
   "execution_count": 4,
   "metadata": {},
   "outputs": [
    {
     "data": {
      "text/html": [
       "\n",
       "        <div id=\"4777\"/>\n",
       "        <script>\n",
       "        requirejs( ['plotly'], function(plotly) {\n",
       "            plotly.newPlot('4777', [{\"x\":[\"qualifiers\",\"references\",\"sitelinks\"],\"y\":[114,2,641],\"type\":\"bar\"}])\n",
       "        } )\n",
       "        </script>\n",
       "    "
      ]
     },
     "execution_count": 4,
     "metadata": {},
     "output_type": "execute_result"
    }
   ],
   "source": [
    "var wiki = 'enwiki'\n",
    "Promise.all([\n",
    "    countInQueries('data/' + wiki, hasQualifiers),\n",
    "    countInQueries('data/' + wiki, hasReferences),\n",
    "    countInQueries('data/' + wiki, hasSitelinks),\n",
    "]).then(([qualifiers, references, sitelinks]) => {\n",
    "    makePlot([{\n",
    "        x: ['qualifiers', 'references', 'sitelinks'],\n",
    "        y: [qualifiers, references, sitelinks],\n",
    "        type: 'bar'\n",
    "    }])\n",
    "})"
   ]
  },
  {
   "cell_type": "code",
   "execution_count": 5,
   "metadata": {},
   "outputs": [
    {
     "data": {
      "text/html": [
       "\n",
       "        <div id=\"4760\"/>\n",
       "        <script>\n",
       "        requirejs( ['plotly'], function(plotly) {\n",
       "            plotly.newPlot('4760', [{\"x\":[\"qualifiers\",\"references\",\"sitelinks\"],\"y\":[8,0,5],\"type\":\"bar\"}])\n",
       "        } )\n",
       "        </script>\n",
       "    "
      ]
     },
     "execution_count": 5,
     "metadata": {},
     "output_type": "execute_result"
    }
   ],
   "source": [
    "var wiki = 'euwiki'\n",
    "Promise.all([\n",
    "    countInQueries('data/' + wiki, hasQualifiers),\n",
    "    countInQueries('data/' + wiki, hasReferences),\n",
    "    countInQueries('data/' + wiki, hasSitelinks),\n",
    "]).then(([qualifiers, references, sitelinks]) => {\n",
    "    makePlot([{\n",
    "        x: ['qualifiers', 'references', 'sitelinks'],\n",
    "        y: [qualifiers, references, sitelinks],\n",
    "        type: 'bar'\n",
    "    }])\n",
    "})"
   ]
  },
  {
   "cell_type": "code",
   "execution_count": 6,
   "metadata": {},
   "outputs": [
    {
     "data": {
      "text/html": [
       "\n",
       "        <div id=\"8788\"/>\n",
       "        <script>\n",
       "        requirejs( ['plotly'], function(plotly) {\n",
       "            plotly.newPlot('8788', [{\"x\":[\"qualifiers\",\"references\",\"sitelinks\"],\"y\":[929,30,451],\"type\":\"bar\"}])\n",
       "        } )\n",
       "        </script>\n",
       "    "
      ]
     },
     "execution_count": 6,
     "metadata": {},
     "output_type": "execute_result"
    }
   ],
   "source": [
    "var wiki = 'wikidatawiki'\n",
    "Promise.all([\n",
    "    countInQueries('data/' + wiki, hasQualifiers),\n",
    "    countInQueries('data/' + wiki, hasReferences),\n",
    "    countInQueries('data/' + wiki, hasSitelinks),\n",
    "]).then(([qualifiers, references, sitelinks]) => {\n",
    "    makePlot([{\n",
    "        x: ['qualifiers', 'references', 'sitelinks'],\n",
    "        y: [qualifiers, references, sitelinks],\n",
    "        type: 'bar'\n",
    "    }])\n",
    "})"
   ]
  },
  {
   "cell_type": "code",
   "execution_count": 10,
   "metadata": {},
   "outputs": [
    {
     "data": {
      "text/html": [
       "\n",
       "        <div id=\"2649\"/>\n",
       "        <script>\n",
       "        requirejs( ['plotly'], function(plotly) {\n",
       "            plotly.newPlot('2649', [{\"x\":[\"qualifiers\",\"references\",\"sitelinks\"],\"y\":[1089,35,1146],\"type\":\"bar\"}])\n",
       "        } )\n",
       "        </script>\n",
       "    "
      ]
     },
     "execution_count": 10,
     "metadata": {},
     "output_type": "execute_result"
    }
   ],
   "source": [
    "var wiki = 'all'\n",
    "Promise.all([\n",
    "    countInQueries('data/' + wiki, hasQualifiers),\n",
    "    countInQueries('data/' + wiki, hasReferences),\n",
    "    countInQueries('data/' + wiki, hasSitelinks),\n",
    "]).then(([qualifiers, references, sitelinks]) => {\n",
    "    makePlot([{\n",
    "        x: ['qualifiers', 'references', 'sitelinks'],\n",
    "        y: [qualifiers, references, sitelinks],\n",
    "        type: 'bar'\n",
    "    }])\n",
    "})"
   ]
  }
 ],
 "metadata": {
  "kernelspec": {
   "display_name": "Javascript (Node.js)",
   "language": "javascript",
   "name": "javascript"
  },
  "language_info": {
   "file_extension": ".js",
   "mimetype": "application/javascript",
   "name": "javascript",
   "version": "13.7.0"
  }
 },
 "nbformat": 4,
 "nbformat_minor": 4
}
